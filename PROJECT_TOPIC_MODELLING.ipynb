{
 "cells": [
  {
   "cell_type": "markdown",
   "metadata": {},
   "source": [
    "# PRAVEER SAXENA\n",
    "BATCH 1814"
   ]
  },
  {
   "cell_type": "markdown",
   "metadata": {},
   "source": [
    "# PROJECT: TOPIC MODELLING"
   ]
  },
  {
   "cell_type": "markdown",
   "metadata": {},
   "source": [
    "# Let us Import the required libraries"
   ]
  },
  {
   "cell_type": "code",
   "execution_count": 1,
   "metadata": {},
   "outputs": [],
   "source": [
    "#Import required libraries\n",
    "import nltk\n",
    "import spacy\n",
    "import re\n",
    "import numpy as np\n",
    "import pandas as pd\n",
    "from pprint import pprint\n",
    "\n",
    "# Gensim\n",
    "import gensim\n",
    "import gensim.corpora as corpora\n",
    "from gensim.utils import simple_preprocess\n",
    "from gensim.models import CoherenceModel\n",
    "\n",
    "\n",
    "# Plotting tools\n",
    "import pyLDAvis\n",
    "import pyLDAvis.gensim  # don't skip this\n",
    "import matplotlib.pyplot as plt\n",
    "%matplotlib inline\n",
    "\n",
    "# Enable logging for gensim - optional\n",
    "import logging\n",
    "logging.basicConfig(format='%(asctime)s : %(levelname)s : %(message)s', level=logging.ERROR)\n",
    "\n",
    "import warnings\n",
    "warnings.filterwarnings(\"ignore\",category=DeprecationWarning)"
   ]
  },
  {
   "cell_type": "markdown",
   "metadata": {},
   "source": [
    "# Let us Import The Data"
   ]
  },
  {
   "cell_type": "raw",
   "metadata": {},
   "source": [
    "We will be using the 20-Newsgroups dataset for this exercise. This version of the dataset contains about 11k newsgroups posts from 20 different topics. This is available as newsgroups.json."
   ]
  },
  {
   "cell_type": "code",
   "execution_count": 2,
   "metadata": {},
   "outputs": [
    {
     "name": "stdout",
     "output_type": "stream",
     "text": [
      "['rec.autos' 'comp.sys.mac.hardware' 'comp.graphics' 'sci.space'\n",
      " 'talk.politics.guns' 'sci.med' 'comp.sys.ibm.pc.hardware'\n",
      " 'comp.os.ms-windows.misc' 'rec.motorcycles' 'talk.religion.misc'\n",
      " 'misc.forsale' 'alt.atheism' 'sci.electronics' 'comp.windows.x'\n",
      " 'rec.sport.hockey' 'rec.sport.baseball' 'soc.religion.christian'\n",
      " 'talk.politics.mideast' 'talk.politics.misc' 'sci.crypt']\n"
     ]
    }
   ],
   "source": [
    "# Import Dataset\n",
    "df = pd.read_json('https://raw.githubusercontent.com/selva86/datasets/master/newsgroups.json')\n",
    "print(df.target_names.unique())\n"
   ]
  },
  {
   "cell_type": "code",
   "execution_count": 3,
   "metadata": {},
   "outputs": [
    {
     "data": {
      "text/html": [
       "<div>\n",
       "<style scoped>\n",
       "    .dataframe tbody tr th:only-of-type {\n",
       "        vertical-align: middle;\n",
       "    }\n",
       "\n",
       "    .dataframe tbody tr th {\n",
       "        vertical-align: top;\n",
       "    }\n",
       "\n",
       "    .dataframe thead th {\n",
       "        text-align: right;\n",
       "    }\n",
       "</style>\n",
       "<table border=\"1\" class=\"dataframe\">\n",
       "  <thead>\n",
       "    <tr style=\"text-align: right;\">\n",
       "      <th></th>\n",
       "      <th>content</th>\n",
       "      <th>target</th>\n",
       "      <th>target_names</th>\n",
       "    </tr>\n",
       "  </thead>\n",
       "  <tbody>\n",
       "    <tr>\n",
       "      <th>0</th>\n",
       "      <td>From: lerxst@wam.umd.edu (where's my thing)\\nS...</td>\n",
       "      <td>7</td>\n",
       "      <td>rec.autos</td>\n",
       "    </tr>\n",
       "    <tr>\n",
       "      <th>1</th>\n",
       "      <td>From: guykuo@carson.u.washington.edu (Guy Kuo)...</td>\n",
       "      <td>4</td>\n",
       "      <td>comp.sys.mac.hardware</td>\n",
       "    </tr>\n",
       "    <tr>\n",
       "      <th>2</th>\n",
       "      <td>From: twillis@ec.ecn.purdue.edu (Thomas E Will...</td>\n",
       "      <td>4</td>\n",
       "      <td>comp.sys.mac.hardware</td>\n",
       "    </tr>\n",
       "    <tr>\n",
       "      <th>3</th>\n",
       "      <td>From: jgreen@amber (Joe Green)\\nSubject: Re: W...</td>\n",
       "      <td>1</td>\n",
       "      <td>comp.graphics</td>\n",
       "    </tr>\n",
       "    <tr>\n",
       "      <th>4</th>\n",
       "      <td>From: jcm@head-cfa.harvard.edu (Jonathan McDow...</td>\n",
       "      <td>14</td>\n",
       "      <td>sci.space</td>\n",
       "    </tr>\n",
       "  </tbody>\n",
       "</table>\n",
       "</div>"
      ],
      "text/plain": [
       "                                             content  target  \\\n",
       "0  From: lerxst@wam.umd.edu (where's my thing)\\nS...       7   \n",
       "1  From: guykuo@carson.u.washington.edu (Guy Kuo)...       4   \n",
       "2  From: twillis@ec.ecn.purdue.edu (Thomas E Will...       4   \n",
       "3  From: jgreen@amber (Joe Green)\\nSubject: Re: W...       1   \n",
       "4  From: jcm@head-cfa.harvard.edu (Jonathan McDow...      14   \n",
       "\n",
       "            target_names  \n",
       "0              rec.autos  \n",
       "1  comp.sys.mac.hardware  \n",
       "2  comp.sys.mac.hardware  \n",
       "3          comp.graphics  \n",
       "4              sci.space  "
      ]
     },
     "execution_count": 3,
     "metadata": {},
     "output_type": "execute_result"
    }
   ],
   "source": [
    "#Lets visualize the first five rows  of data\n",
    "df.head()"
   ]
  },
  {
   "cell_type": "markdown",
   "metadata": {},
   "source": [
    "# Our Models will be built on the column 'Content'. "
   ]
  },
  {
   "cell_type": "markdown",
   "metadata": {},
   "source": [
    "\n",
    "# Let us prepare Stopwords"
   ]
  },
  {
   "cell_type": "code",
   "execution_count": 4,
   "metadata": {},
   "outputs": [],
   "source": [
    "# NLTK Stop words\n",
    "from nltk.corpus import stopwords\n",
    "stop_words = stopwords.words('english')\n",
    "stop_words.extend(['from', 'subject', 're', 'edu', 'use'])"
   ]
  },
  {
   "cell_type": "markdown",
   "metadata": {},
   "source": [
    "#  Let us remove emails and newline characters"
   ]
  },
  {
   "cell_type": "code",
   "execution_count": 5,
   "metadata": {},
   "outputs": [],
   "source": [
    "# Convert to list\n",
    "data = df.content.values.tolist()\n",
    "\n",
    "# Remove Emails\n",
    "data = [re.sub('\\S*@\\S*\\s?', '', sent) for sent in data]\n",
    "\n",
    "# Remove new line characters\n",
    "data = [re.sub('\\s+', ' ', sent) for sent in data]\n",
    "\n",
    "# Remove distracting single quotes\n",
    "data = [re.sub(\"\\'\", \"\", sent) for sent in data]"
   ]
  },
  {
   "cell_type": "markdown",
   "metadata": {},
   "source": [
    "# Let us Tokenize words and Clean-up text"
   ]
  },
  {
   "cell_type": "code",
   "execution_count": 6,
   "metadata": {
    "scrolled": true
   },
   "outputs": [
    {
     "name": "stdout",
     "output_type": "stream",
     "text": [
      "[['from', 'wheres', 'my', 'thing', 'subject', 'what', 'car', 'is', 'this', 'nntp', 'posting', 'host', 'rac', 'wam', 'umd', 'edu', 'organization', 'university', 'of', 'maryland', 'college', 'park', 'lines', 'was', 'wondering', 'if', 'anyone', 'out', 'there', 'could', 'enlighten', 'me', 'on', 'this', 'car', 'saw', 'the', 'other', 'day', 'it', 'was', 'door', 'sports', 'car', 'looked', 'to', 'be', 'from', 'the', 'late', 'early', 'it', 'was', 'called', 'bricklin', 'the', 'doors', 'were', 'really', 'small', 'in', 'addition', 'the', 'front', 'bumper', 'was', 'separate', 'from', 'the', 'rest', 'of', 'the', 'body', 'this', 'is', 'all', 'know', 'if', 'anyone', 'can', 'tellme', 'model', 'name', 'engine', 'specs', 'years', 'of', 'production', 'where', 'this', 'car', 'is', 'made', 'history', 'or', 'whatever', 'info', 'you', 'have', 'on', 'this', 'funky', 'looking', 'car', 'please', 'mail', 'thanks', 'il', 'brought', 'to', 'you', 'by', 'your', 'neighborhood', 'lerxst']]\n"
     ]
    }
   ],
   "source": [
    "def sent_to_words(sentences):\n",
    "    for sentence in sentences:\n",
    "        yield(gensim.utils.simple_preprocess(str(sentence), deacc=True))  # deacc=True removes punctuations\n",
    "\n",
    "data_words = list(sent_to_words(data))\n",
    "\n",
    "print(data_words[:1])"
   ]
  },
  {
   "cell_type": "markdown",
   "metadata": {},
   "source": [
    "# Let us Create Bigram and Trigram Models"
   ]
  },
  {
   "cell_type": "code",
   "execution_count": 7,
   "metadata": {},
   "outputs": [
    {
     "name": "stdout",
     "output_type": "stream",
     "text": [
      "['from', 'wheres', 'my', 'thing', 'subject', 'what', 'car', 'is', 'this', 'nntp_posting_host', 'rac_wam_umd_edu', 'organization', 'university', 'of', 'maryland_college_park', 'lines', 'was', 'wondering', 'if', 'anyone', 'out', 'there', 'could', 'enlighten', 'me', 'on', 'this', 'car', 'saw', 'the', 'other', 'day', 'it', 'was', 'door', 'sports', 'car', 'looked', 'to', 'be', 'from', 'the', 'late', 'early', 'it', 'was', 'called', 'bricklin', 'the', 'doors', 'were', 'really', 'small', 'in', 'addition', 'the', 'front_bumper', 'was', 'separate', 'from', 'the', 'rest', 'of', 'the', 'body', 'this', 'is', 'all', 'know', 'if', 'anyone', 'can', 'tellme', 'model', 'name', 'engine', 'specs', 'years', 'of', 'production', 'where', 'this', 'car', 'is', 'made', 'history', 'or', 'whatever', 'info', 'you', 'have', 'on', 'this', 'funky', 'looking', 'car', 'please', 'mail', 'thanks', 'il', 'brought', 'to', 'you', 'by', 'your', 'neighborhood', 'lerxst']\n"
     ]
    }
   ],
   "source": [
    "# Build the bigram and trigram models\n",
    "bigram = gensim.models.Phrases(data_words, min_count=5, threshold=100) # higher threshold fewer phrases.\n",
    "trigram = gensim.models.Phrases(bigram[data_words], threshold=100)  \n",
    "\n",
    "# Faster way to get a sentence clubbed as a trigram/bigram\n",
    "bigram_mod = gensim.models.phrases.Phraser(bigram)\n",
    "trigram_mod = gensim.models.phrases.Phraser(trigram)\n",
    "\n",
    "# See trigram example\n",
    "print(trigram_mod[bigram_mod[data_words[0]]])"
   ]
  },
  {
   "cell_type": "markdown",
   "metadata": {},
   "source": [
    "# Let us Remove Stopwords, Make Bigrams and Lemmatize"
   ]
  },
  {
   "cell_type": "code",
   "execution_count": 8,
   "metadata": {},
   "outputs": [],
   "source": [
    "# Define functions for stopwords, bigrams, trigrams and lemmatization\n",
    "def remove_stopwords(texts):\n",
    "    return [[word for word in simple_preprocess(str(doc)) if word not in stop_words] for doc in texts]\n",
    "\n",
    "def make_bigrams(texts):\n",
    "    return [bigram_mod[doc] for doc in texts]\n",
    "\n",
    "def make_trigrams(texts):\n",
    "    return [trigram_mod[bigram_mod[doc]] for doc in texts]\n",
    "\n",
    "def lemmatization(texts, allowed_postags=['NOUN', 'ADJ', 'VERB', 'ADV']):\n",
    "    \n",
    "    texts_out = []\n",
    "    for sent in texts:\n",
    "        doc = nlp(\" \".join(sent)) \n",
    "        texts_out.append([token.lemma_ for token in doc if token.pos_ in allowed_postags])\n",
    "    return texts_out"
   ]
  },
  {
   "cell_type": "markdown",
   "metadata": {},
   "source": [
    "# Let’s call the functions in order."
   ]
  },
  {
   "cell_type": "code",
   "execution_count": 9,
   "metadata": {},
   "outputs": [
    {
     "name": "stdout",
     "output_type": "stream",
     "text": [
      "[['where', 'thing', 'car', 'nntp_poste', 'host', 'park', 'line', 'wonder', 'could', 'enlighten', 'car', 'see', 'day', 'door', 'sport', 'car', 'look', 'late', 'early', 'call', 'door', 'really', 'small', 'addition', 'separate', 'rest', 'body', 'know', 'model', 'name', 'engine', 'spec', 'year', 'production', 'car', 'make', 'history', 'info', 'funky', 'look', 'car', 'mail', 'thank', 'bring', 'neighborhood', 'lerxst']]\n"
     ]
    }
   ],
   "source": [
    "# Remove Stop Words\n",
    "data_words_nostops = remove_stopwords(data_words)\n",
    "\n",
    "# Form Bigrams\n",
    "data_words_bigrams = make_bigrams(data_words_nostops)\n",
    "\n",
    "# Initialize spacy 'enen_core_web_sm' model, keeping only tagger component (for efficiency)\n",
    "nlp = spacy.load('en_core_web_sm', disable=['parser', 'ner'])\n",
    "\n",
    "# Do lemmatization keeping only noun, adj, vb, adv\n",
    "data_lemmatized = lemmatization(data_words_bigrams, allowed_postags=['NOUN', 'ADJ', 'VERB', 'ADV'])\n",
    "\n",
    "print(data_lemmatized[:1])"
   ]
  },
  {
   "cell_type": "markdown",
   "metadata": {},
   "source": [
    "# Lets us Create the Dictionary and Corpus needed for Topic Modeling"
   ]
  },
  {
   "cell_type": "code",
   "execution_count": 10,
   "metadata": {},
   "outputs": [
    {
     "name": "stdout",
     "output_type": "stream",
     "text": [
      "[[(0, 1), (1, 1), (2, 1), (3, 1), (4, 5), (5, 1), (6, 1), (7, 2), (8, 1), (9, 1), (10, 1), (11, 1), (12, 1), (13, 1), (14, 1), (15, 1), (16, 1), (17, 1), (18, 1), (19, 2), (20, 1), (21, 1), (22, 1), (23, 1), (24, 1), (25, 1), (26, 1), (27, 1), (28, 1), (29, 1), (30, 1), (31, 1), (32, 1), (33, 1), (34, 1), (35, 1), (36, 1), (37, 1), (38, 1), (39, 1)]]\n"
     ]
    }
   ],
   "source": [
    "# Create Dictionary\n",
    "id2word = corpora.Dictionary(data_lemmatized)\n",
    "\n",
    "# Create Corpus\n",
    "texts = data_lemmatized\n",
    "\n",
    "# Term Document Frequency\n",
    "corpus = [id2word.doc2bow(text) for text in texts]\n",
    "\n",
    "# View\n",
    "print(corpus[:1])"
   ]
  },
  {
   "cell_type": "code",
   "execution_count": 11,
   "metadata": {},
   "outputs": [
    {
     "data": {
      "text/plain": [
       "'addition'"
      ]
     },
     "execution_count": 11,
     "metadata": {},
     "output_type": "execute_result"
    }
   ],
   "source": [
    "#If you want to see what word a given id corresponds to, pass the id as a key to the dictionary.\n",
    "\n",
    "id2word[0]"
   ]
  },
  {
   "cell_type": "code",
   "execution_count": 12,
   "metadata": {},
   "outputs": [
    {
     "data": {
      "text/plain": [
       "[[('addition', 1),\n",
       "  ('body', 1),\n",
       "  ('bring', 1),\n",
       "  ('call', 1),\n",
       "  ('car', 5),\n",
       "  ('could', 1),\n",
       "  ('day', 1),\n",
       "  ('door', 2),\n",
       "  ('early', 1),\n",
       "  ('engine', 1),\n",
       "  ('enlighten', 1),\n",
       "  ('funky', 1),\n",
       "  ('history', 1),\n",
       "  ('host', 1),\n",
       "  ('info', 1),\n",
       "  ('know', 1),\n",
       "  ('late', 1),\n",
       "  ('lerxst', 1),\n",
       "  ('line', 1),\n",
       "  ('look', 2),\n",
       "  ('mail', 1),\n",
       "  ('make', 1),\n",
       "  ('model', 1),\n",
       "  ('name', 1),\n",
       "  ('neighborhood', 1),\n",
       "  ('nntp_poste', 1),\n",
       "  ('park', 1),\n",
       "  ('production', 1),\n",
       "  ('really', 1),\n",
       "  ('rest', 1),\n",
       "  ('see', 1),\n",
       "  ('separate', 1),\n",
       "  ('small', 1),\n",
       "  ('spec', 1),\n",
       "  ('sport', 1),\n",
       "  ('thank', 1),\n",
       "  ('thing', 1),\n",
       "  ('where', 1),\n",
       "  ('wonder', 1),\n",
       "  ('year', 1)]]"
      ]
     },
     "execution_count": 12,
     "metadata": {},
     "output_type": "execute_result"
    }
   ],
   "source": [
    "# Human readable format of corpus (term-frequency)\n",
    "[[(id2word[id], freq) for id, freq in cp] for cp in corpus[:1]]"
   ]
  },
  {
   "cell_type": "markdown",
   "metadata": {},
   "source": [
    "# Let us Build the Topic Model"
   ]
  },
  {
   "cell_type": "code",
   "execution_count": 13,
   "metadata": {},
   "outputs": [],
   "source": [
    "# Build LDA model\n",
    "lda_model = gensim.models.ldamodel.LdaModel(corpus=corpus,\n",
    "                                           id2word=id2word,\n",
    "                                           num_topics=20, \n",
    "                                           random_state=100,\n",
    "                                           update_every=1,\n",
    "                                           chunksize=100,\n",
    "                                           passes=10,\n",
    "                                           alpha='auto',\n",
    "                                           per_word_topics=True)"
   ]
  },
  {
   "cell_type": "markdown",
   "metadata": {},
   "source": [
    "# Let us view the topics in LDA model"
   ]
  },
  {
   "cell_type": "code",
   "execution_count": 14,
   "metadata": {},
   "outputs": [
    {
     "name": "stdout",
     "output_type": "stream",
     "text": [
      "[(0,\n",
      "  '0.175*\"file\" + 0.073*\"entry\" + 0.057*\"error\" + 0.052*\"display\" + '\n",
      "  '0.041*\"program\" + 0.030*\"sun\" + 0.025*\"version\" + 0.024*\"cool\" + '\n",
      "  '0.020*\"output\" + 0.020*\"crash\"'),\n",
      " (1,\n",
      "  '0.032*\"would\" + 0.026*\"say\" + 0.022*\"think\" + 0.022*\"people\" + 0.020*\"go\" + '\n",
      "  '0.018*\"know\" + 0.016*\"make\" + 0.016*\"see\" + 0.014*\"come\" + 0.013*\"thing\"'),\n",
      " (2,\n",
      "  '0.091*\"evidence\" + 0.048*\"book\" + 0.041*\"faith\" + 0.037*\"reason\" + '\n",
      "  '0.033*\"exist\" + 0.032*\"claim\" + 0.031*\"religion\" + 0.029*\"believe\" + '\n",
      "  '0.027*\"christian\" + 0.023*\"church\"'),\n",
      " (3,\n",
      "  '0.541*\"ax\" + 0.054*\"car\" + 0.028*\"player\" + 0.014*\"engine\" + 0.009*\"dealer\" '\n",
      "  '+ 0.009*\"mile\" + 0.009*\"expensive\" + 0.009*\"here\" + 0.008*\"extra\" + '\n",
      "  '0.008*\"specify\"'),\n",
      " (4,\n",
      "  '0.087*\"belief\" + 0.084*\"internet\" + 0.079*\"atheist\" + 0.061*\"distribution\" '\n",
      "  '+ 0.053*\"wing\" + 0.041*\"atheism\" + 0.038*\"printer\" + 0.034*\"interface\" + '\n",
      "  '0.026*\"multiple\" + 0.020*\"thinking\"'),\n",
      " (5,\n",
      "  '0.088*\"normal\" + 0.072*\"port\" + 0.071*\"mouse\" + 0.053*\"hole\" + 0.036*\"cap\" '\n",
      "  '+ 0.034*\"expansion\" + 0.033*\"default\" + 0.026*\"compute\" + 0.026*\"noise\" + '\n",
      "  '0.013*\"characteristic\"'),\n",
      " (6,\n",
      "  '0.034*\"include\" + 0.023*\"provide\" + 0.023*\"report\" + 0.021*\"receive\" + '\n",
      "  '0.021*\"follow\" + 0.021*\"name\" + 0.018*\"build\" + 0.017*\"return\" + '\n",
      "  '0.015*\"open\" + 0.014*\"suggest\"'),\n",
      " (7,\n",
      "  '0.123*\"chip\" + 0.074*\"bit\" + 0.072*\"speed\" + 0.060*\"device\" + 0.058*\"tape\" '\n",
      "  '+ 0.052*\"slow\" + 0.040*\"bus\" + 0.038*\"scsi\" + 0.037*\"direct\" + '\n",
      "  '0.036*\"mode\"'),\n",
      " (8,\n",
      "  '0.152*\"team\" + 0.103*\"play\" + 0.059*\"year\" + 0.053*\"season\" + 0.045*\"fan\" + '\n",
      "  '0.036*\"trade\" + 0.026*\"pen\" + 0.023*\"lose\" + 0.021*\"last\" + 0.016*\"next\"'),\n",
      " (9,\n",
      "  '0.021*\"year\" + 0.016*\"also\" + 0.014*\"may\" + 0.014*\"first\" + 0.011*\"work\" + '\n",
      "  '0.010*\"high\" + 0.010*\"talk\" + 0.009*\"case\" + 0.009*\"make\" + 0.009*\"power\"'),\n",
      " (10,\n",
      "  '0.052*\"system\" + 0.050*\"drive\" + 0.041*\"use\" + 0.038*\"run\" + '\n",
      "  '0.034*\"problem\" + 0.028*\"window\" + 0.027*\"card\" + 0.024*\"program\" + '\n",
      "  '0.021*\"driver\" + 0.021*\"software\"'),\n",
      " (11,\n",
      "  '0.085*\"space\" + 0.053*\"science\" + 0.024*\"scientific\" + 0.024*\"review\" + '\n",
      "  '0.023*\"orbit\" + 0.023*\"launch\" + 0.022*\"earth\" + 0.021*\"mission\" + '\n",
      "  '0.020*\"development\" + 0.019*\"vehicle\"'),\n",
      " (12,\n",
      "  '0.140*\"game\" + 0.116*\"gun\" + 0.070*\"win\" + 0.048*\"fire\" + 0.047*\"hit\" + '\n",
      "  '0.036*\"weapon\" + 0.035*\"shoot\" + 0.024*\"cop\" + 0.019*\"run\" + 0.016*\"carry\"'),\n",
      " (13,\n",
      "  '0.124*\"god\" + 0.110*\"patient\" + 0.054*\"license\" + 0.050*\"univ\" + '\n",
      "  '0.048*\"treatment\" + 0.042*\"disease\" + 0.035*\"medical\" + 0.033*\"health\" + '\n",
      "  '0.027*\"ticket\" + 0.020*\"deliver\"'),\n",
      " (14,\n",
      "  '0.040*\"kill\" + 0.030*\"israeli\" + 0.028*\"war\" + 0.027*\"soldier\" + '\n",
      "  '0.024*\"attack\" + 0.024*\"village\" + 0.023*\"child\" + 0.021*\"murder\" + '\n",
      "  '0.017*\"turkish\" + 0.016*\"force\"'),\n",
      " (15,\n",
      "  '0.098*\"goal\" + 0.077*\"moral\" + 0.059*\"animal\" + 0.046*\"link\" + '\n",
      "  '0.034*\"morality\" + 0.029*\"warrant\" + 0.028*\"scale\" + 0.027*\"relationship\" + '\n",
      "  '0.026*\"depth\" + 0.024*\"percentage\"'),\n",
      " (16,\n",
      "  '0.048*\"image\" + 0.045*\"color\" + 0.040*\"code\" + 0.039*\"source\" + 0.037*\"com\" '\n",
      "  '+ 0.032*\"available\" + 0.030*\"server\" + 0.027*\"format\" + 0.026*\"function\" + '\n",
      "  '0.025*\"information\"'),\n",
      " (17,\n",
      "  '0.111*\"motif\" + 0.067*\"session\" + 0.048*\"unknown\" + 0.028*\"moslem\" + '\n",
      "  '0.021*\"ruin\" + 0.020*\"testing\" + 0.019*\"ratio\" + 0.017*\"okay\" + '\n",
      "  '0.005*\"verification\" + 0.005*\"automate\"'),\n",
      " (18,\n",
      "  '0.074*\"line\" + 0.047*\"write\" + 0.030*\"article\" + 0.024*\"host\" + '\n",
      "  '0.022*\"nntp_poste\" + 0.022*\"organization\" + 0.021*\"get\" + 0.019*\"be\" + '\n",
      "  '0.016*\"need\" + 0.014*\"thank\"'),\n",
      " (19,\n",
      "  '0.030*\"key\" + 0.027*\"state\" + 0.021*\"law\" + 0.020*\"government\" + '\n",
      "  '0.018*\"issue\" + 0.017*\"public\" + 0.014*\"right\" + 0.013*\"use\" + '\n",
      "  '0.011*\"system\" + 0.010*\"case\"')]\n"
     ]
    }
   ],
   "source": [
    "# Print the Keyword in the topics\n",
    "pprint(lda_model.print_topics())\n",
    "doc_lda = lda_model[corpus]"
   ]
  },
  {
   "cell_type": "markdown",
   "metadata": {},
   "source": [
    "# Let us Compute Model Perplexity and Coherence Score"
   ]
  },
  {
   "cell_type": "code",
   "execution_count": 15,
   "metadata": {},
   "outputs": [
    {
     "name": "stdout",
     "output_type": "stream",
     "text": [
      "\n",
      "Perplexity:  -12.486406875717059\n",
      "\n",
      "Coherence Score:  0.49295862559888937\n"
     ]
    }
   ],
   "source": [
    "# Compute Perplexity\n",
    "print('\\nPerplexity: ', lda_model.log_perplexity(corpus))  # a measure of how good the model is. lower the better.\n",
    "\n",
    "# Compute Coherence Score\n",
    "coherence_model_lda = CoherenceModel(model=lda_model, texts=data_lemmatized, dictionary=id2word, coherence='c_v')\n",
    "coherence_lda = coherence_model_lda.get_coherence()\n",
    "print('\\nCoherence Score: ', coherence_lda)"
   ]
  },
  {
   "cell_type": "markdown",
   "metadata": {},
   "source": [
    "# Let us Visualize the topics-keywords"
   ]
  },
  {
   "cell_type": "code",
   "execution_count": 18,
   "metadata": {},
   "outputs": [
    {
     "data": {
      "text/html": [
       "\n",
       "<link rel=\"stylesheet\" type=\"text/css\" href=\"/nbextensions/ldavis.v1.0.0.css\">\n",
       "\n",
       "\n",
       "<div id=\"ldavis_el82004820811435683607168098\"></div>\n",
       "<script type=\"text/javascript\">\n",
       "\n",
       "var ldavis_el82004820811435683607168098_data = {\"mdsDat\": {\"x\": [-0.33536408335231405, -0.3020937137232052, -0.27170324414006286, -0.21309584723619313, 0.014950996410040553, -0.1447820836598241, -0.12929713675819637, -0.061629053056687706, -0.0043501927939109414, -0.017451031864445986, 0.06986665601753742, 0.11924847488146798, 0.10936382356336755, 0.0857003289548253, 0.13127148351391746, 0.16093614027685949, 0.17248622761378365, 0.19859042974709112, 0.20052508789486867, 0.2168267377110812], \"y\": [-0.21826683891744836, -0.14549598629058616, -0.004746296244659525, 0.10149784631130385, 0.12097820050798692, 0.26747112564649606, 0.18651809056868407, -0.07571310724081998, 0.06157179119964247, -0.0933369891489357, 0.07390156206224863, 0.021320951906005595, -0.008475925272723494, -0.05533850312614304, -0.009901694840097047, -0.03733866358699925, -0.04285710402208503, -0.044309149859633204, -0.04863206961585023, -0.04884724003638782], \"topics\": [1, 2, 3, 4, 5, 6, 7, 8, 9, 10, 11, 12, 13, 14, 15, 16, 17, 18, 19, 20], \"cluster\": [1, 1, 1, 1, 1, 1, 1, 1, 1, 1, 1, 1, 1, 1, 1, 1, 1, 1, 1, 1], \"Freq\": [28.081539154052734, 18.16107749938965, 15.58717155456543, 8.115519523620605, 5.748415470123291, 5.6837544441223145, 5.130858898162842, 2.1277434825897217, 1.9728494882583618, 1.9260601997375488, 1.423660397529602, 1.1528054475784302, 1.039022445678711, 0.971762478351593, 0.8841148614883423, 0.6973112225532532, 0.4497207701206207, 0.37532079219818115, 0.33440908789634705, 0.13687573373317719]}, \"tinfo\": {\"Term\": [\"ax\", \"line\", \"write\", \"year\", \"people\", \"say\", \"file\", \"car\", \"system\", \"article\", \"reason\", \"drive\", \"use\", \"would\", \"think\", \"believe\", \"evidence\", \"host\", \"problem\", \"team\", \"nntp_poste\", \"organization\", \"game\", \"run\", \"bit\", \"go\", \"key\", \"program\", \"get\", \"be\", \"say\", \"think\", \"never\", \"sense\", \"happen\", \"wrong\", \"agree\", \"feel\", \"death\", \"explain\", \"accept\", \"love\", \"die\", \"truth\", \"thing\", \"certainly\", \"human\", \"story\", \"young\", \"conclusion\", \"spend\", \"reality\", \"guy\", \"doubt\", \"nature\", \"obviously\", \"realize\", \"revelation\", \"knowledge\", \"respect\", \"come\", \"even\", \"tell\", \"s\", \"remember\", \"life\", \"mind\", \"see\", \"go\", \"bad\", \"people\", \"let\", \"would\", \"seem\", \"can\", \"world\", \"way\", \"take\", \"know\", \"could\", \"man\", \"mean\", \"make\", \"well\", \"give\", \"many\", \"time\", \"point\", \"believe\", \"good\", \"may\", \"be\", \"reason\", \"write\", \"line\", \"host\", \"nntp_poste\", \"organization\", \"thank\", \"buy\", \"price\", \"sell\", \"net\", \"sale\", \"phone\", \"interested\", \"distribution_usa\", \"advance\", \"light\", \"cheap\", \"disk\", \"pass\", \"wonder\", \"news\", \"stuff\", \"soon\", \"bike\", \"network\", \"nice\", \"office\", \"ride\", \"anyway\", \"eat\", \"keyword\", \"summary\", \"reply\", \"article\", \"mail\", \"write\", \"post\", \"help\", \"need\", \"get\", \"look\", \"d\", \"new\", \"be\", \"send\", \"want\", \"good\", \"have\", \"find\", \"question\", \"know\", \"call\", \"try\", \"would\", \"work\", \"use\", \"pay\", \"money\", \"whole\", \"speak\", \"face\", \"purpose\", \"level\", \"increase\", \"effect\", \"usually\", \"head\", \"stand\", \"risk\", \"save\", \"job\", \"publish\", \"university\", \"condition\", \"grant\", \"serious\", \"division\", \"major\", \"forget\", \"shall\", \"necessary\", \"replace\", \"family\", \"advice\", \"ground\", \"reduce\", \"cost\", \"large\", \"result\", \"small\", \"talk\", \"couple\", \"compare\", \"less\", \"cover\", \"low\", \"study\", \"difference\", \"power\", \"year\", \"high\", \"lead\", \"first\", \"close\", \"often\", \"base\", \"also\", \"area\", \"cause\", \"case\", \"work\", \"may\", \"end\", \"other\", \"number\", \"part\", \"make\", \"time\", \"much\", \"well\", \"key\", \"law\", \"public\", \"encryption\", \"protect\", \"security\", \"private\", \"block\", \"secure\", \"legal\", \"willing\", \"operate\", \"tap\", \"trial\", \"clipper\", \"criminal\", \"agency\", \"prevent\", \"master\", \"secret\", \"firearm\", \"room\", \"national\", \"false\", \"teach\", \"court\", \"state\", \"processor\", \"worry\", \"house\", \"crime\", \"citizen\", \"government\", \"drug\", \"issue\", \"religious\", \"individual\", \"rate\", \"right\", \"case\", \"use\", \"allow\", \"person\", \"system\", \"information\", \"group\", \"standard\", \"technology\", \"country\", \"message\", \"provide\", \"ax\", \"car\", \"player\", \"engine\", \"dealer\", \"mile\", \"expensive\", \"here\", \"extra\", \"specify\", \"clean\", \"insurance\", \"gift\", \"door\", \"saturn\", \"dual\", \"oil\", \"fuel\", \"production\", \"export\", \"floor\", \"gas\", \"auto\", \"coverage\", \"own\", \"combine\", \"heat\", \"finger\", \"huge\", \"reflect\", \"drive\", \"window\", \"card\", \"driver\", \"software\", \"machine\", \"test\", \"memory\", \"application\", \"appreciate\", \"screen\", \"instal\", \"graphic\", \"package\", \"score\", \"monitor\", \"hardware\", \"pc\", \"performance\", \"feature\", \"board\", \"apple\", \"library\", \"manager\", \"convert\", \"load\", \"though\", \"laboratory\", \"resolution\", \"running\", \"run\", \"system\", \"user\", \"computer\", \"problem\", \"program\", \"use\", \"set\", \"support\", \"datum\", \"fast\", \"work\", \"also\", \"receive\", \"suggest\", \"section\", \"wire\", \"input\", \"video\", \"main\", \"community\", \"notice\", \"special\", \"meet\", \"avoid\", \"internal\", \"ignore\", \"cpu\", \"proper\", \"addition\", \"future\", \"weight\", \"external\", \"count\", \"hot\", \"significant\", \"cable\", \"official\", \"particularly\", \"communication\", \"hide\", \"blank\", \"cycle\", \"report\", \"return\", \"include\", \"open\", \"provide\", \"build\", \"name\", \"follow\", \"date\", \"press\", \"member\", \"address\", \"several\", \"must\", \"number\", \"create\", \"non\", \"evidence\", \"book\", \"faith\", \"religion\", \"christian\", \"church\", \"character\", \"logic\", \"clearly\", \"christianity\", \"context\", \"reject\", \"scripture\", \"excuse\", \"thread\", \"german\", \"biblical\", \"enjoy\", \"writing\", \"left\", \"corner\", \"careful\", \"trivial\", \"elsewhere\", \"classic\", \"leadership\", \"applicable\", \"superior\", \"gentile\", \"largely\", \"language\", \"bother\", \"exist\", \"argument\", \"claim\", \"deny\", \"reason\", \"prove\", \"believe\", \"indeed\", \"word\", \"question\", \"quote\", \"true\", \"jewish\", \"follow\", \"answer\", \"image\", \"color\", \"com\", \"server\", \"format\", \"object\", \"update\", \"faq\", \"trust\", \"font\", \"compile\", \"map\", \"utility\", \"pointer\", \"mercy\", \"duo\", \"scare\", \"label\", \"generic\", \"postscript\", \"leather\", \"stroke\", \"retrieve\", \"fuzzy\", \"stuck\", \"roman\", \"fate\", \"compiler\", \"winter\", \"observer\", \"code\", \"function\", \"correction\", \"expire\", \"author\", \"source\", \"contain\", \"vendor\", \"available\", \"text\", \"information\", \"send\", \"list\", \"draw\", \"info\", \"include\", \"page\", \"email\", \"program\", \"mail\", \"israeli\", \"war\", \"soldier\", \"village\", \"turkish\", \"bomb\", \"greek\", \"withdraw\", \"occupy\", \"armenian\", \"turk\", \"civilian\", \"town\", \"northern\", \"rocket\", \"girl\", \"inhabitant\", \"russian\", \"invasion\", \"arab\", \"troop\", \"escape\", \"genocide\", \"muslim\", \"stone\", \"slaughter\", \"massacre\", \"tear\", \"rape\", \"occupation\", \"disarm\", \"murder\", \"peace\", \"kill\", \"terrorism\", \"attack\", \"military\", \"land\", \"child\", \"jewish\", \"force\", \"woman\", \"people\", \"man\", \"government\", \"space\", \"science\", \"scientific\", \"review\", \"orbit\", \"launch\", \"mission\", \"development\", \"vehicle\", \"boy\", \"digital\", \"air\", \"satellite\", \"plane\", \"moon\", \"flight\", \"requirement\", \"facility\", \"schedule\", \"shuttle\", \"factory\", \"conference\", \"confirm\", \"role\", \"experiment\", \"lunar\", \"publication\", \"radiation\", \"sky\", \"investigation\", \"earth\", \"project\", \"research\", \"technical\", \"field\", \"program\", \"file\", \"entry\", \"error\", \"display\", \"sun\", \"cool\", \"output\", \"crash\", \"water\", \"solid\", \"nuclear\", \"configuration\", \"icon\", \"cylinder\", \"implementation\", \"stream\", \"electrical\", \"terminal\", \"entity\", \"dump\", \"thermal\", \"edit\", \"creator\", \"download\", \"parameter\", \"angel\", \"allocate\", \"openwindow\", \"grip\", \"reactor\", \"version\", \"size\", \"program\", \"game\", \"gun\", \"hit\", \"weapon\", \"cop\", \"pitch\", \"yesterday\", \"trip\", \"knock\", \"revolver\", \"trigger\", \"glass\", \"weeks_ago\", \"colt\", \"annoy\", \"turning\", \"prescription\", \"tank\", \"ok\", \"cock\", \"shoot\", \"fire\", \"along\", \"pistol\", \"confrontation\", \"tie\", \"win\", \"defense\", \"arm\", \"victory\", \"steal\", \"carry\", \"pull\", \"watch\", \"home\", \"run\", \"police\", \"spot\", \"throw\", \"kill\", \"team\", \"season\", \"fan\", \"trade\", \"pen\", \"finish\", \"decent\", \"devil\", \"cross\", \"blue\", \"penalty\", \"penguin\", \"leafs\", \"captain\", \"suitable\", \"volt\", \"cage\", \"flyer\", \"mid\", \"leak\", \"retire\", \"oiler\", \"thumb\", \"play\", \"lemieux\", \"sabre\", \"voting\", \"scorer\", \"philly\", \"tighten\", \"year\", \"final\", \"lose\", \"period\", \"last\", \"pick\", \"next\", \"opportunity\", \"second\", \"top\", \"first\", \"chip\", \"speed\", \"device\", \"tape\", \"slow\", \"bus\", \"scsi\", \"direct\", \"ide\", \"meaning\", \"daughter\", \"backup\", \"spacecraft\", \"restore\", \"meter\", \"installation\", \"maximum\", \"quadra\", \"tip\", \"dry\", \"sgi\", \"sister\", \"synchronous\", \"consent\", \"acceptance\", \"stall\", \"esdi\", \"mode\", \"bit\", \"fasst\", \"fast\", \"wide\", \"vendor\", \"version\", \"belief\", \"internet\", \"atheist\", \"distribution\", \"wing\", \"atheism\", \"printer\", \"interface\", \"multiple\", \"thinking\", \"routine\", \"widget\", \"greatly_appreciate\", \"guilty\", \"modem\", \"extension\", \"fish\", \"hi\", \"phase\", \"exposure\", \"quit\", \"partially\", \"ease\", \"redesign\", \"boundary\", \"dialog\", \"inappropriate\", \"module\", \"integration\", \"cubic\", \"core\", \"god\", \"patient\", \"license\", \"univ\", \"treatment\", \"disease\", \"medical\", \"health\", \"ticket\", \"deliver\", \"preach\", \"medicine\", \"physician\", \"traditional\", \"conviction\", \"glad\", \"subjective\", \"creature\", \"emphasis\", \"glory\", \"strictly\", \"publicly\", \"adequately\", \"accidentally\", \"treat\", \"tumor\", \"brain\", \"dn\", \"eeg\", \"diagnosis\", \"goal\", \"moral\", \"animal\", \"link\", \"morality\", \"warrant\", \"scale\", \"relationship\", \"depth\", \"percentage\", \"imho\", \"translate\", \"arbitrary\", \"scene\", \"thick\", \"worthwhile\", \"swear\", \"incidentally\", \"cart\", \"jubilees_re\", \"nec_zx\", \"wild_corn\", \"thesis\", \"rude\", \"pack\", \"specie\", \"omniscient\", \"immoral\", \"premise\", \"schneider\", \"self\", \"slave\", \"normal\", \"port\", \"mouse\", \"hole\", \"cap\", \"expansion\", \"default\", \"compute\", \"noise\", \"characteristic\", \"compress\", \"adjust\", \"disable\", \"licensing\", \"curve\", \"worse\", \"complexity\", \"incline\", \"vitamin\", \"everytime\", \"escalate\", \"switch\", \"ok\", \"slave\", \"irq\", \"keyboard\", \"marker\", \"loading\", \"edge\", \"connector\", \"ripem\", \"pin\", \"choose\", \"motif\", \"session\", \"unknown\", \"moslem\", \"ruin\", \"testing\", \"ratio\", \"okay\", \"verification\", \"automate\", \"birthday\", \"elderly\", \"sharing\", \"defenseless\", \"accelerator\", \"commercial\", \"telnet\", \"slip\", \"localtalk\", \"mac\", \"translation\", \"modifier\", \"os\", \"xpm\", \"willow\", \"kjg\", \"ff\", \"prophet\", \"route\", \"redistribute\", \"judgement\", \"tomorrow\", \"announcement\", \"baby\"], \"Freq\": [36366.0, 15681.0, 13138.0, 4567.0, 7716.0, 8663.0, 2357.0, 3608.0, 4535.0, 7665.0, 3205.0, 3297.0, 5852.0, 12699.0, 7239.0, 3143.0, 2273.0, 5023.0, 3794.0, 1727.0, 4742.0, 4665.0, 1701.0, 2777.0, 1774.0, 7157.0, 2814.0, 2540.0, 6400.0, 7371.0, 8662.193359375, 7238.4326171875, 2397.433837890625, 1772.6248779296875, 1769.9312744140625, 1443.8380126953125, 1335.5533447265625, 1201.3212890625, 1155.5845947265625, 1049.02001953125, 1036.7257080078125, 1026.3626708984375, 1002.4830322265625, 842.6078491210938, 4367.2978515625, 782.2113647460938, 760.1351318359375, 708.6967163085938, 695.876220703125, 693.2991333007812, 667.6556396484375, 608.0552978515625, 665.085693359375, 517.1474609375, 502.0322265625, 500.9293212890625, 493.5939025878906, 491.47137451171875, 489.8974304199219, 459.26995849609375, 4472.623046875, 3887.532470703125, 3136.828369140625, 3217.124755859375, 1200.927734375, 1455.5938720703125, 903.8189086914062, 5301.71630859375, 6718.87353515625, 1994.5545654296875, 7087.2470703125, 1904.705810546875, 10454.294921875, 2697.550537109375, 3133.76953125, 1412.5914306640625, 3372.46728515625, 3631.35888671875, 5802.60205078125, 3748.304931640625, 1855.481201171875, 2249.338134765625, 5336.51123046875, 3753.513427734375, 3076.640869140625, 2993.282470703125, 4036.79345703125, 2718.532470703125, 2431.28759765625, 3347.361083984375, 3430.287353515625, 3343.422119140625, 2280.7783203125, 3070.939453125, 15680.529296875, 5022.20263671875, 4741.09765625, 4664.8095703125, 2963.041259765625, 1614.797119140625, 1352.672607421875, 1260.627685546875, 1065.9345703125, 1028.110107421875, 1001.1197509765625, 982.6792602539062, 977.1412353515625, 848.0729370117188, 825.8156127929688, 793.3383178710938, 788.8828735351562, 786.8185424804688, 769.6307983398438, 765.3734741210938, 739.5272827148438, 705.5359497070312, 688.656982421875, 636.9654541015625, 613.7982177734375, 523.9981689453125, 517.2373046875, 492.15374755859375, 488.2846374511719, 475.3592834472656, 614.6502685546875, 2370.386474609375, 6281.13330078125, 1980.86572265625, 10066.8623046875, 2131.84716796875, 2283.80224609375, 3478.05859375, 4466.642578125, 2830.765869140625, 1957.5858154296875, 2294.03466796875, 4026.97607421875, 1521.4483642578125, 2449.113525390625, 2518.84814453125, 1571.7080078125, 1845.6800537109375, 1580.6016845703125, 2246.618896484375, 1508.492919921875, 1554.55712890625, 2113.662109375, 1469.4686279296875, 1399.505126953125, 1293.7862548828125, 1251.9583740234375, 1095.0067138671875, 1013.7872314453125, 983.5156860351562, 896.2656860351562, 885.3331909179688, 883.0160522460938, 826.7894897460938, 795.4237670898438, 751.9996337890625, 672.8673706054688, 663.3819580078125, 655.3902587890625, 653.1906127929688, 629.9747924804688, 626.83203125, 600.4608154296875, 599.5952758789062, 589.578369140625, 587.2742919921875, 574.8578491210938, 574.8179321289062, 574.0840454101562, 573.1539306640625, 572.9076538085938, 540.869873046875, 526.4052734375, 508.96551513671875, 504.9270324707031, 1224.2049560546875, 1441.6688232421875, 1099.5948486328125, 1224.0252685546875, 1748.528564453125, 880.9268188476562, 802.8764038085938, 1515.7767333984375, 789.9283447265625, 1118.0458984375, 797.7152099609375, 906.5491333007812, 1554.762939453125, 3767.6494140625, 1844.710693359375, 1099.7147216796875, 2512.688720703125, 1062.0810546875, 1010.7728881835938, 1277.8502197265625, 2954.666015625, 998.8751831054688, 1105.613525390625, 1675.2667236328125, 2009.765869140625, 2597.428955078125, 1327.309326171875, 1038.37646484375, 1278.7353515625, 1182.2452392578125, 1671.073486328125, 1115.3458251953125, 1060.9503173828125, 1059.0960693359375, 2813.77880859375, 1961.8643798828125, 1620.2513427734375, 814.9719848632812, 735.7791748046875, 712.17333984375, 664.4779052734375, 574.559326171875, 486.8932189941406, 457.7883605957031, 447.96783447265625, 444.4109191894531, 441.3871154785156, 436.64935302734375, 417.0522766113281, 398.6861877441406, 388.8658752441406, 379.6556396484375, 378.8926696777344, 377.44464111328125, 370.1612548828125, 363.2583923339844, 363.0289306640625, 359.85552978515625, 354.96783447265625, 350.4448547363281, 2570.2685546875, 346.5932312011719, 339.0645751953125, 337.699462890625, 596.1701049804688, 532.001953125, 1864.4815673828125, 686.5462036132812, 1719.8095703125, 638.3245849609375, 547.8497314453125, 693.3104858398438, 1311.6265869140625, 932.631591796875, 1218.2318115234375, 684.2322387695312, 702.498779296875, 1011.55859375, 751.0352783203125, 797.3240966796875, 554.6981811523438, 582.9426879882812, 519.6324462890625, 596.3035278320312, 546.0692138671875, 36364.8984375, 3607.571044921875, 1882.1060791015625, 949.4300537109375, 630.35107421875, 589.1597290039062, 579.4210205078125, 576.055908203125, 569.108642578125, 551.9998779296875, 520.7077026367188, 519.4672241210938, 512.813232421875, 474.83233642578125, 449.9256896972656, 434.0762634277344, 382.6154479980469, 376.8952941894531, 352.1302490234375, 350.805908203125, 327.3959655761719, 321.92156982421875, 317.98828125, 292.6679382324219, 273.50311279296875, 273.3604431152344, 264.57684326171875, 264.05352783203125, 261.6937255859375, 253.348388671875, 3296.55908203125, 1884.4952392578125, 1793.4417724609375, 1417.22900390625, 1380.213623046875, 1239.00732421875, 1032.6832275390625, 964.67041015625, 863.670166015625, 781.2904052734375, 776.640625, 732.2932739257812, 703.3723754882812, 670.840576171875, 639.7780151367188, 639.3843383789062, 600.150634765625, 530.112548828125, 499.42242431640625, 443.6596984863281, 394.32373046875, 371.0551452636719, 358.077392578125, 355.5632019042969, 338.9366149902344, 302.1492919921875, 293.0543212890625, 292.6009826660156, 265.98468017578125, 257.50396728515625, 2534.531982421875, 3455.89599609375, 794.4200439453125, 1211.205810546875, 2268.219482421875, 1594.4635009765625, 2731.099365234375, 1210.6241455078125, 981.103271484375, 646.8717651367188, 576.1713256835938, 938.5448608398438, 713.666748046875, 1262.139892578125, 862.1904907226562, 744.290771484375, 719.755126953125, 659.9476318359375, 629.7236328125, 540.3148803710938, 528.1973266601562, 512.3596801757812, 512.3435668945312, 460.2507019042969, 454.5793762207031, 443.16998291015625, 440.26898193359375, 416.4000549316406, 412.89013671875, 409.5071716308594, 383.3031921386719, 382.76312255859375, 381.9338073730469, 370.76922607421875, 369.2015686035156, 367.3413391113281, 358.8228454589844, 358.6676330566406, 355.2115173339844, 354.9654541015625, 335.8415222167969, 311.22369384765625, 305.5387268066406, 1355.468017578125, 1045.8245849609375, 2034.9937744140625, 919.48046875, 1408.5059814453125, 1082.9852294921875, 1231.9075927734375, 1245.2674560546875, 462.2705993652344, 459.09344482421875, 567.6015014648438, 686.154541015625, 580.5482177734375, 738.6317138671875, 773.3430786132812, 540.1563110351562, 443.8714599609375, 2272.316162109375, 1199.6629638671875, 1026.516845703125, 781.2316284179688, 661.3582153320312, 571.6224975585938, 445.7958679199219, 377.1549987792969, 348.86865234375, 308.8070983886719, 246.43215942382812, 242.3826141357422, 239.593017578125, 225.99046325683594, 210.5364532470703, 152.35610961914062, 141.64584350585938, 129.68167114257812, 128.68856811523438, 126.06658172607422, 113.8860855102539, 103.87149810791016, 97.74397277832031, 88.9651870727539, 86.84952545166016, 72.93054962158203, 64.55891418457031, 61.57402038574219, 59.475982666015625, 55.21291732788086, 193.5571746826172, 187.40447998046875, 826.75, 498.3837890625, 805.3856201171875, 289.5090637207031, 923.4647827148438, 386.7451171875, 710.981201171875, 252.55906677246094, 384.9263610839844, 471.8708190917969, 206.7344207763672, 331.64453125, 210.80282592773438, 273.24639892578125, 224.64959716796875, 1101.882080078125, 1039.65380859375, 843.5181884765625, 684.5800170898438, 632.365234375, 525.8897094726562, 413.939697265625, 411.01116943359375, 395.055908203125, 318.019775390625, 277.3565673828125, 219.8939666748047, 196.4842987060547, 180.43170166015625, 179.92300415039062, 135.1734619140625, 119.53594207763672, 115.18275451660156, 90.26721954345703, 84.75812530517578, 78.81141662597656, 77.9434585571289, 69.92976379394531, 66.93634033203125, 64.86859130859375, 59.68399429321289, 56.78886032104492, 54.163143157958984, 51.00522232055664, 48.729339599609375, 920.4517211914062, 601.2225341796875, 119.39152526855469, 109.85133361816406, 375.9272155761719, 895.3507690429688, 506.248291015625, 121.36319732666016, 742.138916015625, 318.4080505371094, 575.21875, 531.656494140625, 392.3648376464844, 249.4899444580078, 256.9691162109375, 297.5433349609375, 195.55751037597656, 220.97450256347656, 250.6815643310547, 231.5569305419922, 670.3516235351562, 636.9727172851562, 597.899169921875, 531.1494750976562, 372.0042724609375, 350.33843994140625, 340.85137939453125, 333.4513244628906, 330.4903869628906, 299.0299987792969, 298.70263671875, 261.0916748046875, 249.94613647460938, 224.26995849609375, 210.4691925048828, 206.42578125, 184.76690673828125, 174.91860961914062, 169.52194213867188, 167.7186279296875, 159.49307250976562, 157.54449462890625, 127.56755828857422, 125.45355987548828, 105.94731140136719, 97.1535415649414, 94.3737564086914, 93.31437683105469, 92.93482208251953, 91.0180435180664, 118.99454498291016, 482.16339111328125, 275.5830383300781, 896.2083129882812, 208.25851440429688, 538.5441284179688, 312.532958984375, 286.2941589355469, 512.4503784179688, 261.1667175292969, 356.7977600097656, 225.31634521484375, 341.8327331542969, 246.87879943847656, 245.3665313720703, 1411.3040771484375, 883.1105346679688, 404.13690185546875, 391.2061767578125, 379.9090270996094, 375.5694885253906, 353.7676696777344, 339.08990478515625, 311.4637451171875, 302.3412170410156, 301.81341552734375, 300.9216613769531, 277.64044189453125, 276.6951599121094, 245.11053466796875, 237.0945587158203, 227.88160705566406, 219.92506408691406, 206.9702911376953, 185.2235565185547, 169.9659881591797, 161.43923950195312, 158.98031616210938, 158.6480712890625, 146.162353515625, 140.85423278808594, 137.7748565673828, 134.5937042236328, 125.2800064086914, 123.42092895507812, 367.1345520019531, 215.72129821777344, 278.3162536621094, 180.0920867919922, 163.3101806640625, 147.57330322265625, 2356.54541015625, 986.4901733398438, 767.8494262695312, 706.9401245117188, 409.7781066894531, 329.4656066894531, 271.5452880859375, 266.7350158691406, 232.97714233398438, 202.69180297851562, 189.06556701660156, 183.9959716796875, 177.2423095703125, 175.38966369628906, 169.68304443359375, 166.23814392089844, 152.7052459716797, 144.34396362304688, 127.80203247070312, 125.10472106933594, 119.22393035888672, 107.06619262695312, 106.96537017822266, 93.32466888427734, 86.34091186523438, 85.01091766357422, 66.0401611328125, 54.812599182128906, 46.4034423828125, 43.55961227416992, 340.2769470214844, 247.42312622070312, 547.1035766601562, 1700.16455078125, 1408.5277099609375, 566.469482421875, 433.2040710449219, 294.1125793457031, 198.06854248046875, 189.28634643554688, 139.5984649658203, 90.25385284423828, 86.85614013671875, 85.34735107421875, 50.869815826416016, 47.053955078125, 41.13780212402344, 36.181976318359375, 28.318695068359375, 26.509973526000977, 179.6504669189453, 138.67901611328125, 10.48582649230957, 420.2843933105469, 579.36865234375, 9.039241790771484, 7.343780040740967, 6.882500171661377, 140.1066436767578, 853.2312622070312, 171.62948608398438, 160.5592498779297, 17.481407165527344, 137.85154724121094, 199.621826171875, 107.24504852294922, 117.49790954589844, 147.4549560546875, 234.8299102783203, 92.6256103515625, 50.39928436279297, 59.098724365234375, 69.57025146484375, 1725.95751953125, 596.7432250976562, 508.9478454589844, 406.0813293457031, 298.3294982910156, 176.01657104492188, 174.20741271972656, 165.48606872558594, 163.41287231445312, 157.63949584960938, 136.05746459960938, 135.85543823242188, 98.13418579101562, 94.13496398925781, 90.25645446777344, 84.24766540527344, 78.74669647216797, 77.14969635009766, 61.143550872802734, 50.826202392578125, 50.373085021972656, 41.007328033447266, 39.011749267578125, 1171.93994140625, 34.12276840209961, 33.053924560546875, 29.600814819335938, 28.296276092529297, 23.137611389160156, 21.973289489746094, 672.0540771484375, 133.89736938476562, 256.8251037597656, 118.93305969238281, 237.7379608154297, 129.2711944580078, 184.0386962890625, 61.01671600341797, 81.07229614257812, 63.99530792236328, 70.14032745361328, 1268.7154541015625, 742.8822631835938, 623.06005859375, 602.3171997070312, 536.6016845703125, 418.3136901855469, 390.2598571777344, 382.323486328125, 264.6127624511719, 184.78802490234375, 157.40774536132812, 117.6679458618164, 101.86144256591797, 86.82560729980469, 86.10367584228516, 84.8079833984375, 68.6019058227539, 65.98816680908203, 64.42300415039062, 63.46433639526367, 61.8551025390625, 48.907310485839844, 30.318422317504883, 27.974544525146484, 15.213935852050781, 12.510108947753906, 7.320605754852295, 374.7939758300781, 761.0709838867188, 0.6846356987953186, 260.6330261230469, 78.12628173828125, 21.88621711730957, 23.450820922851562, 712.140625, 680.6404418945312, 643.3834228515625, 499.9563903808594, 430.2779235839844, 332.11663818359375, 307.3304138183594, 276.5650329589844, 213.2230987548828, 162.05332946777344, 148.42185974121094, 147.25315856933594, 142.63211059570312, 136.5377960205078, 134.4082794189453, 105.65132141113281, 102.79981994628906, 98.56684875488281, 93.21330261230469, 82.15099334716797, 81.17106628417969, 47.07692337036133, 39.454742431640625, 35.266849517822266, 33.14192199707031, 30.5864315032959, 26.995447158813477, 21.904266357421875, 18.79381561279297, 17.51905632019043, 44.95701217651367, 649.4591674804688, 579.5144653320312, 284.7811279296875, 263.07745361328125, 250.89105224609375, 220.9633026123047, 182.46807861328125, 171.11087036132812, 139.58729553222656, 106.33590698242188, 89.95275115966797, 80.09642028808594, 77.52072143554688, 77.01528930664062, 72.88966369628906, 53.790489196777344, 45.63818359375, 42.505859375, 38.297855377197266, 32.37451934814453, 29.268375396728516, 25.74094009399414, 24.04893684387207, 17.87134552001953, 50.357276916503906, 0.041431017220020294, 0.041429851204156876, 0.04142776131629944, 0.04142778739333153, 0.04142317175865173, 429.8376159667969, 336.51824951171875, 259.6632385253906, 202.7899627685547, 147.59088134765625, 125.19953155517578, 122.15108489990234, 116.28009796142578, 112.24285888671875, 107.22868347167969, 91.49169158935547, 62.172882080078125, 52.36431884765625, 35.76066970825195, 32.642948150634766, 32.33279037475586, 30.323455810546875, 23.2901668548584, 13.654243469238281, 13.455713272094727, 13.452683448791504, 13.107276916503906, 10.609610557556152, 10.048877716064453, 13.903280258178711, 0.049659423530101776, 0.04965626448392868, 0.04965591058135033, 0.0496557354927063, 0.049655064940452576, 0.049655742943286896, 0.04965595901012421, 341.99957275390625, 280.8876953125, 278.2969970703125, 206.98919677734375, 140.3734893798828, 132.12515258789062, 127.23080444335938, 102.3637924194336, 101.89047241210938, 52.3870735168457, 49.21488952636719, 29.483964920043945, 27.033641815185547, 25.995447158813477, 25.55426025390625, 24.763141632080078, 21.469738006591797, 20.315214157104492, 13.794262886047363, 10.581515312194824, 7.54846715927124, 50.45674133300781, 7.821731090545654, 0.0459313802421093, 0.04592588543891907, 0.045926377177238464, 0.04592462629079819, 0.045923247933387756, 0.045924920588731766, 0.045923467725515366, 0.04592563211917877, 0.04592515900731087, 0.04592512547969818, 177.34078979492188, 107.00992584228516, 76.42803955078125, 45.017364501953125, 33.48115158081055, 32.3101806640625, 31.009864807128906, 26.393707275390625, 8.659116744995117, 7.832671642303467, 6.065736293792725, 5.346773624420166, 5.197560787200928, 1.4257714748382568, 0.02600998803973198, 0.026010314002633095, 0.02600809745490551, 0.02600688673555851, 0.026006773114204407, 0.026006782427430153, 0.0260069128125906, 0.026005929335951805, 0.026006121188402176, 0.026005944237113, 0.026005944237113, 0.026005944237113, 0.02600572630763054, 0.026006054133176804, 0.026006849482655525, 0.02600562386214733, 0.02600591816008091, 0.026005994528532028, 0.026006106287240982, 0.026005961000919342], \"Total\": [36366.0, 15681.0, 13138.0, 4567.0, 7716.0, 8663.0, 2357.0, 3608.0, 4535.0, 7665.0, 3205.0, 3297.0, 5852.0, 12699.0, 7239.0, 3143.0, 2273.0, 5023.0, 3794.0, 1727.0, 4742.0, 4665.0, 1701.0, 2777.0, 1774.0, 7157.0, 2814.0, 2540.0, 6400.0, 7371.0, 8663.375, 7239.61572265625, 2398.615966796875, 1773.8072509765625, 1771.1136474609375, 1445.0203857421875, 1336.7357177734375, 1202.503662109375, 1156.7669677734375, 1050.202392578125, 1037.9080810546875, 1027.5450439453125, 1003.6651611328125, 843.7899780273438, 4373.765625, 783.3934936523438, 761.3172607421875, 709.8788452148438, 697.058349609375, 694.4812622070312, 668.8377685546875, 609.2374267578125, 666.4793701171875, 518.32958984375, 503.2143859863281, 502.1114807128906, 494.77606201171875, 492.6535339355469, 491.07958984375, 460.4521179199219, 4535.048828125, 3936.8427734375, 3185.42041015625, 3333.18310546875, 1220.0784912109375, 1486.787109375, 914.4715576171875, 5584.5986328125, 7157.66357421875, 2052.552490234375, 7716.46142578125, 2029.176025390625, 12699.0234375, 2964.70556640625, 3516.90576171875, 1492.593994140625, 4034.513427734375, 4510.5869140625, 8050.3359375, 4926.41796875, 2103.479248046875, 2663.9501953125, 7811.072265625, 5061.10693359375, 4011.7529296875, 3930.225830078125, 6087.7421875, 3633.21533203125, 3143.399169921875, 5927.22216796875, 7290.00048828125, 7371.513671875, 3205.37353515625, 13138.9150390625, 15681.7099609375, 5023.3857421875, 4742.28076171875, 4665.99267578125, 2964.223388671875, 1615.9793701171875, 1353.8548583984375, 1261.8099365234375, 1067.1168212890625, 1029.2923583984375, 1002.3017578125, 983.8612670898438, 978.3232421875, 849.2549438476562, 826.9976196289062, 794.5203247070312, 790.0648803710938, 788.0005493164062, 770.8128051757812, 766.5554809570312, 740.7092895507812, 706.7179565429688, 689.8389892578125, 638.1474609375, 614.980224609375, 525.18017578125, 518.4193115234375, 493.3358154296875, 489.4667053222656, 476.5413513183594, 616.298095703125, 2451.39892578125, 7665.11962890625, 2213.5283203125, 13138.9150390625, 2421.309326171875, 2647.010009765625, 4232.8125, 6400.9658203125, 3855.076904296875, 2497.005126953125, 3112.26708984375, 7371.513671875, 2054.21044921875, 4398.939453125, 5927.22216796875, 2740.496337890625, 3805.431640625, 2951.454345703125, 8050.3359375, 3002.603271484375, 3967.605712890625, 12699.0234375, 4418.85986328125, 5852.51904296875, 1294.96533203125, 1253.137451171875, 1096.185791015625, 1014.9660034179688, 984.6944580078125, 897.4444580078125, 886.511962890625, 884.19482421875, 827.96826171875, 796.6025390625, 753.1784057617188, 674.046142578125, 664.5607299804688, 656.5690307617188, 654.369384765625, 631.153564453125, 628.0108032226562, 601.6395874023438, 600.7740478515625, 590.7571411132812, 588.4530639648438, 576.03662109375, 575.9967041015625, 575.2628173828125, 574.3327026367188, 574.08642578125, 542.0486450195312, 527.5840454101562, 510.1444091796875, 506.1059265136719, 1232.728271484375, 1466.2669677734375, 1112.88232421875, 1243.292724609375, 1793.64404296875, 892.4100952148438, 811.9288940429688, 1573.319091796875, 799.8314819335938, 1150.1473388671875, 809.9981079101562, 931.2642822265625, 1693.425537109375, 4567.64599609375, 2095.530517578125, 1202.71240234375, 3440.810302734375, 1190.4945068359375, 1122.755615234375, 1624.5458984375, 5787.2431640625, 1177.7718505859375, 1401.0020751953125, 3019.491455078125, 4418.85986328125, 7290.00048828125, 2101.48046875, 1282.2335205078125, 2890.08544921875, 2253.022216796875, 7811.072265625, 6087.7421875, 3589.888427734375, 5061.10693359375, 2814.958251953125, 1963.043701171875, 1621.4306640625, 816.151123046875, 736.9583129882812, 713.3524780273438, 665.6570434570312, 575.7384643554688, 488.07244873046875, 458.96759033203125, 449.1470642089844, 445.59014892578125, 442.56634521484375, 437.8285827636719, 418.23150634765625, 399.86541748046875, 390.04510498046875, 380.8348693847656, 380.0718994140625, 378.6238708496094, 371.3404846191406, 364.4376220703125, 364.2081604003906, 361.0347595214844, 356.1470642089844, 351.62408447265625, 2578.986083984375, 347.7724609375, 340.2438049316406, 338.8786926269531, 613.5306396484375, 545.4920043945312, 2110.964111328125, 721.9008178710938, 1957.78857421875, 679.4384155273438, 610.0233764648438, 973.9425659179688, 3565.636474609375, 3019.491455078125, 5852.51904296875, 1536.4752197265625, 1679.976318359375, 4535.84765625, 2083.3994140625, 2477.142578125, 956.880615234375, 1165.381103515625, 892.4071655273438, 1754.5220947265625, 1955.68359375, 36366.0390625, 3608.70458984375, 1883.23974609375, 950.5633544921875, 631.484375, 590.2930297851562, 580.5543212890625, 577.189208984375, 570.241943359375, 553.1331787109375, 521.8410034179688, 520.6005249023438, 513.946533203125, 475.96575927734375, 451.0591125488281, 435.2096862792969, 383.7488708496094, 378.0287170410156, 353.263671875, 351.9393310546875, 328.5293884277344, 323.05499267578125, 319.1217041015625, 293.8013610839844, 274.63653564453125, 274.4938659667969, 265.71026611328125, 265.18695068359375, 262.8271484375, 254.4818115234375, 3297.73876953125, 1885.6751708984375, 1794.6217041015625, 1418.408935546875, 1381.3963623046875, 1240.187255859375, 1033.8631591796875, 965.85009765625, 864.849853515625, 782.4700927734375, 777.8203125, 733.4729614257812, 704.5520629882812, 672.020263671875, 640.9577026367188, 640.5640258789062, 601.330322265625, 531.292236328125, 500.6022033691406, 444.8394775390625, 395.5201416015625, 372.23492431640625, 359.2571716308594, 356.74298095703125, 340.11639404296875, 303.3290710449219, 294.2341003417969, 293.78076171875, 267.1644592285156, 258.6837463378906, 2777.59423828125, 4535.84765625, 920.5491333007812, 1583.4288330078125, 3794.48583984375, 2540.795166015625, 5852.51904296875, 1920.6044921875, 1775.416748046875, 924.2246704101562, 974.2476196289062, 4418.85986328125, 5787.2431640625, 1263.318603515625, 863.3690795898438, 745.4693603515625, 720.9337158203125, 661.126220703125, 630.9022216796875, 541.4934692382812, 529.3759155273438, 513.5382690429688, 513.5221557617188, 461.4294128417969, 455.7580871582031, 444.34869384765625, 441.44769287109375, 417.5787658691406, 414.06884765625, 410.6858825683594, 384.4819030761719, 383.94183349609375, 383.1125183105469, 371.94793701171875, 370.3802795410156, 368.5200500488281, 360.0015563964844, 359.8463439941406, 356.3902282714844, 356.1441650390625, 337.0202331542969, 312.40240478515625, 306.7174377441406, 1399.923095703125, 1080.035888671875, 2369.199951171875, 1042.420654296875, 1955.68359375, 1456.4210205078125, 1736.4549560546875, 2208.889404296875, 526.50634765625, 533.8497314453125, 822.1593627929688, 1343.530029296875, 1081.013916015625, 2315.848876953125, 2890.08544921875, 1044.8724365234375, 1148.37451171875, 2273.514404296875, 1200.861328125, 1027.7152099609375, 782.4298095703125, 662.556396484375, 572.8206787109375, 446.994140625, 378.353271484375, 350.0669250488281, 310.00537109375, 247.6304168701172, 243.58087158203125, 240.79127502441406, 227.188720703125, 211.73471069335938, 153.5543670654297, 142.84410095214844, 130.8799285888672, 129.88682556152344, 127.26485443115234, 115.08435821533203, 105.06977081298828, 98.94224548339844, 90.16345977783203, 88.04779815673828, 74.12882232666016, 65.75718688964844, 62.77229690551758, 60.674259185791016, 56.41119384765625, 205.83509826660156, 203.71176147460938, 1534.0224609375, 854.0841674804688, 1803.9830322265625, 486.095947265625, 3205.37353515625, 886.7621459960938, 3143.399169921875, 514.7512817382812, 1264.3817138671875, 2951.454345703125, 420.3988037109375, 1578.6995849609375, 473.10455322265625, 2208.889404296875, 1073.652587890625, 1103.0555419921875, 1040.8272705078125, 844.6915283203125, 685.7533569335938, 633.53857421875, 527.0630493164062, 415.1131286621094, 412.1846008300781, 396.2293395996094, 319.1932067871094, 278.5299987792969, 221.06741333007812, 197.65774536132812, 181.6051483154297, 181.09645080566406, 136.34690856933594, 120.70938873291016, 116.356201171875, 91.44066619873047, 85.93157196044922, 79.98486328125, 79.11690521240234, 71.10321044921875, 68.10978698730469, 66.04203796386719, 60.85744094848633, 57.96230697631836, 55.33658981323242, 52.17866897583008, 49.90278625488281, 977.5469970703125, 752.37646484375, 135.7044219970703, 124.62345123291016, 569.527587890625, 1733.0048828125, 861.1148071289062, 144.36590576171875, 1538.391357421875, 516.0617065429688, 2083.3994140625, 2054.21044921875, 1524.789306640625, 717.6367797851562, 1087.91357421875, 2369.199951171875, 679.375732421875, 1153.720947265625, 2540.795166015625, 2213.5283203125, 671.5382690429688, 638.1593627929688, 599.0858154296875, 532.3361206054688, 373.1910400390625, 351.52520751953125, 342.03814697265625, 334.6380920410156, 331.6771545410156, 300.2167663574219, 299.889404296875, 262.2784423828125, 251.13291931152344, 225.4567413330078, 211.65597534179688, 207.61256408691406, 185.9536895751953, 176.1053924560547, 170.70872497558594, 168.90541076660156, 160.6798553466797, 158.7312774658203, 128.75433349609375, 126.64034271240234, 107.13409423828125, 98.34032440185547, 95.56053924560547, 94.50115966796875, 94.1216049194336, 92.20482635498047, 120.55015563964844, 549.287841796875, 325.2560729980469, 1331.411865234375, 251.180908203125, 883.9273071289062, 513.0230712890625, 488.8172912597656, 1447.19384765625, 473.10455322265625, 984.3975219726562, 678.945068359375, 7716.46142578125, 2103.479248046875, 2110.964111328125, 1412.49365234375, 884.2999267578125, 405.3263854980469, 392.3956604003906, 381.0985107421875, 376.75897216796875, 354.9571533203125, 340.2793884277344, 312.6532287597656, 303.53070068359375, 303.0028991699219, 302.11114501953125, 278.8299255371094, 277.8846435546875, 246.30003356933594, 238.2840576171875, 229.07110595703125, 221.11456298828125, 208.1597900390625, 186.41305541992188, 171.15548706054688, 162.6287384033203, 160.16981506347656, 159.8375701904297, 147.3518524169922, 142.04373168945312, 138.96435546875, 135.783203125, 126.4695053100586, 124.61042785644531, 685.3857421875, 415.4564208984375, 839.4164428710938, 377.7034912109375, 619.8547973632812, 2540.795166015625, 2357.72607421875, 987.6708984375, 769.0301513671875, 708.120849609375, 410.9589538574219, 330.6464538574219, 272.72613525390625, 267.9158630371094, 234.15797424316406, 203.8726348876953, 190.24639892578125, 185.1768035888672, 178.4231414794922, 176.57049560546875, 170.86387634277344, 167.41897583007812, 153.88607788085938, 145.52479553222656, 128.9828643798828, 126.2855453491211, 120.40475463867188, 108.24701690673828, 108.14619445800781, 94.5054931640625, 87.52173614501953, 86.19174194335938, 67.22098541259766, 55.99342727661133, 47.58427047729492, 44.740440368652344, 887.565185546875, 653.1569213867188, 2540.795166015625, 1701.352783203125, 1409.7159423828125, 567.6575317382812, 434.3922119140625, 295.30072021484375, 199.25668334960938, 190.4744873046875, 140.78660583496094, 91.44197845458984, 88.04426574707031, 86.53547668457031, 52.057945251464844, 48.24208450317383, 42.325931549072266, 37.3701057434082, 29.506826400756836, 27.698104858398438, 189.85166931152344, 147.64297485351562, 11.673954963684082, 470.5628356933594, 651.8468627929688, 10.227370262145996, 8.531908988952637, 8.07062816619873, 169.95928955078125, 1057.096435546875, 282.1419982910156, 313.3738098144531, 42.39847946166992, 479.8892517089844, 760.3152465820312, 416.1665344238281, 535.8343505859375, 872.3446044921875, 2777.59423828125, 511.26239013671875, 152.74795532226562, 443.8302917480469, 1331.411865234375, 1727.15283203125, 597.9384155273438, 510.14312744140625, 407.276611328125, 299.5247802734375, 177.2118377685547, 175.40267944335938, 166.68133544921875, 164.60813903808594, 158.8347625732422, 137.2527313232422, 137.0507049560547, 99.32945251464844, 95.33023071289062, 91.45172119140625, 85.44293212890625, 79.94196319580078, 78.34496307373047, 62.33882522583008, 52.02147674560547, 51.568359375, 42.20260238647461, 40.20702362060547, 1209.8807373046875, 35.31804275512695, 34.24919891357422, 30.79608917236328, 29.49155044555664, 24.3328857421875, 23.168563842773438, 4567.64599609375, 398.8314208984375, 1162.8880615234375, 423.21978759765625, 2141.416748046875, 596.4691772460938, 1355.4925537109375, 180.2447967529297, 1264.0396728515625, 567.9898681640625, 3440.810302734375, 1269.9085693359375, 744.0753173828125, 624.2531127929688, 603.51025390625, 537.7947387695312, 419.5068054199219, 391.4529724121094, 383.5166015625, 265.8058776855469, 185.98110961914062, 158.600830078125, 118.86103057861328, 103.05452728271484, 88.01869201660156, 87.29676055908203, 86.00106811523438, 69.79499053955078, 67.1812515258789, 65.6160888671875, 64.65742492675781, 63.04819869995117, 50.100406646728516, 31.511516571044922, 29.167638778686523, 16.40703010559082, 13.703200340270996, 8.513697624206543, 477.9487609863281, 1774.10400390625, 1.8777278661727905, 974.2476196289062, 288.58319091796875, 144.36590576171875, 887.565185546875, 713.3345947265625, 681.8344116210938, 644.577392578125, 501.15045166015625, 431.47198486328125, 333.3106994628906, 308.52447509765625, 277.75909423828125, 214.41714477539062, 163.24737548828125, 149.61590576171875, 148.44720458984375, 143.82615661621094, 137.73184204101562, 135.60232543945312, 106.84536743164062, 103.99386596679688, 99.76089477539062, 94.4073486328125, 83.34503936767578, 82.3651123046875, 48.27096939086914, 40.64878845214844, 36.46089553833008, 34.335968017578125, 31.780475616455078, 28.18949317932129, 23.098310470581055, 19.98785972595215, 18.71310043334961, 83.62066650390625, 650.6677856445312, 580.7230834960938, 285.9897766113281, 264.2861022949219, 252.0996856689453, 222.17193603515625, 183.6767120361328, 172.3195037841797, 140.79592895507812, 107.54454803466797, 91.16139221191406, 81.30506134033203, 78.72936248779297, 78.22393035888672, 74.09830474853516, 54.9991340637207, 46.84682846069336, 43.71450424194336, 39.506500244140625, 33.58316421508789, 30.47701644897461, 26.949581146240234, 25.257577896118164, 19.079986572265625, 365.3431701660156, 1.2500978708267212, 1.250123143196106, 1.2500905990600586, 1.250091552734375, 1.2500876188278198, 431.03802490234375, 337.7186584472656, 260.8636474609375, 203.9903564453125, 148.79127502441406, 126.3999252319336, 123.35147857666016, 117.4804916381836, 113.44325256347656, 108.4290771484375, 92.69208526611328, 63.3732795715332, 53.56471633911133, 36.96106719970703, 33.843345642089844, 33.53318786621094, 31.523853302001953, 24.490564346313477, 14.854640007019043, 14.656109809875488, 14.653079986572266, 14.307673454284668, 11.810007095336914, 11.249274253845215, 319.61578369140625, 1.2500656843185425, 1.2500574588775635, 1.2500693798065186, 1.2500669956207275, 1.2500592470169067, 1.2501436471939087, 1.2502113580703735, 343.2037048339844, 282.0918273925781, 279.5011291503906, 208.1933135986328, 141.57760620117188, 133.3292694091797, 128.43492126464844, 103.56791687011719, 103.09459686279297, 53.59120178222656, 50.41901779174805, 30.688093185424805, 28.237770080566406, 27.199575424194336, 26.75838851928711, 25.967269897460938, 22.673866271972656, 21.51934242248535, 14.998390197753906, 11.785642623901367, 8.752593994140625, 393.8338623046875, 147.64297485351562, 1.2502113580703735, 1.250067949295044, 1.2500988245010376, 1.2500747442245483, 1.2500596046447754, 1.2501055002212524, 1.2500838041305542, 1.2501577138900757, 1.2501673698425293, 1.2501845359802246, 178.56483459472656, 108.23397064208984, 77.65208435058594, 46.24140930175781, 34.705196380615234, 33.53422546386719, 32.233909606933594, 27.61775016784668, 9.883159637451172, 9.05671501159668, 7.289779186248779, 6.570816516876221, 6.421603679656982, 2.6498146057128906, 1.2500859498977661, 1.2501108646392822, 1.2500876188278198, 1.2500773668289185, 1.2500731945037842, 1.2500826120376587, 1.2500940561294556, 1.2500571012496948, 1.2500672340393066, 1.250061273574829, 1.2500611543655396, 1.2500611543655396, 1.250053882598877, 1.2500698566436768, 1.2501097917556763, 1.250051736831665, 1.2500697374343872, 1.250075101852417, 1.2501028776168823, 1.25007963180542], \"Category\": [\"Default\", \"Default\", \"Default\", \"Default\", \"Default\", \"Default\", \"Default\", \"Default\", \"Default\", \"Default\", \"Default\", \"Default\", \"Default\", \"Default\", \"Default\", \"Default\", \"Default\", \"Default\", \"Default\", \"Default\", \"Default\", \"Default\", \"Default\", \"Default\", \"Default\", \"Default\", \"Default\", \"Default\", \"Default\", \"Default\", \"Topic1\", \"Topic1\", \"Topic1\", \"Topic1\", \"Topic1\", \"Topic1\", \"Topic1\", \"Topic1\", \"Topic1\", \"Topic1\", \"Topic1\", \"Topic1\", \"Topic1\", \"Topic1\", \"Topic1\", \"Topic1\", \"Topic1\", \"Topic1\", \"Topic1\", \"Topic1\", \"Topic1\", \"Topic1\", \"Topic1\", \"Topic1\", \"Topic1\", \"Topic1\", \"Topic1\", \"Topic1\", \"Topic1\", \"Topic1\", \"Topic1\", \"Topic1\", \"Topic1\", \"Topic1\", \"Topic1\", \"Topic1\", \"Topic1\", \"Topic1\", \"Topic1\", \"Topic1\", \"Topic1\", \"Topic1\", \"Topic1\", \"Topic1\", \"Topic1\", \"Topic1\", \"Topic1\", \"Topic1\", \"Topic1\", \"Topic1\", \"Topic1\", \"Topic1\", \"Topic1\", \"Topic1\", \"Topic1\", \"Topic1\", \"Topic1\", \"Topic1\", \"Topic1\", \"Topic1\", \"Topic1\", \"Topic1\", \"Topic1\", \"Topic1\", \"Topic2\", \"Topic2\", \"Topic2\", \"Topic2\", \"Topic2\", \"Topic2\", \"Topic2\", \"Topic2\", \"Topic2\", \"Topic2\", \"Topic2\", \"Topic2\", \"Topic2\", \"Topic2\", \"Topic2\", \"Topic2\", \"Topic2\", \"Topic2\", \"Topic2\", \"Topic2\", \"Topic2\", \"Topic2\", \"Topic2\", \"Topic2\", \"Topic2\", \"Topic2\", \"Topic2\", \"Topic2\", \"Topic2\", \"Topic2\", \"Topic2\", \"Topic2\", \"Topic2\", \"Topic2\", \"Topic2\", \"Topic2\", \"Topic2\", \"Topic2\", \"Topic2\", \"Topic2\", \"Topic2\", \"Topic2\", \"Topic2\", \"Topic2\", \"Topic2\", \"Topic2\", \"Topic2\", \"Topic2\", \"Topic2\", \"Topic2\", \"Topic2\", \"Topic2\", \"Topic2\", \"Topic2\", \"Topic2\", \"Topic3\", \"Topic3\", \"Topic3\", \"Topic3\", \"Topic3\", \"Topic3\", \"Topic3\", \"Topic3\", \"Topic3\", \"Topic3\", \"Topic3\", \"Topic3\", \"Topic3\", \"Topic3\", \"Topic3\", \"Topic3\", \"Topic3\", \"Topic3\", \"Topic3\", \"Topic3\", \"Topic3\", \"Topic3\", \"Topic3\", \"Topic3\", \"Topic3\", \"Topic3\", \"Topic3\", \"Topic3\", \"Topic3\", \"Topic3\", \"Topic3\", \"Topic3\", \"Topic3\", \"Topic3\", \"Topic3\", \"Topic3\", \"Topic3\", \"Topic3\", \"Topic3\", \"Topic3\", \"Topic3\", \"Topic3\", \"Topic3\", \"Topic3\", \"Topic3\", \"Topic3\", \"Topic3\", \"Topic3\", \"Topic3\", \"Topic3\", \"Topic3\", \"Topic3\", \"Topic3\", \"Topic3\", \"Topic3\", \"Topic3\", \"Topic3\", \"Topic3\", \"Topic3\", \"Topic3\", \"Topic3\", \"Topic3\", \"Topic3\", \"Topic3\", \"Topic4\", \"Topic4\", \"Topic4\", \"Topic4\", \"Topic4\", \"Topic4\", \"Topic4\", \"Topic4\", \"Topic4\", \"Topic4\", \"Topic4\", \"Topic4\", \"Topic4\", \"Topic4\", \"Topic4\", \"Topic4\", \"Topic4\", \"Topic4\", \"Topic4\", \"Topic4\", \"Topic4\", \"Topic4\", \"Topic4\", \"Topic4\", \"Topic4\", \"Topic4\", \"Topic4\", \"Topic4\", \"Topic4\", \"Topic4\", \"Topic4\", \"Topic4\", \"Topic4\", \"Topic4\", \"Topic4\", \"Topic4\", \"Topic4\", \"Topic4\", \"Topic4\", \"Topic4\", \"Topic4\", \"Topic4\", \"Topic4\", \"Topic4\", \"Topic4\", \"Topic4\", \"Topic4\", \"Topic4\", \"Topic4\", \"Topic4\", \"Topic4\", \"Topic5\", \"Topic5\", \"Topic5\", \"Topic5\", \"Topic5\", \"Topic5\", \"Topic5\", \"Topic5\", \"Topic5\", \"Topic5\", \"Topic5\", \"Topic5\", \"Topic5\", \"Topic5\", \"Topic5\", \"Topic5\", \"Topic5\", \"Topic5\", \"Topic5\", \"Topic5\", \"Topic5\", \"Topic5\", \"Topic5\", \"Topic5\", \"Topic5\", \"Topic5\", \"Topic5\", \"Topic5\", \"Topic5\", \"Topic5\", \"Topic6\", \"Topic6\", \"Topic6\", \"Topic6\", \"Topic6\", \"Topic6\", \"Topic6\", \"Topic6\", \"Topic6\", \"Topic6\", \"Topic6\", \"Topic6\", \"Topic6\", \"Topic6\", \"Topic6\", \"Topic6\", \"Topic6\", \"Topic6\", \"Topic6\", \"Topic6\", \"Topic6\", \"Topic6\", \"Topic6\", \"Topic6\", \"Topic6\", \"Topic6\", \"Topic6\", \"Topic6\", \"Topic6\", \"Topic6\", \"Topic6\", \"Topic6\", \"Topic6\", \"Topic6\", \"Topic6\", \"Topic6\", \"Topic6\", \"Topic6\", \"Topic6\", \"Topic6\", \"Topic6\", \"Topic6\", \"Topic6\", \"Topic7\", \"Topic7\", \"Topic7\", \"Topic7\", \"Topic7\", \"Topic7\", \"Topic7\", \"Topic7\", \"Topic7\", \"Topic7\", \"Topic7\", \"Topic7\", \"Topic7\", \"Topic7\", \"Topic7\", \"Topic7\", \"Topic7\", \"Topic7\", \"Topic7\", \"Topic7\", \"Topic7\", \"Topic7\", \"Topic7\", \"Topic7\", \"Topic7\", \"Topic7\", \"Topic7\", \"Topic7\", \"Topic7\", \"Topic7\", \"Topic7\", \"Topic7\", \"Topic7\", \"Topic7\", \"Topic7\", \"Topic7\", \"Topic7\", \"Topic7\", \"Topic7\", \"Topic7\", \"Topic7\", \"Topic7\", \"Topic7\", \"Topic7\", \"Topic7\", \"Topic7\", \"Topic7\", \"Topic8\", \"Topic8\", \"Topic8\", \"Topic8\", \"Topic8\", \"Topic8\", \"Topic8\", \"Topic8\", \"Topic8\", \"Topic8\", \"Topic8\", \"Topic8\", \"Topic8\", \"Topic8\", \"Topic8\", \"Topic8\", \"Topic8\", \"Topic8\", \"Topic8\", \"Topic8\", \"Topic8\", \"Topic8\", \"Topic8\", \"Topic8\", \"Topic8\", \"Topic8\", \"Topic8\", \"Topic8\", \"Topic8\", \"Topic8\", \"Topic8\", \"Topic8\", \"Topic8\", \"Topic8\", \"Topic8\", \"Topic8\", \"Topic8\", \"Topic8\", \"Topic8\", \"Topic8\", \"Topic8\", \"Topic8\", \"Topic8\", \"Topic8\", \"Topic8\", \"Topic8\", \"Topic8\", \"Topic9\", \"Topic9\", \"Topic9\", \"Topic9\", \"Topic9\", \"Topic9\", \"Topic9\", \"Topic9\", \"Topic9\", \"Topic9\", \"Topic9\", \"Topic9\", \"Topic9\", \"Topic9\", \"Topic9\", \"Topic9\", \"Topic9\", \"Topic9\", \"Topic9\", \"Topic9\", \"Topic9\", \"Topic9\", \"Topic9\", \"Topic9\", \"Topic9\", \"Topic9\", \"Topic9\", \"Topic9\", \"Topic9\", \"Topic9\", \"Topic9\", \"Topic9\", \"Topic9\", \"Topic9\", \"Topic9\", \"Topic9\", \"Topic9\", \"Topic9\", \"Topic9\", \"Topic9\", \"Topic9\", \"Topic9\", \"Topic9\", \"Topic9\", \"Topic9\", \"Topic9\", \"Topic9\", \"Topic9\", \"Topic9\", \"Topic9\", \"Topic10\", \"Topic10\", \"Topic10\", \"Topic10\", \"Topic10\", \"Topic10\", \"Topic10\", \"Topic10\", \"Topic10\", \"Topic10\", \"Topic10\", \"Topic10\", \"Topic10\", \"Topic10\", \"Topic10\", \"Topic10\", \"Topic10\", \"Topic10\", \"Topic10\", \"Topic10\", \"Topic10\", \"Topic10\", \"Topic10\", \"Topic10\", \"Topic10\", \"Topic10\", \"Topic10\", \"Topic10\", \"Topic10\", \"Topic10\", \"Topic10\", \"Topic10\", \"Topic10\", \"Topic10\", \"Topic10\", \"Topic10\", \"Topic10\", \"Topic10\", \"Topic10\", \"Topic10\", \"Topic10\", \"Topic10\", \"Topic10\", \"Topic10\", \"Topic10\", \"Topic11\", \"Topic11\", \"Topic11\", \"Topic11\", \"Topic11\", \"Topic11\", \"Topic11\", \"Topic11\", \"Topic11\", \"Topic11\", \"Topic11\", \"Topic11\", \"Topic11\", \"Topic11\", \"Topic11\", \"Topic11\", \"Topic11\", \"Topic11\", \"Topic11\", \"Topic11\", \"Topic11\", \"Topic11\", \"Topic11\", \"Topic11\", \"Topic11\", \"Topic11\", \"Topic11\", \"Topic11\", \"Topic11\", \"Topic11\", \"Topic11\", \"Topic11\", \"Topic11\", \"Topic11\", \"Topic11\", \"Topic11\", \"Topic12\", \"Topic12\", \"Topic12\", \"Topic12\", \"Topic12\", \"Topic12\", \"Topic12\", \"Topic12\", \"Topic12\", \"Topic12\", \"Topic12\", \"Topic12\", \"Topic12\", \"Topic12\", \"Topic12\", \"Topic12\", \"Topic12\", \"Topic12\", \"Topic12\", \"Topic12\", \"Topic12\", \"Topic12\", \"Topic12\", \"Topic12\", \"Topic12\", \"Topic12\", \"Topic12\", \"Topic12\", \"Topic12\", \"Topic12\", \"Topic12\", \"Topic12\", \"Topic12\", \"Topic13\", \"Topic13\", \"Topic13\", \"Topic13\", \"Topic13\", \"Topic13\", \"Topic13\", \"Topic13\", \"Topic13\", \"Topic13\", \"Topic13\", \"Topic13\", \"Topic13\", \"Topic13\", \"Topic13\", \"Topic13\", \"Topic13\", \"Topic13\", \"Topic13\", \"Topic13\", \"Topic13\", \"Topic13\", \"Topic13\", \"Topic13\", \"Topic13\", \"Topic13\", \"Topic13\", \"Topic13\", \"Topic13\", \"Topic13\", \"Topic13\", \"Topic13\", \"Topic13\", \"Topic13\", \"Topic13\", \"Topic13\", \"Topic13\", \"Topic13\", \"Topic13\", \"Topic13\", \"Topic14\", \"Topic14\", \"Topic14\", \"Topic14\", \"Topic14\", \"Topic14\", \"Topic14\", \"Topic14\", \"Topic14\", \"Topic14\", \"Topic14\", \"Topic14\", \"Topic14\", \"Topic14\", \"Topic14\", \"Topic14\", \"Topic14\", \"Topic14\", \"Topic14\", \"Topic14\", \"Topic14\", \"Topic14\", \"Topic14\", \"Topic14\", \"Topic14\", \"Topic14\", \"Topic14\", \"Topic14\", \"Topic14\", \"Topic14\", \"Topic14\", \"Topic14\", \"Topic14\", \"Topic14\", \"Topic14\", \"Topic14\", \"Topic14\", \"Topic14\", \"Topic14\", \"Topic14\", \"Topic14\", \"Topic15\", \"Topic15\", \"Topic15\", \"Topic15\", \"Topic15\", \"Topic15\", \"Topic15\", \"Topic15\", \"Topic15\", \"Topic15\", \"Topic15\", \"Topic15\", \"Topic15\", \"Topic15\", \"Topic15\", \"Topic15\", \"Topic15\", \"Topic15\", \"Topic15\", \"Topic15\", \"Topic15\", \"Topic15\", \"Topic15\", \"Topic15\", \"Topic15\", \"Topic15\", \"Topic15\", \"Topic15\", \"Topic15\", \"Topic15\", \"Topic15\", \"Topic15\", \"Topic15\", \"Topic15\", \"Topic16\", \"Topic16\", \"Topic16\", \"Topic16\", \"Topic16\", \"Topic16\", \"Topic16\", \"Topic16\", \"Topic16\", \"Topic16\", \"Topic16\", \"Topic16\", \"Topic16\", \"Topic16\", \"Topic16\", \"Topic16\", \"Topic16\", \"Topic16\", \"Topic16\", \"Topic16\", \"Topic16\", \"Topic16\", \"Topic16\", \"Topic16\", \"Topic16\", \"Topic16\", \"Topic16\", \"Topic16\", \"Topic16\", \"Topic16\", \"Topic16\", \"Topic17\", \"Topic17\", \"Topic17\", \"Topic17\", \"Topic17\", \"Topic17\", \"Topic17\", \"Topic17\", \"Topic17\", \"Topic17\", \"Topic17\", \"Topic17\", \"Topic17\", \"Topic17\", \"Topic17\", \"Topic17\", \"Topic17\", \"Topic17\", \"Topic17\", \"Topic17\", \"Topic17\", \"Topic17\", \"Topic17\", \"Topic17\", \"Topic17\", \"Topic17\", \"Topic17\", \"Topic17\", \"Topic17\", \"Topic17\", \"Topic18\", \"Topic18\", \"Topic18\", \"Topic18\", \"Topic18\", \"Topic18\", \"Topic18\", \"Topic18\", \"Topic18\", \"Topic18\", \"Topic18\", \"Topic18\", \"Topic18\", \"Topic18\", \"Topic18\", \"Topic18\", \"Topic18\", \"Topic18\", \"Topic18\", \"Topic18\", \"Topic18\", \"Topic18\", \"Topic18\", \"Topic18\", \"Topic18\", \"Topic18\", \"Topic18\", \"Topic18\", \"Topic18\", \"Topic18\", \"Topic18\", \"Topic18\", \"Topic19\", \"Topic19\", \"Topic19\", \"Topic19\", \"Topic19\", \"Topic19\", \"Topic19\", \"Topic19\", \"Topic19\", \"Topic19\", \"Topic19\", \"Topic19\", \"Topic19\", \"Topic19\", \"Topic19\", \"Topic19\", \"Topic19\", \"Topic19\", \"Topic19\", \"Topic19\", \"Topic19\", \"Topic19\", \"Topic19\", \"Topic19\", \"Topic19\", \"Topic19\", \"Topic19\", \"Topic19\", \"Topic19\", \"Topic19\", \"Topic19\", \"Topic19\", \"Topic19\", \"Topic20\", \"Topic20\", \"Topic20\", \"Topic20\", \"Topic20\", \"Topic20\", \"Topic20\", \"Topic20\", \"Topic20\", \"Topic20\", \"Topic20\", \"Topic20\", \"Topic20\", \"Topic20\", \"Topic20\", \"Topic20\", \"Topic20\", \"Topic20\", \"Topic20\", \"Topic20\", \"Topic20\", \"Topic20\", \"Topic20\", \"Topic20\", \"Topic20\", \"Topic20\", \"Topic20\", \"Topic20\", \"Topic20\", \"Topic20\", \"Topic20\", \"Topic20\", \"Topic20\", \"Topic20\"], \"logprob\": [30.0, 29.0, 28.0, 27.0, 26.0, 25.0, 24.0, 23.0, 22.0, 21.0, 20.0, 19.0, 18.0, 17.0, 16.0, 15.0, 14.0, 13.0, 12.0, 11.0, 10.0, 9.0, 8.0, 7.0, 6.0, 5.0, 4.0, 3.0, 2.0, 1.0, -3.6342999935150146, -3.813800096511841, -4.918799877166748, -5.220799922943115, -5.222300052642822, -5.425899982452393, -5.503900051116943, -5.609799861907959, -5.648600101470947, -5.7453999519348145, -5.757199764251709, -5.767199993133545, -5.790800094604492, -5.9644999504089355, -4.3190999031066895, -6.038899898529053, -6.067500114440918, -6.137599945068359, -6.155799865722656, -6.1595001220703125, -6.197199821472168, -6.2906999588012695, -6.201099872589111, -6.452700138092041, -6.4822998046875, -6.484499931335449, -6.499300003051758, -6.503600120544434, -6.506800174713135, -6.571400165557861, -4.295300006866455, -4.435500144958496, -4.650000095367432, -4.624800205230713, -5.610099792480469, -5.417799949645996, -5.894400119781494, -4.125199794769287, -3.8882999420166016, -5.102799892425537, -3.83489990234375, -5.148900032043457, -3.446199893951416, -4.800899982452393, -4.651000022888184, -5.447800159454346, -4.577600002288818, -4.503600120544434, -4.034900188446045, -4.47189998626709, -5.175099849700928, -4.982600212097168, -4.11870002746582, -4.4704999923706055, -4.669400215148926, -4.696899890899658, -4.397799968719482, -4.793099880218506, -4.904799938201904, -4.585100173950195, -4.5605998039245605, -4.58620023727417, -4.968699932098389, -4.671299934387207, -2.6050000190734863, -3.743499994277954, -3.801100015640259, -3.8173999786376953, -4.271200180053711, -4.878200054168701, -5.055300235748291, -5.125800132751465, -5.293600082397461, -5.329699993133545, -5.356299877166748, -5.374899864196777, -5.380499839782715, -5.522200107574463, -5.548799991607666, -5.588900089263916, -5.5945000648498535, -5.5971999168396, -5.61929988861084, -5.624800205230713, -5.659200191497803, -5.706200122833252, -5.730400085449219, -5.8084001541137695, -5.8454999923706055, -6.003699779510498, -6.01669979095459, -6.066400051116943, -6.0742998123168945, -6.101099967956543, -5.844099998474121, -4.4944000244140625, -3.51990008354187, -4.673900127410889, -3.0481998920440674, -4.600399971008301, -4.531599998474121, -4.110899925231934, -3.86080002784729, -4.31689977645874, -4.685699939727783, -4.527100086212158, -3.964400053024292, -4.937699794769287, -4.461699962615967, -4.433599948883057, -4.905200004577637, -4.74459981918335, -4.899600028991699, -4.547999858856201, -4.946300029754639, -4.916200160980225, -4.609000205993652, -4.972499847412109, -5.021299839019775, -4.947000026702881, -4.979899883270264, -5.113800048828125, -5.190899848937988, -5.221199989318848, -5.3140997886657715, -5.326399803161621, -5.328999996185303, -5.394800186157227, -5.433499813079834, -5.48960018157959, -5.600800037384033, -5.614999771118164, -5.627099990844727, -5.630499839782715, -5.6666998863220215, -5.6717000007629395, -5.714600086212158, -5.716100215911865, -5.732900142669678, -5.736800193786621, -5.758200168609619, -5.758299827575684, -5.7596001625061035, -5.761199951171875, -5.761600017547607, -5.819200038909912, -5.84630012512207, -5.880000114440918, -5.887899875640869, -5.002299785614014, -4.838799953460693, -5.109600067138672, -5.002399921417236, -4.6458001136779785, -5.331399917602539, -5.424099922180176, -4.788599967956543, -5.440400123596191, -5.0929999351501465, -5.430600166320801, -5.302700042724609, -4.763299942016602, -3.8780999183654785, -4.592299938201904, -5.109499931335449, -4.283199787139893, -5.1442999839782715, -5.193900108337402, -4.959400177001953, -4.121200084686279, -5.205699920654297, -5.1041998863220215, -4.688600063323975, -4.5065999031066895, -4.250100135803223, -4.92140007019043, -5.166900157928467, -4.958700180053711, -5.037199974060059, -4.691100120544434, -5.095399856567383, -5.145400047302246, -5.147200107574463, -3.517400026321411, -3.878000020980835, -4.069300174713135, -4.756499767303467, -4.858699798583984, -4.891300201416016, -4.960700035095215, -5.106100082397461, -5.271599769592285, -5.3333001136779785, -5.354899883270264, -5.3628997802734375, -5.369699954986572, -5.380499839782715, -5.426400184631348, -5.471499919891357, -5.496399879455566, -5.520400047302246, -5.52239990234375, -5.526199817657471, -5.5457000732421875, -5.564499855041504, -5.565199851989746, -5.573999881744385, -5.587600231170654, -5.600500106811523, -3.6078999042510986, -5.611499786376953, -5.633500099182129, -5.637499809265137, -5.0690999031066895, -5.183000087738037, -3.9289000034332275, -4.927999973297119, -4.009699821472168, -5.000800132751465, -5.15369987487793, -4.9182000160217285, -4.280600070953369, -4.621699810028076, -4.354499816894531, -4.931399822235107, -4.90500020980835, -4.54040002822876, -4.838200092315674, -4.77839994430542, -5.141200065612793, -5.091599941253662, -5.206500053405762, -5.068900108337402, -5.156899929046631, -0.6133999824523926, -2.9240000247955322, -3.574700117111206, -4.258900165557861, -4.668499946594238, -4.736100196838379, -4.752799987792969, -4.758600234985352, -4.770699977874756, -4.801300048828125, -4.859600067138672, -4.861999988555908, -4.874899864196777, -4.9517998695373535, -5.00570011138916, -5.041600227355957, -5.167799949645996, -5.182799816131592, -5.250800132751465, -5.2546000480651855, -5.323599815368652, -5.3404998779296875, -5.352799892425537, -5.435800075531006, -5.503499984741211, -5.504000186920166, -5.5366997718811035, -5.538700103759766, -5.547599792480469, -5.579999923706055, -3.0028998851776123, -3.5620999336242676, -3.611599922180176, -3.8469998836517334, -3.873500108718872, -3.9814000129699707, -4.163599967956543, -4.2316999435424805, -4.342299938201904, -4.442500114440918, -4.448500156402588, -4.507299900054932, -4.547599792480469, -4.59499979019165, -4.642399787902832, -4.64300012588501, -4.706299781799316, -4.830399990081787, -4.889999866485596, -5.008399963378906, -5.126299858093262, -5.187099933624268, -5.222700119018555, -5.229800224304199, -5.277699947357178, -5.392600059509277, -5.423099994659424, -5.424699783325195, -5.520100116729736, -5.552499771118164, -3.265700101852417, -2.955699920654297, -4.425899982452393, -4.0040998458862305, -3.376699924468994, -3.7291998863220215, -3.190999984741211, -4.0046000480651855, -4.214799880981445, -4.63129997253418, -4.747099876403809, -4.259200096130371, -4.533100128173828, -3.860599994659424, -4.241700172424316, -4.388700008392334, -4.4222002029418945, -4.508999824523926, -4.5559000968933105, -4.709000110626221, -4.7316999435424805, -4.7621002197265625, -4.762199878692627, -4.8694000244140625, -4.881800174713135, -4.907199859619141, -4.91379976272583, -4.9695000648498535, -4.978000164031982, -4.986199855804443, -5.052299976348877, -5.053699970245361, -5.0559000968933105, -5.085599899291992, -5.089799880981445, -5.094900131225586, -5.118299961090088, -5.118800163269043, -5.128399848937988, -5.1290998458862305, -5.184500217437744, -5.2606000900268555, -5.279099941253662, -3.789299964904785, -4.048600196838379, -3.3828999996185303, -4.177299976348877, -3.7509000301361084, -4.013700008392334, -3.8847999572753906, -3.874000072479248, -4.864999771118164, -4.8719000816345215, -4.6596999168396, -4.470099925994873, -4.637199878692627, -4.396399974822998, -4.350399971008301, -4.7093000411987305, -4.905600070953369, -2.392400026321411, -3.031100034713745, -3.187000036239624, -3.460099935531616, -3.6266000270843506, -3.7725000381469727, -4.021100044250488, -4.188300132751465, -4.266200065612793, -4.388199806213379, -4.613900184631348, -4.63040018081665, -4.642000198364258, -4.700500011444092, -4.771299839019775, -5.094699859619141, -5.167600154876709, -5.255899906158447, -5.263500213623047, -5.28410005569458, -5.385700225830078, -5.477799892425537, -5.538599967956543, -5.632699966430664, -5.656799793243408, -5.831399917602539, -5.953400135040283, -6.000699996948242, -6.035399913787842, -6.1097002029418945, -4.855400085449219, -4.887700080871582, -3.40339994430542, -3.909600019454956, -3.4296000003814697, -4.4527997970581055, -3.292799949645996, -4.1631999015808105, -3.55430006980896, -4.589300155639648, -4.167900085449219, -3.964200019836426, -4.7895002365112305, -4.31689977645874, -4.769999980926514, -4.5106000900268555, -4.706399917602539, -3.040600061416626, -3.0987000465393066, -3.307800054550171, -3.5165998935699463, -3.595900058746338, -3.7802999019622803, -4.019599914550781, -4.026700019836426, -4.066299915313721, -4.283199787139893, -4.420100212097168, -4.652200222015381, -4.764800071716309, -4.849999904632568, -4.852799892425537, -5.138800144195557, -5.26170015335083, -5.298799991607666, -5.542600154876709, -5.605599880218506, -5.678299903869629, -5.6894001960754395, -5.797900199890137, -5.841599941253662, -5.873000144958496, -5.956299781799316, -6.00600004196167, -6.053400039672852, -6.113399982452393, -6.15910005569458, -3.2204999923706055, -3.646399974822998, -5.263000011444092, -5.346199989318848, -4.116000175476074, -3.2481000423431396, -3.8183000087738037, -5.246600151062012, -3.435800075531006, -4.2820000648498535, -3.6905999183654785, -3.769399881362915, -4.073200225830078, -4.525899887084961, -4.496399879455566, -4.349800109863281, -4.769499778747559, -4.647299766540527, -4.521200180053711, -4.600500106811523, -3.5136001110076904, -3.5645999908447266, -3.6278998851776123, -3.746299982070923, -4.102499961853027, -4.162499904632568, -4.189899921417236, -4.211900234222412, -4.220799922943115, -4.320799827575684, -4.321899890899658, -4.456500053405762, -4.500100135803223, -4.608500003814697, -4.671999931335449, -4.691400051116943, -4.802299976348877, -4.85699987411499, -4.888400077819824, -4.899099826812744, -4.949399948120117, -4.961699962615967, -5.172699928283691, -5.1894001960754395, -5.358399868011475, -5.445099830627441, -5.474100112915039, -5.485400199890137, -5.489500045776367, -5.510300159454346, -5.242300033569336, -3.843100070953369, -4.402500152587891, -3.2232000827789307, -4.682600021362305, -3.7325000762939453, -4.276599884033203, -4.364299774169922, -3.7822000980377197, -4.456200122833252, -4.144199848175049, -4.603899955749512, -4.186999797821045, -4.512499809265137, -4.518599987030029, -2.4667999744415283, -2.935699939727783, -3.717400074005127, -3.7499001026153564, -3.7792000770568848, -3.7906999588012695, -3.8505001068115234, -3.8928000926971436, -3.977799892425537, -4.007599830627441, -4.009300231933594, -4.01230001449585, -4.092800140380859, -4.096199989318848, -4.217400074005127, -4.250699996948242, -4.290299892425537, -4.325799942016602, -4.386499881744385, -4.497600078582764, -4.583499908447266, -4.635000228881836, -4.650300025939941, -4.652400016784668, -4.734399795532227, -4.771399974822998, -4.793499946594238, -4.81689977645874, -4.888599872589111, -4.903500080108643, -3.8134000301361084, -4.345099925994873, -4.090400218963623, -4.525599956512451, -4.623499870300293, -4.724800109863281, -1.7431000471115112, -2.6138999462127686, -2.864500045776367, -2.9470999240875244, -3.492500066757202, -3.710599899291992, -3.9040000438690186, -3.921799898147583, -4.05709981918335, -4.196400165557861, -4.265999794006348, -4.2932000160217285, -4.330599784851074, -4.341100215911865, -4.374100208282471, -4.394700050354004, -4.479599952697754, -4.535900115966797, -4.657599925994873, -4.678899765014648, -4.727099895477295, -4.83459997177124, -4.835599899291992, -4.9720001220703125, -5.049799919128418, -5.065299987792969, -5.317800045013428, -5.504199981689453, -5.6707000732421875, -5.734000205993652, -3.678299903869629, -3.996999979019165, -3.203399896621704, -1.9657000303268433, -2.153899908065796, -3.06469988822937, -3.3329999446868896, -3.7202000617980957, -4.115600109100342, -4.160900115966797, -4.465400218963623, -4.901500225067139, -4.939899921417236, -4.957399845123291, -5.474899768829346, -5.5528998374938965, -5.68720006942749, -5.8155999183654785, -6.0605998039245605, -6.1265997886657715, -4.213200092315674, -4.4720001220703125, -7.054100036621094, -3.3631999492645264, -3.0422000885009766, -7.202600002288818, -7.410299777984619, -7.475200176239014, -4.4618000984191895, -2.655100107192993, -4.258800029754639, -4.325500011444092, -6.543000221252441, -4.478000164031982, -4.107699871063232, -4.729000091552734, -4.637700080871582, -4.410600185394287, -3.9453001022338867, -4.8755998611450195, -5.4842000007629395, -5.324999809265137, -5.161799907684326, -1.8837000131607056, -2.9458000659942627, -3.1048998832702637, -3.330699920654297, -3.6389999389648438, -4.1666998863220215, -4.177000045776367, -4.228400230407715, -4.241000175476074, -4.276899814605713, -4.424200057983398, -4.425600051879883, -4.750899791717529, -4.792500019073486, -4.83459997177124, -4.903500080108643, -4.9710001945495605, -4.991499900817871, -5.223999977111816, -5.40880012512207, -5.417799949645996, -5.623499870300293, -5.673399925231934, -2.2708001136779785, -5.807300090789795, -5.839099884033203, -5.949399948120117, -5.994500160217285, -6.195799827575684, -6.247399806976318, -2.826900005340576, -4.440199851989746, -3.788800001144409, -4.558700084686279, -3.8661000728607178, -4.475299835205078, -4.122099876403809, -5.226099967956543, -4.94189977645874, -5.178400039672852, -5.086699962615967, -2.0969998836517334, -2.632200002670288, -2.8080999851226807, -2.841900110244751, -2.9574999809265137, -3.2065000534057617, -3.275899887084961, -3.2964000701904297, -3.664400100708008, -4.023499965667725, -4.183899879455566, -4.474800109863281, -4.619100093841553, -4.778800010681152, -4.787199974060059, -4.802299976348877, -5.014400005340576, -5.053199768066406, -5.077199935913086, -5.092199802398682, -5.1178998947143555, -5.352799892425537, -5.830999851226807, -5.911399841308594, -6.520500183105469, -6.71619987487793, -7.251999855041504, -3.3162999153137207, -2.6080000400543213, -9.621600151062012, -3.6796000003814697, -4.884399890899658, -6.156899929046631, -6.087800025939941, -2.4370999336242676, -2.482300043106079, -2.538599967956543, -2.790800094604492, -2.9409000873565674, -3.199899911880493, -3.277400016784668, -3.3828999996185303, -3.6429998874664307, -3.9173998832702637, -4.005300045013428, -4.013199806213379, -4.045100212097168, -4.088799953460693, -4.104499816894531, -4.345200061798096, -4.372600078582764, -4.414599895477295, -4.4704999923706055, -4.596799850463867, -4.608799934387207, -5.153600215911865, -5.3302001953125, -5.442399978637695, -5.5046000480651855, -5.584799766540527, -5.709700107574463, -5.918700218200684, -6.071800231933594, -6.142099857330322, -5.199699878692627, -2.09060001373291, -2.2046000957489014, -2.9149999618530273, -2.99429988861084, -3.0416998863220215, -3.168800115585327, -3.3601999282836914, -3.4244000911712646, -3.6280999183654785, -3.9001998901367188, -4.067500114440918, -4.183499813079834, -4.21619987487793, -4.222799777984619, -4.2778000831604, -4.581699848175049, -4.745999813079834, -4.8171000480651855, -4.92140007019043, -5.089399814605713, -5.190199851989746, -5.318699836730957, -5.38670015335083, -5.683599948883057, -4.647600173950195, -11.750499725341797, -11.750499725341797, -11.75059986114502, -11.75059986114502, -11.750699996948242, -2.322499990463257, -2.5673000812530518, -2.8264999389648438, -3.073699951171875, -3.3914999961853027, -3.555999994277954, -3.5806000232696533, -3.6298999786376953, -3.6651999950408936, -3.710900068283081, -3.8696999549865723, -4.25600004196167, -4.427700042724609, -4.809100151062012, -4.900300025939941, -4.909800052642822, -4.973999977111816, -5.2378997802734375, -5.771900177001953, -5.786499977111816, -5.7866997718811035, -5.812699794769287, -6.024099826812744, -6.078400135040283, -5.753799915313721, -11.388500213623047, -11.388500213623047, -11.388500213623047, -11.38860034942627, -11.38860034942627, -11.38860034942627, -11.388500213623047, -2.435699939727783, -2.632499933242798, -2.6417999267578125, -2.9377999305725098, -3.326200008392334, -3.386699914932251, -3.424499988555908, -3.6419999599456787, -3.6466000080108643, -4.311800003051758, -4.374300003051758, -4.886600017547607, -4.973400115966797, -5.012599945068359, -5.029699802398682, -5.061100006103516, -5.203800201416016, -5.259099960327148, -5.646200180053711, -5.911399841308594, -6.249100208282471, -4.349400043487549, -6.213600158691406, -11.351099967956543, -11.351200103759766, -11.351200103759766, -11.351200103759766, -11.351300239562988, -11.351200103759766, -11.351300239562988, -11.351200103759766, -11.351200103759766, -11.351200103759766, -2.1991000175476074, -2.7042999267578125, -3.0408999919891357, -3.570199966430664, -3.8661999702453613, -3.9017999172210693, -3.9428999423980713, -4.104100227355957, -5.218599796295166, -5.318900108337402, -5.57450008392334, -5.700699806213379, -5.729000091552734, -7.022500038146973, -11.02649974822998, -11.02649974822998, -11.02649974822998, -11.026599884033203, -11.026599884033203, -11.026599884033203, -11.026599884033203, -11.026599884033203, -11.026599884033203, -11.026599884033203, -11.026599884033203, -11.026599884033203, -11.026599884033203, -11.026599884033203, -11.026599884033203, -11.026599884033203, -11.026599884033203, -11.026599884033203, -11.026599884033203, -11.026599884033203], \"loglift\": [30.0, 29.0, 28.0, 27.0, 26.0, 25.0, 24.0, 23.0, 22.0, 21.0, 20.0, 19.0, 18.0, 17.0, 16.0, 15.0, 14.0, 13.0, 12.0, 11.0, 10.0, 9.0, 8.0, 7.0, 6.0, 5.0, 4.0, 3.0, 2.0, 1.0, 1.2698999643325806, 1.2698999643325806, 1.2696000337600708, 1.2694000005722046, 1.2694000005722046, 1.2691999673843384, 1.2691999673843384, 1.2690999507904053, 1.2690000534057617, 1.2689000368118286, 1.2689000368118286, 1.2689000368118286, 1.2689000368118286, 1.2687000036239624, 1.2685999870300293, 1.2684999704360962, 1.2684999704360962, 1.268399953842163, 1.268399953842163, 1.268399953842163, 1.2683000564575195, 1.2681000232696533, 1.2680000066757202, 1.267799973487854, 1.267699956893921, 1.267699956893921, 1.267699956893921, 1.267699956893921, 1.2676000595092773, 1.2675000429153442, 1.2561999559402466, 1.2575000524520874, 1.254699945449829, 1.2345999479293823, 1.2541999816894531, 1.248900055885315, 1.2582999467849731, 1.2180999517440796, 1.2067999839782715, 1.2414000034332275, 1.184999942779541, 1.2067999839782715, 1.0755000114440918, 1.1756000518798828, 1.1547000408172607, 1.215000033378601, 1.0908000469207764, 1.0532000064849854, 0.9427000284194946, 0.9966999888420105, 1.1446000337600708, 1.1009000539779663, 0.8891000151634216, 0.9711999893188477, 1.004699945449829, 0.9976999759674072, 0.8592000007629395, 0.9800000190734863, 1.013200044631958, 0.6987000107765198, 0.5162000060081482, 0.47940000891685486, 0.9297000169754028, -0.1835000067949295, 1.7058000564575195, 1.7057000398635864, 1.7056000232696533, 1.7056000232696533, 1.7055000066757202, 1.705199956893921, 1.7050000429153442, 1.7050000429153442, 1.704800009727478, 1.704699993133545, 1.704699993133545, 1.704699993133545, 1.704699993133545, 1.7044999599456787, 1.7044999599456787, 1.7043999433517456, 1.7043999433517456, 1.7043999433517456, 1.7043999433517456, 1.704300045967102, 1.704300045967102, 1.704200029373169, 1.704200029373169, 1.7039999961853027, 1.7039999961853027, 1.7036000490188599, 1.7036000490188599, 1.7035000324249268, 1.7035000324249268, 1.7034000158309937, 1.7031999826431274, 1.6722999811172485, 1.5068000555038452, 1.5947999954223633, 1.4395999908447266, 1.5786000490188599, 1.5583000183105469, 1.5095000267028809, 1.3460999727249146, 1.3969999551773071, 1.462499976158142, 1.4009000062942505, 1.1013000011444092, 1.4056999683380127, 1.120300054550171, 0.8500999808311462, 1.149899959564209, 0.9822999835014343, 1.0814000368118286, 0.4296000003814697, 1.0175000429153442, 0.7688999772071838, -0.08720000088214874, 0.6049000024795532, 0.2750999927520752, 1.857800006866455, 1.857800006866455, 1.8575999736785889, 1.8575999736785889, 1.8574999570846558, 1.8573999404907227, 1.8573999404907227, 1.8573999404907227, 1.857300043106079, 1.857200026512146, 1.857200026512146, 1.8569999933242798, 1.8568999767303467, 1.8568999767303467, 1.8568999767303467, 1.8568999767303467, 1.8567999601364136, 1.8567999601364136, 1.8567999601364136, 1.8566999435424805, 1.8566999435424805, 1.8566999435424805, 1.8566999435424805, 1.8566999435424805, 1.8566999435424805, 1.8566999435424805, 1.8565000295639038, 1.8565000295639038, 1.8564000129699707, 1.8564000129699707, 1.8517999649047852, 1.8417999744415283, 1.8466999530792236, 1.8430999517440796, 1.8331999778747559, 1.8458000421524048, 1.847499966621399, 1.8214999437332153, 1.8463000059127808, 1.830399990081787, 1.843400001525879, 1.8317999839782715, 1.773300051689148, 1.666200041770935, 1.7311999797821045, 1.7691999673843384, 1.5443999767303467, 1.7446000576019287, 1.7537000179290771, 1.6187000274658203, 1.1864999532699585, 1.694000005722046, 1.621899962425232, 1.2696000337600708, 1.0708999633789062, 0.82669997215271, 1.3991999626159668, 1.6477999687194824, 1.0433000326156616, 1.2138999700546265, 0.3165999948978424, 0.1615999937057495, 0.6398000121116638, 0.2946000099182129, 2.510999917984009, 2.5107998847961426, 2.510699987411499, 2.5099000930786133, 2.5097999572753906, 2.509700059890747, 2.5095999240875244, 2.5092999935150146, 2.509000062942505, 2.5088000297546387, 2.5088000297546387, 2.508699893951416, 2.508699893951416, 2.508699893951416, 2.5085999965667725, 2.5083999633789062, 2.5083999633789062, 2.5083000659942627, 2.5083000659942627, 2.5083000659942627, 2.50819993019104, 2.50819993019104, 2.5081000328063965, 2.5081000328063965, 2.5081000328063965, 2.507999897003174, 2.507999897003174, 2.507999897003174, 2.5078999996185303, 2.5078999996185303, 2.4827001094818115, 2.4863998889923096, 2.387200117111206, 2.461199998855591, 2.3817999362945557, 2.4489998817443848, 2.403899908065796, 2.1714999675750732, 1.511299967765808, 1.3365999460220337, 0.9419000148773193, 1.7023999691009521, 1.6395000219345093, 1.0109000205993652, 1.4910999536514282, 1.3777999877929688, 1.9660999774932861, 1.8186999559402466, 1.9706000089645386, 1.4321999549865723, 1.2355999946594238, 2.8561999797821045, 2.8559000492095947, 2.855600118637085, 2.85509991645813, 2.8543999195098877, 2.854300022125244, 2.854300022125244, 2.854300022125244, 2.854300022125244, 2.8541998863220215, 2.854099988937378, 2.854099988937378, 2.8540000915527344, 2.8538999557495117, 2.8536999225616455, 2.853600025177002, 2.853300094604492, 2.8531999588012695, 2.8529999256134033, 2.8529999256134033, 2.852799892425537, 2.8526999950408936, 2.8526999950408936, 2.852400064468384, 2.852099895477295, 2.852099895477295, 2.8519999980926514, 2.8519999980926514, 2.851900100708008, 2.851799964904785, 2.8671998977661133, 2.8668999671936035, 2.8668999671936035, 2.8666999340057373, 2.8666999340057373, 2.8666000366210938, 2.8664000034332275, 2.866300106048584, 2.8661999702453613, 2.865999937057495, 2.865999937057495, 2.8659000396728516, 2.8659000396728516, 2.865799903869629, 2.8657000064849854, 2.8657000064849854, 2.865600109100342, 2.865299940109253, 2.8652000427246094, 2.8649001121520996, 2.864500045776367, 2.8643999099731445, 2.864300012588501, 2.8642001152038574, 2.8640999794006348, 2.8636999130249023, 2.8635001182556152, 2.8635001182556152, 2.863100051879883, 2.86299991607666, 2.7760000228881836, 2.595599889755249, 2.7202000617980957, 2.599600076675415, 2.3529999256134033, 2.401599884033203, 2.1054000854492188, 2.406100034713745, 2.274399995803833, 2.5107998847961426, 2.3422999382019043, 1.3183000087738037, 0.7746000289916992, 2.9690001010894775, 2.9684998989105225, 2.9683001041412354, 2.9683001041412354, 2.968100070953369, 2.9679999351501465, 2.9677000045776367, 2.9677000045776367, 2.967600107192993, 2.967600107192993, 2.9672999382019043, 2.9672999382019043, 2.9672000408172607, 2.9672000408172607, 2.967099905014038, 2.9670000076293945, 2.9670000076293945, 2.9667999744415283, 2.9667999744415283, 2.9667999744415283, 2.9667000770568848, 2.9667000770568848, 2.9667000770568848, 2.966599941253662, 2.966599941253662, 2.966599941253662, 2.966599941253662, 2.966399908065796, 2.966099977493286, 2.9660000801086426, 2.9375998973846436, 2.937700033187866, 2.8178000450134277, 2.844399929046631, 2.641700029373169, 2.6735999584198, 2.6266000270843506, 2.3968000411987305, 2.8397998809814453, 2.819000005722046, 2.599400043487549, 2.2978999614715576, 2.3482000827789307, 1.8272000551223755, 1.6516000032424927, 2.3101000785827637, 2.0192999839782715, 3.849600076675415, 3.849100112915039, 3.848900079727173, 3.848599910736084, 3.848299980163574, 3.8480000495910645, 3.847399950027466, 3.84689998626709, 3.8466999530792236, 3.8461999893188477, 3.8452999591827393, 3.8452000617980957, 3.845099925994873, 3.8447999954223633, 3.844399929046631, 3.8422999382019043, 3.8417000770568848, 3.84089994430542, 3.8408000469207764, 3.84060001373291, 3.839600086212158, 3.838599920272827, 3.837899923324585, 3.836699962615967, 3.836400032043457, 3.8338000774383545, 3.831700086593628, 3.8308000564575195, 3.830199956893921, 3.8285999298095703, 3.788599967956543, 3.766700029373169, 3.2320001125335693, 3.3113999366760254, 3.0436999797821045, 3.331899881362915, 2.6057000160217285, 3.0202999114990234, 2.3636999130249023, 3.1380999088287354, 2.660799980163574, 2.0167999267578125, 3.1403000354766846, 2.289799928665161, 3.0416998863220215, 1.760200023651123, 2.285799980163574, 3.9245998859405518, 3.9245998859405518, 3.924299955368042, 3.9240000247955322, 3.923799991607666, 3.9235000610351562, 3.9228999614715576, 3.922800064086914, 3.9226999282836914, 3.921999931335449, 3.9214999675750732, 3.9203999042510986, 3.9196999073028564, 3.9191999435424805, 3.9191999435424805, 3.9170000553131104, 3.9158999919891357, 3.915600061416626, 3.9128000736236572, 3.911900043487549, 3.910900115966797, 3.9107000827789307, 3.9089999198913574, 3.9082999229431152, 3.9077999591827393, 3.9061999320983887, 3.9052000045776367, 3.9042999744415283, 3.902899980545044, 3.901900053024292, 3.865499973297119, 3.7014000415802, 3.797600030899048, 3.799499988555908, 3.5102999210357666, 3.2653000354766846, 3.3945000171661377, 3.7520999908447266, 3.196700096130371, 3.4428000450134277, 2.638700008392334, 2.5739998817443848, 2.5683000087738037, 2.8691000938415527, 2.482599973678589, 1.8509000539779663, 2.6803998947143555, 2.2730000019073486, 1.6095999479293823, 1.6682000160217285, 3.9479000568389893, 3.9477999210357666, 3.947700023651123, 3.947499990463257, 3.946500062942505, 3.9463000297546387, 3.946199893951416, 3.9460999965667725, 3.9460999965667725, 3.94569993019104, 3.94569993019104, 3.945199966430664, 3.944999933242798, 3.9444000720977783, 3.9440999031066895, 3.944000005722046, 3.9433000087738037, 3.9428999423980713, 3.942699909210205, 3.9426000118255615, 3.9423000812530518, 3.942199945449829, 3.9403998851776123, 3.9402999877929688, 3.9386000633239746, 3.9375998973846436, 3.9372000694274902, 3.9370999336242676, 3.937000036239624, 3.9367001056671143, 3.9367001056671143, 3.8194000720977783, 3.7839999198913574, 3.5539000034332275, 3.7623000144958496, 3.454200029373169, 3.4540998935699463, 3.4147000312805176, 2.9114999771118164, 3.3554999828338623, 2.934799909591675, 2.8466999530792236, 0.8328999876976013, 1.8071999549865723, 1.7975000143051147, 4.251100063323975, 4.2505998611450195, 4.249000072479248, 4.248899936676025, 4.248799800872803, 4.248799800872803, 4.248600006103516, 4.2484002113342285, 4.2480998039245605, 4.248000144958496, 4.248000144958496, 4.248000144958496, 4.247700214385986, 4.247600078582764, 4.247099876403809, 4.2469000816345215, 4.246699810028076, 4.246500015258789, 4.246200084686279, 4.245500087738037, 4.244999885559082, 4.24459981918335, 4.244500160217285, 4.244500160217285, 4.243800163269043, 4.243500232696533, 4.243299961090088, 4.243100166320801, 4.242499828338623, 4.242300033569336, 3.627700090408325, 3.5964999198913574, 3.1480000019073486, 3.5113000869750977, 2.918100118637085, 1.406000018119812, 4.462500095367432, 4.4618000984191895, 4.461400032043457, 4.461299896240234, 4.460100173950195, 4.459400177001953, 4.458600044250488, 4.458600044250488, 4.457900047302246, 4.457200050354004, 4.456699848175049, 4.456600189208984, 4.456299781799316, 4.456299781799316, 4.455999851226807, 4.455900192260742, 4.4552998542785645, 4.454800128936768, 4.453800201416016, 4.45359992980957, 4.453100204467773, 4.452000141143799, 4.452000141143799, 4.450399875640869, 4.449399948120117, 4.44920015335083, 4.445199966430664, 4.441699981689453, 4.43779993057251, 4.436200141906738, 3.504199981689453, 3.492300033569336, 2.9274001121520996, 4.566199779510498, 4.565999984741211, 4.564799785614014, 4.564199924468994, 4.562900066375732, 4.5609002113342285, 4.5605998039245605, 4.5584001541137695, 4.553800106048584, 4.553299903869629, 4.553100109100342, 4.543799877166748, 4.541999816894531, 4.538400173187256, 4.534599781036377, 4.5258002281188965, 4.5229997634887695, 4.51170015335083, 4.504300117492676, 4.45959997177124, 4.45389986038208, 4.448999881744385, 4.443399906158447, 4.416900157928467, 4.407599925994873, 4.373700141906738, 4.35260009765625, 4.069799900054932, 3.898200035095215, 3.6809000968933105, 3.319499969482422, 3.229599952697754, 3.210900068283081, 3.049499988555908, 2.7892000675201416, 2.096400022506714, 2.858599901199341, 3.4581000804901123, 2.5506999492645264, 1.6152000427246094, 4.6331000328063965, 4.631800174713135, 4.631499767303467, 4.630899906158447, 4.629799842834473, 4.626999855041504, 4.626999855041504, 4.6265997886657715, 4.626500129699707, 4.626299858093262, 4.625100135803223, 4.625100135803223, 4.621699810028076, 4.621200084686279, 4.620699882507324, 4.619699954986572, 4.61870002746582, 4.6184000968933105, 4.614500045776367, 4.610599994659424, 4.610400199890137, 4.605100154876709, 4.603600025177002, 4.6020002365112305, 4.599400043487549, 4.598299980163574, 4.594200134277344, 4.592400074005127, 4.583399772644043, 4.5808000564575195, 2.717400074005127, 3.54229998588562, 3.123500108718872, 3.364500045776367, 2.435800075531006, 3.1047000885009766, 2.63700008392334, 3.550600051879883, 1.8870999813079834, 2.450500011444092, 0.7408000230789185, 4.727399826049805, 4.7266998291015625, 4.726399898529053, 4.726399898529053, 4.726099967956543, 4.725500106811523, 4.725299835205078, 4.725200176239014, 4.723800182342529, 4.72189998626709, 4.720799922943115, 4.718299865722656, 4.716700077056885, 4.714700222015381, 4.714600086212158, 4.714399814605713, 4.711100101470947, 4.710400104522705, 4.710000038146973, 4.709700107574463, 4.709199905395508, 4.70419979095459, 4.689700126647949, 4.686600208282471, 4.6528000831604, 4.637199878692627, 4.577400207519531, 4.485199928283691, 3.881999969482422, 3.719399929046631, 3.4098000526428223, 3.4217000007629395, 2.8417999744415283, 1.0947999954223633, 4.964000225067139, 4.963900089263916, 4.963799953460693, 4.9633002281188965, 4.962900161743164, 4.962100028991699, 4.9618000984191895, 4.961400032043457, 4.960100173950195, 4.958399772644043, 4.957699775695801, 4.957600116729736, 4.957399845123291, 4.956999778747559, 4.9567999839782715, 4.954500198364258, 4.954100131988525, 4.953700065612793, 4.953000068664551, 4.951300144195557, 4.951099872589111, 4.9405999183654785, 4.9359002113342285, 4.932400226593018, 4.930300235748291, 4.9274001121521, 4.922399997711182, 4.912600040435791, 4.904099941253662, 4.899799823760986, 4.345099925994873, 5.402400016784668, 5.402200222015381, 5.400100231170654, 5.399700164794922, 5.399499893188477, 5.398799896240234, 5.39769983291626, 5.397299766540527, 5.395699977874756, 5.39300012588501, 5.390999794006348, 5.3892998695373535, 5.388800144195557, 5.388700008392334, 5.387899875640869, 5.3821001052856445, 5.378200054168701, 5.376299858093262, 5.373199939727783, 5.367599964141846, 5.363800048828125, 5.358399868011475, 5.355299949645996, 5.338900089263916, 3.422600030899048, 1.9974000453948975, 1.9973000288009644, 1.9973000288009644, 1.9973000288009644, 1.9972000122070312, 5.582399845123291, 5.581600189208984, 5.58050012588501, 5.57919979095459, 5.577000141143799, 5.5756001472473145, 5.575399875640869, 5.574900150299072, 5.57450008392334, 5.573999881744385, 5.5721001625061035, 5.565999984741211, 5.5625, 5.55210018157959, 5.548999786376953, 5.548699855804443, 5.546299934387207, 5.534900188446045, 5.500899791717529, 5.49970006942749, 5.49970006942749, 5.497499942779541, 5.478000164031982, 5.472300052642822, 2.4500999450683594, 2.3594000339508057, 2.359299898147583, 2.359299898147583, 2.359299898147583, 2.359299898147583, 2.3592000007629395, 2.3592000007629395, 5.697000026702881, 5.696300029754639, 5.696199893951416, 5.694799900054932, 5.691999912261963, 5.691500186920166, 5.691100120544434, 5.688899993896484, 5.688799858093262, 5.677800178527832, 5.676400184631348, 5.6605000495910645, 5.6570000648498535, 5.655300140380859, 5.6545000076293945, 5.65310001373291, 5.645999908447266, 5.64300012588501, 5.6168999671936035, 5.592800140380859, 5.552599906921387, 3.645699977874756, 2.762700080871582, 2.3966000080108643, 2.3966000080108643, 2.3966000080108643, 2.3966000080108643, 2.3966000080108643, 2.3966000080108643, 2.3966000080108643, 2.3966000080108643, 2.3965001106262207, 2.3965001106262207, 6.586999893188477, 6.582499980926514, 6.578000068664551, 6.566999912261963, 6.5578999519348145, 6.556700229644775, 6.555099964141846, 6.548500061035156, 6.461599826812744, 6.448599815368652, 6.409999847412109, 6.387700080871582, 6.382400035858154, 5.974100112915039, 2.721400022506714, 2.721400022506714, 2.721299886703491, 2.721299886703491, 2.721299886703491, 2.7211999893188477, 2.7211999893188477, 2.7211999893188477, 2.7211999893188477, 2.7211999893188477, 2.7211999893188477, 2.7211999893188477, 2.7211999893188477, 2.7211999893188477, 2.7211999893188477, 2.7211999893188477, 2.7211999893188477, 2.7211999893188477, 2.7211999893188477, 2.7211999893188477]}, \"token.table\": {\"Topic\": [1, 15, 17, 7, 2, 7, 9, 17, 19, 2, 3, 4, 1, 11, 12, 1, 4, 6, 7, 13, 1, 2, 3, 4, 6, 7, 9, 12, 18, 13, 1, 2, 8, 2, 6, 8, 6, 6, 10, 18, 2, 3, 10, 1, 8, 4, 10, 13, 10, 1, 2, 16, 16, 4, 10, 4, 9, 5, 20, 2, 4, 6, 9, 7, 5, 15, 1, 2, 1, 3, 6, 9, 1, 2, 16, 1, 8, 8, 2, 20, 2, 4, 6, 9, 15, 7, 4, 14, 6, 10, 8, 8, 13, 16, 11, 2, 6, 7, 15, 2, 7, 14, 1, 2, 3, 4, 6, 7, 1, 2, 6, 19, 14, 5, 6, 8, 3, 4, 10, 13, 18, 1, 3, 4, 7, 1, 3, 1, 8, 19, 2, 1, 10, 15, 8, 8, 8, 4, 10, 10, 1, 8, 10, 8, 5, 8, 4, 1, 3, 10, 14, 13, 4, 9, 9, 13, 9, 5, 1, 2, 7, 7, 3, 15, 9, 9, 19, 19, 19, 2, 6, 1, 3, 11, 12, 11, 13, 15, 4, 9, 8, 6, 17, 12, 13, 12, 16, 8, 4, 9, 3, 6, 1, 2, 3, 4, 7, 1, 4, 10, 3, 13, 4, 3, 10, 5, 7, 12, 1, 7, 12, 12, 17, 4, 10, 4, 14, 16, 19, 7, 12, 1, 2, 5, 2, 7, 4, 6, 11, 15, 5, 1, 14, 19, 1, 13, 20, 17, 4, 8, 18, 11, 15, 14, 16, 1, 1, 3, 11, 15, 19, 10, 17, 2, 12, 16, 2, 3, 5, 1, 12, 4, 9, 6, 6, 1, 4, 15, 5, 12, 9, 1, 11, 16, 2, 12, 3, 20, 12, 8, 2, 9, 17, 4, 1, 2, 3, 5, 7, 14, 5, 8, 12, 12, 12, 19, 10, 15, 1, 3, 4, 19, 8, 8, 1, 7, 8, 19, 5, 11, 9, 11, 1, 5, 16, 16, 7, 5, 3, 11, 11, 8, 4, 3, 14, 9, 15, 2, 6, 15, 9, 6, 1, 1, 4, 11, 12, 3, 9, 14, 1, 2, 3, 9, 5, 14, 10, 13, 4, 1, 2, 3, 14, 16, 11, 5, 14, 1, 2, 3, 4, 7, 8, 9, 9, 1, 3, 4, 10, 3, 9, 5, 4, 9, 7, 9, 13, 5, 9, 10, 8, 8, 1, 2, 5, 10, 1, 2, 3, 4, 17, 13, 17, 1, 2, 18, 17, 1, 2, 3, 14, 4, 10, 3, 6, 16, 10, 12, 3, 1, 2, 4, 16, 13, 1, 1, 6, 1, 2, 3, 17, 5, 2, 3, 6, 5, 16, 7, 3, 6, 13, 19, 2, 10, 13, 2, 7, 4, 5, 1, 12, 15, 7, 9, 18, 12, 16, 18, 19, 2, 6, 7, 9, 3, 1, 8, 1, 4, 2, 9, 2, 4, 9, 10, 7, 6, 15, 5, 16, 2, 16, 7, 16, 10, 11, 10, 1, 4, 8, 10, 3, 18, 4, 2, 1, 10, 13, 13, 1, 2, 1, 9, 6, 3, 10, 8, 16, 3, 6, 8, 1, 2, 3, 10, 14, 11, 4, 1, 3, 13, 8, 14, 14, 9, 8, 4, 14, 1, 3, 4, 1, 2, 3, 6, 17, 19, 1, 10, 2, 2, 18, 2, 9, 6, 8, 1, 2, 3, 1, 2, 14, 1, 3, 6, 11, 6, 2, 9, 7, 3, 1, 2, 3, 4, 1, 10, 6, 1, 3, 4, 7, 9, 9, 10, 4, 15, 1, 2, 3, 4, 7, 9, 1, 4, 15, 17, 17, 7, 1, 7, 10, 6, 9, 2, 4, 6, 15, 14, 5, 4, 10, 1, 4, 11, 9, 15, 16, 16, 3, 6, 11, 18, 18, 20, 20, 19, 1, 2, 3, 16, 4, 10, 10, 1, 3, 4, 7, 8, 1, 7, 4, 1, 18, 3, 2, 3, 4, 6, 2, 2, 1, 2, 3, 4, 7, 2, 1, 2, 14, 2, 2, 19, 2, 3, 4, 7, 8, 15, 19, 10, 7, 12, 2, 3, 4, 7, 9, 9, 9, 1, 10, 10, 2, 7, 1, 3, 5, 14, 13, 19, 20, 1, 7, 12, 4, 11, 14, 11, 2, 3, 4, 8, 12, 5, 6, 18, 6, 3, 9, 12, 1, 2, 3, 4, 5, 7, 8, 16, 7, 2, 17, 3, 6, 8, 10, 14, 14, 14, 1, 4, 10, 18, 6, 7, 14, 1, 4, 16, 14, 2, 17, 1, 2, 14, 13, 13, 11, 4, 14, 5, 1, 3, 9, 4, 13, 19, 1, 2, 9, 3, 7, 17, 13, 1, 7, 4, 2, 16, 4, 1, 3, 6, 4, 5, 6, 9, 11, 12, 3, 11, 7, 4, 1, 4, 8, 4, 7, 4, 11, 17, 3, 3, 13, 3, 15, 1, 2, 3, 4, 8, 16, 1, 8, 11, 10, 4, 6, 20, 12, 1, 1, 1, 8, 7, 16, 3, 5, 8, 18, 8, 4, 10, 16, 1, 2, 3, 2, 10, 7, 10, 11, 2, 3, 11, 6, 1, 15, 3, 6, 14, 9, 7, 10, 1, 11, 13, 2, 1, 2, 4, 3, 10, 11, 9, 4, 16, 18, 20, 2, 6, 13, 6, 10, 1, 2, 14, 2, 11, 5, 3, 1, 18, 9, 18, 11, 11, 11, 6, 14, 6, 8, 15, 14, 1, 2, 3, 6, 14, 4, 7, 4, 4, 1, 2, 3, 1, 2, 6, 2, 2, 9, 1, 3, 9, 20, 1, 3, 6, 7, 9, 1, 2, 3, 7, 15, 3, 20, 10, 13, 11, 7, 15, 2, 12, 11, 10, 15, 2, 3, 6, 10, 12, 2, 3, 8, 9, 10, 11, 15, 3, 7, 5, 15, 1, 3, 13, 15, 3, 4, 6, 9, 4, 10, 3, 13, 10, 1, 12, 17, 9, 9, 3, 11, 2, 17, 7, 14, 2, 9, 12, 8, 1, 3, 4, 6, 7, 18, 2, 19, 15, 4, 6, 11, 1, 2, 3, 3, 8, 10, 13, 4, 15, 4, 14, 10, 4, 11, 2, 4, 11, 1, 2, 12, 4, 10, 6, 20, 4, 8, 9, 2, 12, 18, 18, 1, 2, 1, 16, 6, 8, 1, 13, 14, 17, 3, 13, 14, 1, 2, 3, 6, 15, 2, 6, 14, 10, 14, 17, 18, 1, 17, 17, 4, 13, 13, 8, 10, 1, 4, 8, 9, 1, 1, 2, 6, 10, 10, 13, 17, 3, 20, 9, 2, 3, 4, 6, 7, 4, 6, 7, 3, 9, 11, 9, 15, 20, 2, 12, 15, 1, 13, 7, 10, 19, 14, 14, 1, 2, 10, 18, 2, 13, 12, 1, 2, 3, 10, 13, 13, 7, 1, 2, 3, 3, 2, 3, 15, 16, 18, 4, 6, 13, 6, 16, 9, 7, 10, 1, 10, 2, 1, 4, 6, 8, 2, 3, 6, 1, 10, 4, 19, 18, 1, 2, 3, 4, 1, 2, 8, 1, 1, 3, 14, 13, 1], \"Freq\": [0.999125063419342, 0.9142422676086426, 0.9433968663215637, 0.9983299374580383, 0.4078807234764099, 0.5105952024459839, 0.0803852528333664, 0.9502098560333252, 0.944991946220398, 0.9985222816467285, 0.9969975352287292, 0.9973205327987671, 0.999449610710144, 0.9963220357894897, 0.9818362593650818, 0.10934117436408997, 0.4451747536659241, 0.2733529210090637, 0.17117099463939667, 0.8799915909767151, 0.12924979627132416, 0.17728649079799652, 0.5106058120727539, 0.006738959811627865, 0.123374804854393, 0.05252932757139206, 0.0003455877013038844, 0.9861733913421631, 0.9966892600059509, 0.9633368253707886, 0.28687119483947754, 0.502955973148346, 0.20956499874591827, 0.9972922801971436, 0.9966824054718018, 0.9884850978851318, 0.9990173578262329, 0.9981212019920349, 0.99463951587677, 0.970788300037384, 0.08575514703989029, 0.8482118248939514, 0.06537768989801407, 0.4156498908996582, 0.5830807089805603, 0.21380217373371124, 0.27124154567718506, 0.513763427734375, 0.9959470629692078, 0.18042771518230438, 0.8194262385368347, 0.9960676431655884, 0.9975528120994568, 0.3891722857952118, 0.609778642654419, 0.33712151646614075, 0.6601963043212891, 0.9964850544929504, 0.8833224773406982, 0.18135827779769897, 0.052652403712272644, 0.2834129333496094, 0.48232200741767883, 0.998336672782898, 0.9999714493751526, 0.9927560091018677, 0.9719605445861816, 0.027770301327109337, 0.003693339880555868, 0.7866813540458679, 0.20744258165359497, 0.001846669940277934, 0.45350250601768494, 0.5462921261787415, 0.9981290698051453, 0.7733666300773621, 0.22618825733661652, 0.994090735912323, 0.9987837672233582, 0.8230701684951782, 0.4717874526977539, 0.01916460320353508, 0.02480125240981579, 0.05467548593878746, 0.42894890904426575, 0.9955108761787415, 0.9987173676490784, 0.9947444796562195, 0.9961565732955933, 0.995661199092865, 0.999282717704773, 0.9179636836051941, 0.07363344728946686, 0.9610912799835205, 0.9949570298194885, 0.15242844820022583, 0.10367880761623383, 0.7436036467552185, 0.9964081645011902, 0.9993939399719238, 0.9972178936004639, 0.9882169365882874, 0.18817004561424255, 0.5022308230400085, 0.2274692803621292, 0.063944511115551, 0.007660019677132368, 0.010324373841285706, 0.8911242485046387, 0.04378849267959595, 0.06482971459627151, 0.9888569712638855, 0.9860460758209229, 0.9998047351837158, 0.9990963339805603, 0.9898184537887573, 0.5260975360870361, 0.17492744326591492, 0.03551158681511879, 0.26304876804351807, 0.9424664378166199, 0.07815885543823242, 0.554729163646698, 0.3089924156665802, 0.05795677751302719, 0.2098497897386551, 0.7894349694252014, 0.998221218585968, 0.9977759718894958, 0.9703085422515869, 0.9980865120887756, 0.6453869342803955, 0.3537881374359131, 0.999284565448761, 0.9976509213447571, 0.996756911277771, 0.9985672831535339, 0.9752663373947144, 0.021998489275574684, 0.9951256513595581, 0.5332644581794739, 0.446234792470932, 0.019955841824412346, 0.9880996942520142, 0.998388409614563, 0.9969522356987, 0.9970554709434509, 0.013439793139696121, 0.8920662999153137, 0.08147874474525452, 0.011759819462895393, 0.8566077351570129, 0.05728624761104584, 0.9411312341690063, 0.9992051720619202, 0.9686732888221741, 0.99918133020401, 0.9945577383041382, 0.9863179326057434, 0.01345079205930233, 0.9967873692512512, 0.9974008798599243, 0.9890028834342957, 0.009853079915046692, 0.9945068955421448, 0.9758461713790894, 0.9261764287948608, 0.9718555212020874, 0.9848609566688538, 0.23430165648460388, 0.7647959589958191, 0.9978671073913574, 0.9972748160362244, 0.989984929561615, 0.9936449527740479, 0.9926964044570923, 0.8673426508903503, 0.9599680304527283, 0.4110950231552124, 0.5876103639602661, 0.9934159517288208, 0.996717631816864, 0.985177755355835, 0.9950205087661743, 0.9955952763557434, 0.4544331133365631, 0.5381444692611694, 0.9905776977539062, 0.11053434759378433, 0.8769058585166931, 0.9929195642471313, 0.0056784613989293575, 0.7607961893081665, 0.23445026576519012, 0.0008119489648379385, 0.003653770312666893, 0.9974514245986938, 0.20954561233520508, 0.5826936364173889, 0.2073044776916504, 0.9872142672538757, 0.011205610819160938, 0.9953811764717102, 0.9877080321311951, 0.011252370662987232, 0.9972724318504333, 0.9962192177772522, 0.9965815544128418, 0.47278499603271484, 0.5168095231056213, 0.00861349143087864, 0.9894014596939087, 0.9836552143096924, 0.9714266061782837, 0.026078566908836365, 0.9978357553482056, 0.9902305006980896, 0.9618929624557495, 0.971657931804657, 0.9976609349250793, 0.9911055564880371, 0.2142566740512848, 0.7841393351554871, 0.0016019190661609173, 0.11965667456388474, 0.8774822950363159, 0.17095410823822021, 0.7000462412834167, 0.1287565678358078, 0.9899065494537354, 0.9976493716239929, 0.9993369579315186, 0.9920030832290649, 0.988827645778656, 0.3863302767276764, 0.6096221208572388, 0.37738490104675293, 0.9856380820274353, 0.40115538239479065, 0.5965900421142578, 0.9872777462005615, 0.9962401986122131, 0.9979926347732544, 0.9899128675460815, 0.9754416346549988, 0.998340904712677, 0.02577141672372818, 0.9739447832107544, 0.9966901540756226, 0.9960455298423767, 0.95616614818573, 0.9871410131454468, 0.9947251081466675, 0.9986521601676941, 0.9984171390533447, 0.9977043867111206, 0.9986474514007568, 0.9975306987762451, 0.9979709386825562, 0.9974348545074463, 0.9840697646141052, 0.6507470011711121, 0.34697219729423523, 0.9997760057449341, 0.9990066885948181, 0.047097884118556976, 0.9516542553901672, 0.9743660688400269, 0.9972204566001892, 0.9898203015327454, 0.9901214838027954, 0.462513267993927, 0.535464882850647, 0.9594382047653198, 0.997003436088562, 0.9884799122810364, 0.9988305568695068, 0.760940432548523, 0.9942420125007629, 0.9870961308479309, 0.8078209757804871, 0.19155411422252655, 0.9618670344352722, 0.9985895752906799, 0.22032086551189423, 0.10278467833995819, 0.6314595937728882, 0.003806839929893613, 0.03568912670016289, 0.005710260011255741, 0.9983553290367126, 0.993276834487915, 0.992379903793335, 0.9983082413673401, 0.9986604452133179, 0.9140147566795349, 0.9953929781913757, 0.8222044706344604, 0.987593412399292, 0.007620319724082947, 0.004572191741317511, 0.93333899974823, 0.999333918094635, 0.9947676658630371, 0.3011690080165863, 0.15905894339084625, 0.5391055345535278, 0.9900301694869995, 0.997322678565979, 0.9908257126808167, 0.8826588988304138, 0.11233840882778168, 0.9988551139831543, 0.9973309636116028, 0.9838618040084839, 0.9920879602432251, 0.9970961213111877, 0.997822105884552, 0.9992947578430176, 0.9949593544006348, 0.9932488799095154, 0.9993040561676025, 0.9971339106559753, 0.9980654120445251, 0.997759222984314, 0.997126042842865, 0.5325585603713989, 0.1395948976278305, 0.5912254452705383, 0.2678990364074707, 0.9833977222442627, 0.9981128573417664, 0.9987495541572571, 0.5581952333450317, 0.1758476346731186, 0.26296481490135193, 0.9996920228004456, 0.6443825364112854, 0.017551274970173836, 0.335981547832489, 0.34555870294570923, 0.4850960969924927, 0.14952312409877777, 0.019445888698101044, 0.9955241084098816, 0.9931616187095642, 0.10892128944396973, 0.8882454633712769, 0.996390163898468, 0.2342471480369568, 0.014822090044617653, 0.7303512096405029, 0.020344045013189316, 0.9904430508613586, 0.9946112036705017, 0.9953447580337524, 0.9828327894210815, 0.07560360431671143, 0.19059351086616516, 0.012223336845636368, 0.03214285150170326, 0.5636316537857056, 0.12359151989221573, 0.0018108647782355547, 0.9962617754936218, 0.010158497840166092, 0.4744018316268921, 0.15237747132778168, 0.36265838146209717, 0.9982696175575256, 0.9975714683532715, 0.9972787499427795, 0.19936828315258026, 0.7988022565841675, 0.9961457252502441, 0.9837059378623962, 0.9992048740386963, 0.9967343211174011, 0.9842448234558105, 0.9941412806510925, 0.9724057912826538, 0.9898774027824402, 0.3019856810569763, 0.6978634595870972, 0.9981582760810852, 0.9922327995300293, 0.7669963836669922, 0.07602661848068237, 0.1246337965130806, 0.032404787838459015, 0.9818336367607117, 0.9796775579452515, 0.9528583884239197, 0.9387141466140747, 0.06119315326213837, 0.9975917935371399, 0.9974368214607239, 0.5646827220916748, 0.4249882996082306, 0.006242384668439627, 0.0038804011419415474, 0.8830088376998901, 0.11606071144342422, 0.9987115859985352, 0.9977970719337463, 0.9942558407783508, 0.9969648122787476, 0.9667059779167175, 0.9977567195892334, 0.4101499915122986, 0.2676470875740051, 0.32174167037010193, 0.994686484336853, 0.9994921088218689, 0.9977803230285645, 0.9993712306022644, 0.9977877140045166, 0.42620018124580383, 0.5736187100410461, 0.9984354376792908, 0.9923427104949951, 0.9973269104957581, 0.862860381603241, 0.025689363479614258, 0.1110687181353569, 0.9979396462440491, 0.9923728108406067, 0.9969727993011475, 0.8804453015327454, 0.11930153518915176, 0.9970800280570984, 0.9942682385444641, 0.7886791229248047, 0.04126809537410736, 0.16851139068603516, 0.9997241497039795, 0.9962733387947083, 0.997407078742981, 0.9968528747558594, 0.9982697367668152, 0.992023766040802, 0.996968150138855, 0.996720552444458, 0.9990430474281311, 0.9817451238632202, 0.9949440956115723, 0.9578036665916443, 0.9391372203826904, 0.9293964505195618, 0.013928752392530441, 0.0012662502704188228, 0.8589397668838501, 0.12578085064888, 0.9986487030982971, 0.5070409774780273, 0.49149951338768005, 0.0999961644411087, 0.8983262181282043, 0.7629282474517822, 0.2362319976091385, 0.3628684878349304, 0.3604685664176941, 0.2759912312030792, 0.9948713779449463, 0.9982964992523193, 0.9979918003082275, 0.988359808921814, 0.9969255924224854, 0.9505770206451416, 0.9991245865821838, 0.9972670674324036, 0.9969648122787476, 0.9987761974334717, 0.9958483576774597, 0.9870762825012207, 0.997709333896637, 0.12105494737625122, 0.8785422444343567, 0.4459902048110962, 0.5516750812530518, 0.9979073405265808, 0.8870021104812622, 0.9996595978736877, 0.9967655539512634, 0.27414506673812866, 0.6729698181152344, 0.052575767040252686, 0.9842306971549988, 0.7208395004272461, 0.27911877632141113, 0.9978016018867493, 0.9883444309234619, 0.9973423480987549, 0.41119658946990967, 0.5850856900215149, 0.9425020217895508, 0.05344083905220032, 0.9834498167037964, 0.015686092898249626, 0.974983811378479, 0.3324901759624481, 0.17511771619319916, 0.3782542645931244, 0.002334902761504054, 0.1111413761973381, 0.9979855418205261, 0.9994683265686035, 0.07067358493804932, 0.9145993590354919, 0.014134717173874378, 0.9847721457481384, 0.9866157174110413, 0.9803643226623535, 0.9876868724822998, 0.9900612235069275, 0.9978917837142944, 0.9626807570457458, 0.0012711979215964675, 0.9635680317878723, 0.034957945346832275, 0.9388046860694885, 0.06061573699116707, 0.998294472694397, 0.9965006113052368, 0.9965391159057617, 0.9558972716331482, 0.9792928695678711, 0.02017773687839508, 0.9987936615943909, 0.9999547004699707, 0.9951450824737549, 0.7417418360710144, 0.2570846974849701, 0.9956184029579163, 0.9964232444763184, 0.2591387927532196, 0.7343562841415405, 0.006484955083578825, 0.6208680272102356, 0.1573668271303177, 0.2210014909505844, 0.9984963536262512, 0.972049355506897, 0.026953067630529404, 0.9926520586013794, 0.9990426898002625, 0.8949512839317322, 0.10481004416942596, 0.9972419738769531, 0.9982004165649414, 0.6832608580589294, 0.09768185019493103, 0.21392709016799927, 0.004992912523448467, 0.8818722367286682, 0.11742450296878815, 0.9979172945022583, 0.7615338563919067, 0.1506274789571762, 0.0610651932656765, 0.006869834382086992, 0.01984618790447712, 0.9951715469360352, 0.983669638633728, 0.9971797466278076, 0.9886096119880676, 0.47050750255584717, 0.06419752538204193, 0.3562414050102234, 0.03086419589817524, 0.05418381094932556, 0.023731136694550514, 0.8442350029945374, 0.15540830790996552, 0.994724690914154, 0.9908713698387146, 0.9839485883712769, 0.9969022274017334, 0.18366268277168274, 0.6908636093139648, 0.12527984380722046, 0.9991198182106018, 0.9939454793930054, 0.637780487537384, 0.3396936357021332, 0.021658319979906082, 0.9851453900337219, 0.9785234332084656, 0.9978095293045044, 0.3878967761993408, 0.6101090312004089, 0.9885490536689758, 0.010935277678072453, 0.9973034858703613, 0.21341200172901154, 0.78460294008255, 0.9881836175918579, 0.9524506330490112, 0.9990923404693604, 0.9975583553314209, 0.9947217702865601, 0.997871994972229, 0.9946819543838501, 0.9731537103652954, 0.9912366271018982, 0.9946292638778687, 0.4819091260433197, 0.2220124751329422, 0.2955523729324341, 0.9933907389640808, 0.12015558034181595, 0.8774998784065247, 0.9870472550392151, 0.5432133674621582, 0.000431807100540027, 0.10622454434633255, 0.31910544633865356, 0.030658304691314697, 0.2896706163883209, 0.709491491317749, 0.9966827630996704, 0.997586727142334, 0.8871855139732361, 0.997679591178894, 0.8216758966445923, 0.030003691092133522, 0.07394610345363617, 0.07418235391378403, 0.9989534020423889, 0.9982019066810608, 0.9993262887001038, 0.7370832562446594, 0.04883899539709091, 0.13334330916404724, 0.08032729476690292, 0.9979708194732666, 0.2574709951877594, 0.6056838631629944, 0.13574402034282684, 0.9984061121940613, 0.9997299313545227, 0.9893826246261597, 0.05224776268005371, 0.08446721732616425, 0.3570263981819153, 0.3866334557533264, 0.11668667197227478, 0.002612388227134943, 0.9964927434921265, 0.9935387372970581, 0.9970045685768127, 0.9934484958648682, 0.28372862935066223, 0.442547470331192, 0.002076063072308898, 0.26746612787246704, 0.0038061158265918493, 0.9979830980300903, 0.9819090962409973, 0.9977864027023315, 0.986933171749115, 0.9949434399604797, 0.997752845287323, 0.9976480603218079, 0.09886389970779419, 0.9004631042480469, 0.9980485439300537, 0.9715040922164917, 0.9414603114128113, 0.05418476462364197, 0.9414235353469849, 0.11703528463840485, 0.881601870059967, 0.982258141040802, 0.9964313507080078, 0.6546652317047119, 0.33842864632606506, 0.9971175193786621, 0.9997872710227966, 0.8095249533653259, 0.10840459167957306, 0.0811084732413292, 0.9973375201225281, 0.9976822733879089, 0.9542707800865173, 0.043802592903375626, 0.998481810092926, 0.710946798324585, 0.2885001599788666, 0.9826130270957947, 0.08655041456222534, 0.07722959667444229, 0.5246286392211914, 0.17265696823596954, 0.006657723803073168, 0.045272521674633026, 0.08699426054954529, 0.9736701250076294, 0.9960991144180298, 0.9987302422523499, 0.9987548589706421, 0.9992545247077942, 0.9975677728652954, 0.1506505310535431, 0.8485621809959412, 0.9949093461036682, 0.9908728003501892, 0.9923334717750549, 0.9184261560440063, 0.03706362098455429, 0.044320832937955856, 0.9868201613426208, 0.9967994689941406, 0.7159400582313538, 0.2811777889728546, 0.5809605717658997, 0.41786304116249084, 0.98509281873703, 0.9452228546142578, 0.9987012147903442, 0.9907358288764954, 0.29506972432136536, 0.4861944317817688, 0.21627269685268402, 0.8204494714736938, 0.9936931729316711, 0.9968165159225464, 0.030581526458263397, 0.9686905145645142, 0.9993416666984558, 0.7483729124069214, 0.2515678107738495, 0.9911613464355469, 0.8175840973854065, 0.181902676820755, 0.9961295127868652, 0.11894390732049942, 0.8805153369903564, 0.9891591668128967, 0.9182570576667786, 0.0814916267991066, 0.9872600436210632, 0.974795937538147, 0.13861578702926636, 0.8597925305366516, 0.9978078007698059, 0.9993685483932495, 0.9950588345527649, 0.9975106716156006, 0.28462353348731995, 0.11727543920278549, 0.5977094173431396, 0.9977788329124451, 0.9964228868484497, 0.6273626685142517, 0.09878797084093094, 0.05824948102235794, 0.21528694033622742, 0.4789912700653076, 0.5199100971221924, 0.9974186420440674, 0.9986996650695801, 0.42514219880104065, 0.13757917284965515, 0.43641915917396545, 0.27918627858161926, 0.7204641699790955, 0.9991176724433899, 0.9930604100227356, 0.9647645354270935, 0.9981722831726074, 0.7400883436203003, 0.257108598947525, 0.9983904957771301, 0.9824169278144836, 0.20295079052448273, 0.535668134689331, 0.04607897624373436, 0.05522701144218445, 0.15992115437984467, 0.9834260940551758, 0.5066617727279663, 0.49238958954811096, 0.9942319393157959, 0.9880834221839905, 0.711540937423706, 0.2874912917613983, 0.9617201089859009, 0.9834502935409546, 0.9979689121246338, 0.9984315037727356, 0.7116175293922424, 0.2879539728164673, 0.9989562630653381, 0.9599325656890869, 0.9978148341178894, 0.9941771626472473, 0.9935098886489868, 0.9873979687690735, 0.9981725811958313, 0.9390107989311218, 0.038266897201538086, 0.02060525305569172, 0.9843629002571106, 0.014753148891031742, 0.9981075525283813, 0.9667949080467224, 0.0326344259083271, 0.9679102897644043, 0.030715972185134888, 0.9953241348266602, 0.2835302948951721, 0.38359981775283813, 0.33118245005607605, 0.9956414103507996, 0.9968463182449341, 0.9884263873100281, 0.9884243607521057, 0.010782810859382153, 0.9695867896080017, 0.9844843745231628, 0.9684863090515137, 0.03055454045534134, 0.996643602848053, 0.9964432120323181, 0.9881393313407898, 0.9972622394561768, 0.6315842866897583, 0.0002804548421408981, 0.3679567575454712, 0.9976514577865601, 0.9921761155128479, 0.9947598576545715, 0.9859106540679932, 0.9960552453994751, 0.9891996383666992, 0.8889462351799011, 0.9508662223815918, 0.0025201665703207254, 0.9126603007316589, 0.08460558950901031, 0.9973568320274353, 0.9937230944633484, 0.9651435017585754, 0.03450155630707741, 0.96352618932724, 0.9987444281578064, 0.9970235228538513, 0.9976519346237183, 0.9976102709770203, 0.9998412728309631, 0.989043653011322, 0.9941231608390808, 0.9739978313446045, 0.9944283962249756, 0.9985299706459045, 0.9967275857925415, 0.9985058307647705, 0.9494245052337646, 0.9989453554153442, 0.9967138767242432, 0.9962882399559021, 0.998430609703064, 0.09097816050052643, 0.02610677480697632, 0.739691972732544, 0.07911144196987152, 0.06408026814460754, 0.9957111477851868, 0.9980289340019226, 0.9978026747703552, 0.9981040358543396, 0.9493967890739441, 0.04333346337080002, 0.007162556052207947, 0.9100397825241089, 0.08634921908378601, 0.0033730161376297474, 0.9993581175804138, 0.740430474281311, 0.25898027420043945, 0.9995449185371399, 0.9987183809280396, 0.9989014267921448, 0.9885990619659424, 0.18535831570625305, 0.10257187485694885, 0.6305306553840637, 0.007810041308403015, 0.0734143853187561, 0.04440275952219963, 0.07030437141656876, 0.34689655900001526, 0.5374584197998047, 0.9833746552467346, 0.9978048205375671, 0.7786217331886292, 0.10413061827421188, 0.8925482034683228, 0.9924197793006897, 0.9958752393722534, 0.9780359864234924, 0.6200653910636902, 0.37816333770751953, 0.9883805513381958, 0.9863705635070801, 0.9985222220420837, 0.0144776850938797, 0.9844825267791748, 0.9989891648292542, 0.9981875419616699, 0.9957197308540344, 0.9989840984344482, 0.40969303250312805, 0.051932916045188904, 0.5164440274238586, 0.02077316679060459, 0.9989425539970398, 0.98976731300354, 0.9990482330322266, 0.9970358610153198, 0.997951328754425, 0.9985548257827759, 0.9987474083900452, 0.6612199544906616, 0.3273366093635559, 0.948683500289917, 0.9984479546546936, 0.5800096392631531, 0.4180249869823456, 0.0010450624395161867, 0.9965156316757202, 0.0031019942834973335, 0.710580587387085, 0.2875663638114929, 0.9894142746925354, 0.9987619519233704, 0.9915243983268738, 0.9515367150306702, 0.9858828783035278, 0.9842215776443481, 0.9851874709129333, 0.013580278493463993, 0.9990423917770386, 0.9819234609603882, 0.9984142780303955, 0.9841257929801941, 0.997893750667572, 0.0016225914005190134, 0.9976665377616882, 0.9876968264579773, 0.06308378279209137, 0.061957284808158875, 0.27430179715156555, 0.5525463223457336, 0.047876082360744476, 0.9516603350639343, 0.868386447429657, 0.12695708870887756, 0.9520328640937805, 0.22311155498027802, 0.7619303464889526, 0.014771219342947006, 0.8049950003623962, 0.012636936269700527, 0.18201622366905212, 0.975109875202179, 0.024531066417694092, 0.0474054291844368, 0.9481086134910583, 0.9964607954025269, 0.99749755859375, 0.9967792630195618, 0.9993325471878052, 0.9841148853302002, 0.5189255475997925, 0.47656428813934326, 0.40930816531181335, 0.5002655386924744, 0.08924119174480438, 0.9847993850708008, 0.014754724688827991, 0.9895220994949341, 0.1672101616859436, 0.8280884027481079, 0.9991651177406311, 0.9542489647865295, 0.18408651649951935, 0.19571302831172943, 0.6162053942680359, 0.9995872974395752, 0.9883330464363098, 0.931413471698761, 0.9750809073448181, 0.9984531402587891, 0.0011431797174736857, 0.9997768402099609, 0.9923589825630188, 0.9958057403564453, 0.9965300559997559, 0.8651955723762512, 0.13293369114398956, 0.9699797630310059, 0.9943469166755676, 0.1706290990114212, 0.8237266540527344, 0.9495625495910645, 0.663135826587677, 0.13666807115077972, 0.18315492570400238, 0.016919244080781937, 0.9753705263137817, 0.6883925795555115, 0.19718661904335022, 0.11267806589603424, 0.9954887628555298, 0.9968655109405518, 0.9843534827232361, 0.9783303141593933, 0.8594658970832825, 0.13685762882232666, 0.9956378936767578, 0.9981074929237366, 0.9822561144828796, 0.9944127798080444, 0.9904767870903015, 0.9895453453063965, 0.7721545100212097, 0.017102684825658798, 0.21029967069625854, 0.9968973994255066, 0.9990637898445129, 0.5529783368110657, 0.39192402362823486, 0.054944977164268494, 0.9970342516899109, 0.9968084692955017, 0.948932945728302, 0.9951336979866028, 0.9983904957771301, 0.9787245392799377, 0.9973185062408447, 0.239213228225708, 0.07398523390293121, 0.20811551809310913, 0.46663665771484375, 0.011960661970078945, 0.09124988317489624, 0.8625286221504211, 0.04453863203525543, 0.9979882836341858, 0.9916130304336548, 0.994712233543396, 0.8381480574607849, 0.15239055454730988, 0.9106399416923523, 0.5892524719238281, 0.3830704689025879, 0.02591359056532383, 0.5660580396652222, 0.40095776319503784, 0.9985699653625488, 0.9974901080131531, 0.9334335327148438, 0.9831123352050781, 0.9741496443748474, 0.44306135177612305, 0.5567250847816467, 0.9981832504272461, 0.9889246225357056, 0.7782256007194519, 0.2183510661125183, 0.9950547218322754, 0.8357885479927063, 0.022059662267565727, 0.13657161593437195, 0.005205088760703802, 0.9967950582504272, 0.9742531180381775, 0.997546911239624, 0.7417349815368652, 0.048803552985191345, 0.20924276113510132, 0.9989182353019714, 0.027721641585230827, 0.6999714970588684, 0.27028602361679077, 0.9902510643005371, 0.9086033701896667, 0.9974461197853088, 0.1920354664325714, 0.8069273233413696, 0.9991116523742676, 0.9965884685516357, 0.9774109125137329, 0.9987048506736755, 0.9951049089431763, 0.6672115921974182, 0.3313964605331421, 0.9989455342292786, 0.6872924566268921, 0.0047454023733735085, 0.003163601504638791, 0.3044966459274292, 0.33243870735168457, 0.45486846566200256, 0.2124982476234436, 0.9466740489006042, 0.05292798951268196, 0.9963443875312805, 0.9627504348754883, 0.9542784690856934, 0.8232129216194153, 0.1664694994688034, 0.007165905553847551, 0.003071102313697338, 0.2337331473827362, 0.7661972045898438, 0.9931723475456238, 0.999293863773346, 0.027804255485534668, 0.8249325752258301, 0.14712172746658325, 0.9922588467597961, 0.9984816908836365], \"Term\": [\"accept\", \"acceptance\", \"accidentally\", \"addition\", \"address\", \"address\", \"address\", \"adequately\", \"adjust\", \"advance\", \"advice\", \"agency\", \"agree\", \"air\", \"allocate\", \"allow\", \"allow\", \"allow\", \"allow\", \"along\", \"also\", \"also\", \"also\", \"also\", \"also\", \"also\", \"also\", \"angel\", \"animal\", \"annoy\", \"answer\", \"answer\", \"answer\", \"anyway\", \"apple\", \"applicable\", \"application\", \"appreciate\", \"arab\", \"arbitrary\", \"area\", \"area\", \"area\", \"argument\", \"argument\", \"arm\", \"arm\", \"arm\", \"armenian\", \"article\", \"article\", \"atheism\", \"atheist\", \"attack\", \"attack\", \"author\", \"author\", \"auto\", \"automate\", \"available\", \"available\", \"available\", \"available\", \"avoid\", \"ax\", \"backup\", \"bad\", \"bad\", \"base\", \"base\", \"base\", \"base\", \"be\", \"be\", \"belief\", \"believe\", \"believe\", \"biblical\", \"bike\", \"birthday\", \"bit\", \"bit\", \"bit\", \"bit\", \"bit\", \"blank\", \"block\", \"blue\", \"board\", \"bomb\", \"book\", \"bother\", \"bother\", \"boundary\", \"boy\", \"build\", \"build\", \"build\", \"bus\", \"buy\", \"cable\", \"cage\", \"call\", \"call\", \"call\", \"call\", \"call\", \"call\", \"can\", \"can\", \"can\", \"cap\", \"captain\", \"car\", \"card\", \"careful\", \"carry\", \"carry\", \"carry\", \"carry\", \"cart\", \"case\", \"case\", \"case\", \"case\", \"cause\", \"cause\", \"certainly\", \"character\", \"characteristic\", \"cheap\", \"child\", \"child\", \"chip\", \"christian\", \"christianity\", \"church\", \"citizen\", \"citizen\", \"civilian\", \"claim\", \"claim\", \"claim\", \"classic\", \"clean\", \"clearly\", \"clipper\", \"close\", \"close\", \"close\", \"close\", \"cock\", \"code\", \"code\", \"color\", \"colt\", \"com\", \"combine\", \"come\", \"come\", \"communication\", \"community\", \"compare\", \"compare\", \"compile\", \"compiler\", \"complexity\", \"compress\", \"compute\", \"computer\", \"computer\", \"conclusion\", \"condition\", \"conference\", \"configuration\", \"confirm\", \"confrontation\", \"consent\", \"contain\", \"contain\", \"context\", \"convert\", \"conviction\", \"cool\", \"cop\", \"core\", \"core\", \"corner\", \"correction\", \"correction\", \"cost\", \"cost\", \"could\", \"could\", \"could\", \"could\", \"count\", \"country\", \"country\", \"country\", \"couple\", \"couple\", \"court\", \"cover\", \"cover\", \"coverage\", \"cpu\", \"crash\", \"create\", \"create\", \"create\", \"creator\", \"creature\", \"crime\", \"crime\", \"criminal\", \"cross\", \"cubic\", \"curve\", \"cycle\", \"cylinder\", \"d\", \"d\", \"d\", \"date\", \"date\", \"datum\", \"datum\", \"datum\", \"daughter\", \"dealer\", \"death\", \"decent\", \"default\", \"defense\", \"defense\", \"defenseless\", \"deliver\", \"deny\", \"deny\", \"depth\", \"development\", \"device\", \"devil\", \"dialog\", \"die\", \"difference\", \"difference\", \"digital\", \"direct\", \"disable\", \"disarm\", \"disease\", \"disk\", \"display\", \"distribution\", \"distribution_usa\", \"division\", \"door\", \"doubt\", \"download\", \"draw\", \"draw\", \"drive\", \"driver\", \"drug\", \"drug\", \"dry\", \"dual\", \"dump\", \"duo\", \"earth\", \"earth\", \"ease\", \"eat\", \"edit\", \"effect\", \"elderly\", \"electrical\", \"elsewhere\", \"email\", \"email\", \"emphasis\", \"encryption\", \"end\", \"end\", \"end\", \"end\", \"end\", \"end\", \"engine\", \"enjoy\", \"entity\", \"entry\", \"error\", \"escalate\", \"escape\", \"esdi\", \"even\", \"even\", \"even\", \"everytime\", \"evidence\", \"excuse\", \"exist\", \"exist\", \"exist\", \"expansion\", \"expensive\", \"experiment\", \"expire\", \"expire\", \"explain\", \"export\", \"exposure\", \"extension\", \"external\", \"extra\", \"face\", \"facility\", \"factory\", \"faith\", \"false\", \"family\", \"fan\", \"faq\", \"fasst\", \"fast\", \"fast\", \"fast\", \"fate\", \"feature\", \"feel\", \"field\", \"field\", \"field\", \"file\", \"final\", \"final\", \"final\", \"find\", \"find\", \"find\", \"find\", \"finger\", \"finish\", \"fire\", \"fire\", \"firearm\", \"first\", \"first\", \"first\", \"first\", \"fish\", \"flight\", \"floor\", \"flyer\", \"follow\", \"follow\", \"follow\", \"follow\", \"follow\", \"follow\", \"follow\", \"font\", \"force\", \"force\", \"force\", \"force\", \"forget\", \"format\", \"fuel\", \"function\", \"function\", \"future\", \"fuzzy\", \"game\", \"gas\", \"generic\", \"genocide\", \"gentile\", \"german\", \"get\", \"get\", \"gift\", \"girl\", \"give\", \"give\", \"give\", \"give\", \"glad\", \"glass\", \"glory\", \"go\", \"go\", \"goal\", \"god\", \"good\", \"good\", \"good\", \"good\", \"government\", \"government\", \"grant\", \"graphic\", \"greatly_appreciate\", \"greek\", \"grip\", \"ground\", \"group\", \"group\", \"group\", \"guilty\", \"gun\", \"guy\", \"happen\", \"hardware\", \"have\", \"have\", \"head\", \"health\", \"heat\", \"help\", \"help\", \"help\", \"here\", \"hi\", \"hide\", \"high\", \"high\", \"hit\", \"hole\", \"home\", \"home\", \"home\", \"host\", \"hot\", \"house\", \"huge\", \"human\", \"icon\", \"ide\", \"ignore\", \"image\", \"imho\", \"implementation\", \"inappropriate\", \"incidentally\", \"incline\", \"include\", \"include\", \"include\", \"include\", \"increase\", \"indeed\", \"indeed\", \"individual\", \"individual\", \"info\", \"info\", \"information\", \"information\", \"information\", \"inhabitant\", \"input\", \"instal\", \"installation\", \"insurance\", \"integration\", \"interested\", \"interface\", \"internal\", \"internet\", \"invasion\", \"investigation\", \"israeli\", \"issue\", \"issue\", \"jewish\", \"jewish\", \"job\", \"jubilees_re\", \"key\", \"keyword\", \"kill\", \"kill\", \"kill\", \"knock\", \"know\", \"know\", \"knowledge\", \"label\", \"laboratory\", \"land\", \"land\", \"language\", \"language\", \"large\", \"large\", \"largely\", \"last\", \"last\", \"last\", \"last\", \"last\", \"launch\", \"law\", \"lead\", \"lead\", \"lead\", \"leadership\", \"leafs\", \"leak\", \"leather\", \"left\", \"legal\", \"lemieux\", \"less\", \"less\", \"less\", \"let\", \"let\", \"level\", \"library\", \"license\", \"licensing\", \"life\", \"life\", \"light\", \"line\", \"link\", \"list\", \"list\", \"load\", \"logic\", \"look\", \"look\", \"look\", \"lose\", \"lose\", \"lose\", \"love\", \"low\", \"low\", \"lunar\", \"machine\", \"mail\", \"mail\", \"main\", \"major\", \"make\", \"make\", \"make\", \"make\", \"man\", \"man\", \"manager\", \"many\", \"many\", \"many\", \"many\", \"many\", \"map\", \"massacre\", \"master\", \"maximum\", \"may\", \"may\", \"may\", \"may\", \"may\", \"may\", \"mean\", \"mean\", \"meaning\", \"medical\", \"medicine\", \"meet\", \"member\", \"member\", \"member\", \"memory\", \"mercy\", \"message\", \"message\", \"message\", \"meter\", \"mid\", \"mile\", \"military\", \"military\", \"mind\", \"mind\", \"mission\", \"mode\", \"mode\", \"modem\", \"module\", \"money\", \"monitor\", \"moon\", \"moral\", \"morality\", \"moslem\", \"motif\", \"mouse\", \"much\", \"much\", \"much\", \"multiple\", \"murder\", \"murder\", \"muslim\", \"must\", \"must\", \"must\", \"must\", \"must\", \"name\", \"name\", \"national\", \"nature\", \"nec_zx\", \"necessary\", \"need\", \"need\", \"need\", \"need\", \"net\", \"network\", \"never\", \"new\", \"new\", \"new\", \"new\", \"news\", \"next\", \"next\", \"next\", \"nice\", \"nntp_poste\", \"noise\", \"non\", \"non\", \"non\", \"non\", \"non\", \"non\", \"normal\", \"northern\", \"notice\", \"nuclear\", \"number\", \"number\", \"number\", \"number\", \"number\", \"object\", \"observer\", \"obviously\", \"occupation\", \"occupy\", \"office\", \"official\", \"often\", \"often\", \"oil\", \"oiler\", \"ok\", \"ok\", \"okay\", \"open\", \"open\", \"openwindow\", \"operate\", \"opportunity\", \"opportunity\", \"orbit\", \"organization\", \"other\", \"other\", \"other\", \"output\", \"own\", \"pack\", \"pack\", \"package\", \"page\", \"page\", \"parameter\", \"part\", \"part\", \"part\", \"part\", \"part\", \"part\", \"part\", \"partially\", \"particularly\", \"pass\", \"patient\", \"pay\", \"pc\", \"peace\", \"peace\", \"pen\", \"penalty\", \"penguin\", \"people\", \"people\", \"people\", \"percentage\", \"performance\", \"period\", \"period\", \"person\", \"person\", \"phase\", \"philly\", \"phone\", \"physician\", \"pick\", \"pick\", \"pick\", \"pistol\", \"pitch\", \"plane\", \"play\", \"play\", \"player\", \"point\", \"point\", \"pointer\", \"police\", \"police\", \"port\", \"post\", \"post\", \"postscript\", \"power\", \"power\", \"preach\", \"prescription\", \"press\", \"press\", \"prevent\", \"price\", \"printer\", \"private\", \"problem\", \"problem\", \"problem\", \"processor\", \"production\", \"program\", \"program\", \"program\", \"program\", \"project\", \"project\", \"proper\", \"protect\", \"prove\", \"prove\", \"prove\", \"provide\", \"provide\", \"public\", \"publication\", \"publicly\", \"publish\", \"pull\", \"pull\", \"purpose\", \"quadra\", \"question\", \"question\", \"question\", \"question\", \"question\", \"quit\", \"quote\", \"quote\", \"radiation\", \"rape\", \"rate\", \"rate\", \"ratio\", \"reactor\", \"reality\", \"realize\", \"reason\", \"reason\", \"receive\", \"redesign\", \"reduce\", \"reflect\", \"reject\", \"relationship\", \"religion\", \"religious\", \"religious\", \"religious\", \"remember\", \"remember\", \"replace\", \"reply\", \"reply\", \"report\", \"report\", \"requirement\", \"research\", \"research\", \"research\", \"resolution\", \"respect\", \"restore\", \"result\", \"result\", \"retire\", \"retrieve\", \"return\", \"return\", \"revelation\", \"review\", \"revolver\", \"ride\", \"right\", \"right\", \"right\", \"risk\", \"rocket\", \"role\", \"roman\", \"room\", \"routine\", \"rude\", \"ruin\", \"run\", \"run\", \"run\", \"running\", \"russian\", \"s\", \"s\", \"sabre\", \"sale\", \"satellite\", \"saturn\", \"save\", \"say\", \"scale\", \"scare\", \"scene\", \"schedule\", \"science\", \"scientific\", \"score\", \"scorer\", \"screen\", \"scripture\", \"scsi\", \"season\", \"second\", \"second\", \"second\", \"second\", \"second\", \"secret\", \"section\", \"secure\", \"security\", \"see\", \"see\", \"see\", \"seem\", \"seem\", \"seem\", \"sell\", \"send\", \"send\", \"sense\", \"serious\", \"server\", \"session\", \"set\", \"set\", \"set\", \"set\", \"set\", \"several\", \"several\", \"several\", \"several\", \"sgi\", \"shall\", \"sharing\", \"shoot\", \"shoot\", \"shuttle\", \"significant\", \"sister\", \"size\", \"size\", \"sky\", \"slaughter\", \"slow\", \"small\", \"small\", \"software\", \"soldier\", \"solid\", \"soon\", \"source\", \"source\", \"source\", \"source\", \"space\", \"spacecraft\", \"speak\", \"special\", \"specify\", \"speed\", \"spend\", \"spot\", \"spot\", \"stall\", \"stand\", \"standard\", \"standard\", \"standard\", \"state\", \"state\", \"steal\", \"steal\", \"stone\", \"story\", \"stream\", \"strictly\", \"stroke\", \"stuck\", \"study\", \"study\", \"stuff\", \"subjective\", \"suggest\", \"suitable\", \"summary\", \"summary\", \"sun\", \"superior\", \"support\", \"support\", \"support\", \"support\", \"support\", \"swear\", \"switch\", \"switch\", \"synchronous\", \"system\", \"system\", \"system\", \"take\", \"take\", \"take\", \"talk\", \"talk\", \"tank\", \"tank\", \"tap\", \"tape\", \"teach\", \"team\", \"tear\", \"technical\", \"technical\", \"technology\", \"technology\", \"technology\", \"tell\", \"tell\", \"terminal\", \"terrorism\", \"terrorism\", \"test\", \"testing\", \"text\", \"text\", \"text\", \"thank\", \"thermal\", \"thesis\", \"thick\", \"thing\", \"thing\", \"think\", \"thinking\", \"though\", \"thread\", \"throw\", \"throw\", \"thumb\", \"ticket\", \"tie\", \"tie\", \"tighten\", \"time\", \"time\", \"time\", \"time\", \"tip\", \"top\", \"top\", \"top\", \"town\", \"trade\", \"traditional\", \"translate\", \"treat\", \"treat\", \"treatment\", \"trial\", \"trigger\", \"trip\", \"trivial\", \"troop\", \"true\", \"true\", \"true\", \"trust\", \"truth\", \"try\", \"try\", \"try\", \"turk\", \"turkish\", \"turning\", \"univ\", \"university\", \"unknown\", \"update\", \"use\", \"use\", \"use\", \"use\", \"use\", \"user\", \"user\", \"user\", \"usually\", \"utility\", \"vehicle\", \"vendor\", \"vendor\", \"verification\", \"version\", \"version\", \"version\", \"victory\", \"victory\", \"video\", \"village\", \"vitamin\", \"volt\", \"voting\", \"want\", \"want\", \"war\", \"warrant\", \"watch\", \"watch\", \"water\", \"way\", \"way\", \"way\", \"way\", \"weapon\", \"weeks_ago\", \"weight\", \"well\", \"well\", \"well\", \"whole\", \"wide\", \"wide\", \"wide\", \"widget\", \"wild_corn\", \"willing\", \"win\", \"win\", \"window\", \"wing\", \"winter\", \"wire\", \"withdraw\", \"woman\", \"woman\", \"wonder\", \"word\", \"word\", \"word\", \"word\", \"work\", \"work\", \"work\", \"world\", \"world\", \"worry\", \"worse\", \"worthwhile\", \"would\", \"would\", \"would\", \"would\", \"write\", \"write\", \"writing\", \"wrong\", \"year\", \"year\", \"year\", \"yesterday\", \"young\"]}, \"R\": 30, \"lambda.step\": 0.01, \"plot.opts\": {\"xlab\": \"PC1\", \"ylab\": \"PC2\"}, \"topic.order\": [2, 19, 10, 20, 4, 11, 7, 3, 17, 15, 12, 1, 13, 9, 8, 5, 14, 16, 6, 18]};\n",
       "\n",
       "function LDAvis_load_lib(url, callback){\n",
       "  var s = document.createElement('script');\n",
       "  s.src = url;\n",
       "  s.async = true;\n",
       "  s.onreadystatechange = s.onload = callback;\n",
       "  s.onerror = function(){console.warn(\"failed to load library \" + url);};\n",
       "  document.getElementsByTagName(\"head\")[0].appendChild(s);\n",
       "}\n",
       "\n",
       "if(typeof(LDAvis) !== \"undefined\"){\n",
       "   // already loaded: just create the visualization\n",
       "   !function(LDAvis){\n",
       "       new LDAvis(\"#\" + \"ldavis_el82004820811435683607168098\", ldavis_el82004820811435683607168098_data);\n",
       "   }(LDAvis);\n",
       "}else if(typeof define === \"function\" && define.amd){\n",
       "   // require.js is available: use it to load d3/LDAvis\n",
       "   require.config({paths: {d3: \"/nbextensions/d3.v3.min\"}});\n",
       "   require([\"d3\"], function(d3){\n",
       "      window.d3 = d3;\n",
       "      LDAvis_load_lib(\"/nbextensions/ldavis.v1.0.0.js\", function(){\n",
       "        new LDAvis(\"#\" + \"ldavis_el82004820811435683607168098\", ldavis_el82004820811435683607168098_data);\n",
       "      });\n",
       "    });\n",
       "}else{\n",
       "    // require.js not available: dynamically load d3 & LDAvis\n",
       "    LDAvis_load_lib(\"/nbextensions/d3.v3.min.js\", function(){\n",
       "         LDAvis_load_lib(\"/nbextensions/ldavis.v1.0.0.js\", function(){\n",
       "                 new LDAvis(\"#\" + \"ldavis_el82004820811435683607168098\", ldavis_el82004820811435683607168098_data);\n",
       "            })\n",
       "         });\n",
       "}\n",
       "</script>"
      ],
      "text/plain": [
       "PreparedData(topic_coordinates=              x         y  topics  cluster       Freq\n",
       "topic                                                \n",
       "1     -0.335364 -0.218267       1        1  28.081539\n",
       "18    -0.302094 -0.145496       2        1  18.161077\n",
       "9     -0.271703 -0.004746       3        1  15.587172\n",
       "19    -0.213096  0.101498       4        1   8.115520\n",
       "3      0.014951  0.120978       5        1   5.748415\n",
       "10    -0.144782  0.267471       6        1   5.683754\n",
       "6     -0.129297  0.186518       7        1   5.130859\n",
       "2     -0.061629 -0.075713       8        1   2.127743\n",
       "16    -0.004350  0.061572       9        1   1.972849\n",
       "14    -0.017451 -0.093337      10        1   1.926060\n",
       "11     0.069867  0.073902      11        1   1.423660\n",
       "0      0.119248  0.021321      12        1   1.152805\n",
       "12     0.109364 -0.008476      13        1   1.039022\n",
       "8      0.085700 -0.055339      14        1   0.971762\n",
       "7      0.131271 -0.009902      15        1   0.884115\n",
       "4      0.160936 -0.037339      16        1   0.697311\n",
       "13     0.172486 -0.042857      17        1   0.449721\n",
       "15     0.198590 -0.044309      18        1   0.375321\n",
       "5      0.200525 -0.048632      19        1   0.334409\n",
       "17     0.216827 -0.048847      20        1   0.136876, topic_info=              Term          Freq         Total Category  logprob  loglift\n",
       "3718            ax  36366.000000  36366.000000  Default  30.0000  30.0000\n",
       "18            line  15681.000000  15681.000000  Default  29.0000  29.0000\n",
       "197          write  13138.000000  13138.000000  Default  28.0000  28.0000\n",
       "39            year   4567.000000   4567.000000  Default  27.0000  27.0000\n",
       "140         people   7716.000000   7716.000000  Default  26.0000  26.0000\n",
       "...            ...           ...           ...      ...      ...      ...\n",
       "6226  redistribute      0.026006      1.250052  Topic20 -11.0266   2.7212\n",
       "6951     judgement      0.026006      1.250070  Topic20 -11.0266   2.7212\n",
       "9115      tomorrow      0.026006      1.250075  Topic20 -11.0266   2.7212\n",
       "5664  announcement      0.026006      1.250103  Topic20 -11.0266   2.7212\n",
       "4072          baby      0.026006      1.250080  Topic20 -11.0266   2.7212\n",
       "\n",
       "[870 rows x 6 columns], token_table=      Topic      Freq          Term\n",
       "term                               \n",
       "1227      1  0.999125        accept\n",
       "345      15  0.914242    acceptance\n",
       "326      17  0.943397  accidentally\n",
       "0         7  0.998330      addition\n",
       "175       2  0.407881       address\n",
       "...     ...       ...           ...\n",
       "39        1  0.027804          year\n",
       "39        3  0.824933          year\n",
       "39       14  0.147122          year\n",
       "722      13  0.992259     yesterday\n",
       "570       1  0.998482         young\n",
       "\n",
       "[1125 rows x 3 columns], R=30, lambda_step=0.01, plot_opts={'xlab': 'PC1', 'ylab': 'PC2'}, topic_order=[2, 19, 10, 20, 4, 11, 7, 3, 17, 15, 12, 1, 13, 9, 8, 5, 14, 16, 6, 18])"
      ]
     },
     "execution_count": 18,
     "metadata": {},
     "output_type": "execute_result"
    }
   ],
   "source": [
    "# Visualize the topics\n",
    "pyLDAvis.enable_notebook(local=True)\n",
    "vis = pyLDAvis.gensim.prepare(lda_model, corpus, id2word)\n",
    "vis"
   ]
  },
  {
   "cell_type": "code",
   "execution_count": null,
   "metadata": {},
   "outputs": [],
   "source": []
  }
 ],
 "metadata": {
  "kernelspec": {
   "display_name": "Python 3",
   "language": "python",
   "name": "python3"
  },
  "language_info": {
   "codemirror_mode": {
    "name": "ipython",
    "version": 3
   },
   "file_extension": ".py",
   "mimetype": "text/x-python",
   "name": "python",
   "nbconvert_exporter": "python",
   "pygments_lexer": "ipython3",
   "version": "3.6.10"
  }
 },
 "nbformat": 4,
 "nbformat_minor": 4
}
