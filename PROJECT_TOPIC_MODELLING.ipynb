{
 "cells": [
  {
   "cell_type": "markdown",
   "metadata": {},
   "source": [
    "# PRAVEER SAXENA\n",
    "BATCH 1814"
   ]
  },
  {
   "cell_type": "markdown",
   "metadata": {},
   "source": [
    "# PROJECT: TOPIC MODELLING"
   ]
  },
  {
   "cell_type": "markdown",
   "metadata": {},
   "source": [
    "# Let us Import the required libraries"
   ]
  },
  {
   "cell_type": "code",
   "execution_count": 1,
   "metadata": {},
   "outputs": [],
   "source": [
    "#Import required libraries\n",
    "import nltk\n",
    "import spacy\n",
    "import re\n",
    "import numpy as np\n",
    "import pandas as pd\n",
    "from pprint import pprint\n",
    "\n",
    "# Gensim\n",
    "import gensim\n",
    "import gensim.corpora as corpora\n",
    "from gensim.utils import simple_preprocess\n",
    "from gensim.models import CoherenceModel\n",
    "\n",
    "\n",
    "# Plotting tools\n",
    "import pyLDAvis\n",
    "import pyLDAvis.gensim  # don't skip this\n",
    "import matplotlib.pyplot as plt\n",
    "%matplotlib inline\n",
    "\n",
    "# Enable logging for gensim - optional\n",
    "import logging\n",
    "logging.basicConfig(format='%(asctime)s : %(levelname)s : %(message)s', level=logging.ERROR)\n",
    "\n",
    "import warnings\n",
    "warnings.filterwarnings(\"ignore\",category=DeprecationWarning)"
   ]
  },
  {
   "cell_type": "markdown",
   "metadata": {},
   "source": [
    "# Let us Import The Data"
   ]
  },
  {
   "cell_type": "raw",
   "metadata": {},
   "source": [
    "We will be using the 20-Newsgroups dataset for this exercise. This version of the dataset contains about 11k newsgroups posts from 20 different topics. This is available as newsgroups.json."
   ]
  },
  {
   "cell_type": "code",
   "execution_count": 2,
   "metadata": {},
   "outputs": [
    {
     "name": "stdout",
     "output_type": "stream",
     "text": [
      "['rec.autos' 'comp.sys.mac.hardware' 'comp.graphics' 'sci.space'\n",
      " 'talk.politics.guns' 'sci.med' 'comp.sys.ibm.pc.hardware'\n",
      " 'comp.os.ms-windows.misc' 'rec.motorcycles' 'talk.religion.misc'\n",
      " 'misc.forsale' 'alt.atheism' 'sci.electronics' 'comp.windows.x'\n",
      " 'rec.sport.hockey' 'rec.sport.baseball' 'soc.religion.christian'\n",
      " 'talk.politics.mideast' 'talk.politics.misc' 'sci.crypt']\n"
     ]
    }
   ],
   "source": [
    "# Import Dataset\n",
    "df = pd.read_json('https://raw.githubusercontent.com/selva86/datasets/master/newsgroups.json')\n",
    "print(df.target_names.unique())\n"
   ]
  },
  {
   "cell_type": "code",
   "execution_count": 3,
   "metadata": {},
   "outputs": [
    {
     "data": {
      "text/html": [
       "<div>\n",
       "<style scoped>\n",
       "    .dataframe tbody tr th:only-of-type {\n",
       "        vertical-align: middle;\n",
       "    }\n",
       "\n",
       "    .dataframe tbody tr th {\n",
       "        vertical-align: top;\n",
       "    }\n",
       "\n",
       "    .dataframe thead th {\n",
       "        text-align: right;\n",
       "    }\n",
       "</style>\n",
       "<table border=\"1\" class=\"dataframe\">\n",
       "  <thead>\n",
       "    <tr style=\"text-align: right;\">\n",
       "      <th></th>\n",
       "      <th>content</th>\n",
       "      <th>target</th>\n",
       "      <th>target_names</th>\n",
       "    </tr>\n",
       "  </thead>\n",
       "  <tbody>\n",
       "    <tr>\n",
       "      <th>0</th>\n",
       "      <td>From: lerxst@wam.umd.edu (where's my thing)\\nS...</td>\n",
       "      <td>7</td>\n",
       "      <td>rec.autos</td>\n",
       "    </tr>\n",
       "    <tr>\n",
       "      <th>1</th>\n",
       "      <td>From: guykuo@carson.u.washington.edu (Guy Kuo)...</td>\n",
       "      <td>4</td>\n",
       "      <td>comp.sys.mac.hardware</td>\n",
       "    </tr>\n",
       "    <tr>\n",
       "      <th>2</th>\n",
       "      <td>From: twillis@ec.ecn.purdue.edu (Thomas E Will...</td>\n",
       "      <td>4</td>\n",
       "      <td>comp.sys.mac.hardware</td>\n",
       "    </tr>\n",
       "    <tr>\n",
       "      <th>3</th>\n",
       "      <td>From: jgreen@amber (Joe Green)\\nSubject: Re: W...</td>\n",
       "      <td>1</td>\n",
       "      <td>comp.graphics</td>\n",
       "    </tr>\n",
       "    <tr>\n",
       "      <th>4</th>\n",
       "      <td>From: jcm@head-cfa.harvard.edu (Jonathan McDow...</td>\n",
       "      <td>14</td>\n",
       "      <td>sci.space</td>\n",
       "    </tr>\n",
       "  </tbody>\n",
       "</table>\n",
       "</div>"
      ],
      "text/plain": [
       "                                             content  target  \\\n",
       "0  From: lerxst@wam.umd.edu (where's my thing)\\nS...       7   \n",
       "1  From: guykuo@carson.u.washington.edu (Guy Kuo)...       4   \n",
       "2  From: twillis@ec.ecn.purdue.edu (Thomas E Will...       4   \n",
       "3  From: jgreen@amber (Joe Green)\\nSubject: Re: W...       1   \n",
       "4  From: jcm@head-cfa.harvard.edu (Jonathan McDow...      14   \n",
       "\n",
       "            target_names  \n",
       "0              rec.autos  \n",
       "1  comp.sys.mac.hardware  \n",
       "2  comp.sys.mac.hardware  \n",
       "3          comp.graphics  \n",
       "4              sci.space  "
      ]
     },
     "execution_count": 3,
     "metadata": {},
     "output_type": "execute_result"
    }
   ],
   "source": [
    "#Lets visualize the first five rows  of data\n",
    "df.head()"
   ]
  },
  {
   "cell_type": "markdown",
   "metadata": {},
   "source": [
    "# Our Models will be built on the column 'Content'. "
   ]
  },
  {
   "cell_type": "markdown",
   "metadata": {},
   "source": [
    "\n",
    "# Let us prepare Stopwords"
   ]
  },
  {
   "cell_type": "code",
   "execution_count": 4,
   "metadata": {},
   "outputs": [],
   "source": [
    "# NLTK Stop words\n",
    "from nltk.corpus import stopwords\n",
    "stop_words = stopwords.words('english')\n",
    "stop_words.extend(['from', 'subject', 're', 'edu', 'use'])"
   ]
  },
  {
   "cell_type": "markdown",
   "metadata": {},
   "source": [
    "#  Let us remove emails and newline characters"
   ]
  },
  {
   "cell_type": "code",
   "execution_count": 5,
   "metadata": {},
   "outputs": [],
   "source": [
    "# Convert to list\n",
    "data = df.content.values.tolist()\n",
    "\n",
    "# Remove Emails\n",
    "data = [re.sub('\\S*@\\S*\\s?', '', sent) for sent in data]\n",
    "\n",
    "# Remove new line characters\n",
    "data = [re.sub('\\s+', ' ', sent) for sent in data]\n",
    "\n",
    "# Remove distracting single quotes\n",
    "data = [re.sub(\"\\'\", \"\", sent) for sent in data]"
   ]
  },
  {
   "cell_type": "markdown",
   "metadata": {},
   "source": [
    "# Let us Tokenize words and Clean-up text"
   ]
  },
  {
   "cell_type": "code",
   "execution_count": 6,
   "metadata": {
    "scrolled": true
   },
   "outputs": [
    {
     "name": "stdout",
     "output_type": "stream",
     "text": [
      "[['from', 'wheres', 'my', 'thing', 'subject', 'what', 'car', 'is', 'this', 'nntp', 'posting', 'host', 'rac', 'wam', 'umd', 'edu', 'organization', 'university', 'of', 'maryland', 'college', 'park', 'lines', 'was', 'wondering', 'if', 'anyone', 'out', 'there', 'could', 'enlighten', 'me', 'on', 'this', 'car', 'saw', 'the', 'other', 'day', 'it', 'was', 'door', 'sports', 'car', 'looked', 'to', 'be', 'from', 'the', 'late', 'early', 'it', 'was', 'called', 'bricklin', 'the', 'doors', 'were', 'really', 'small', 'in', 'addition', 'the', 'front', 'bumper', 'was', 'separate', 'from', 'the', 'rest', 'of', 'the', 'body', 'this', 'is', 'all', 'know', 'if', 'anyone', 'can', 'tellme', 'model', 'name', 'engine', 'specs', 'years', 'of', 'production', 'where', 'this', 'car', 'is', 'made', 'history', 'or', 'whatever', 'info', 'you', 'have', 'on', 'this', 'funky', 'looking', 'car', 'please', 'mail', 'thanks', 'il', 'brought', 'to', 'you', 'by', 'your', 'neighborhood', 'lerxst']]\n"
     ]
    }
   ],
   "source": [
    "def sent_to_words(sentences):\n",
    "    for sentence in sentences:\n",
    "        yield(gensim.utils.simple_preprocess(str(sentence), deacc=True))  # deacc=True removes punctuations\n",
    "\n",
    "data_words = list(sent_to_words(data))\n",
    "\n",
    "print(data_words[:1])"
   ]
  },
  {
   "cell_type": "markdown",
   "metadata": {},
   "source": [
    "# Let us Create Bigram and Trigram Models"
   ]
  },
  {
   "cell_type": "code",
   "execution_count": 7,
   "metadata": {},
   "outputs": [
    {
     "name": "stdout",
     "output_type": "stream",
     "text": [
      "['from', 'wheres', 'my', 'thing', 'subject', 'what', 'car', 'is', 'this', 'nntp_posting_host', 'rac_wam_umd_edu', 'organization', 'university', 'of', 'maryland_college_park', 'lines', 'was', 'wondering', 'if', 'anyone', 'out', 'there', 'could', 'enlighten', 'me', 'on', 'this', 'car', 'saw', 'the', 'other', 'day', 'it', 'was', 'door', 'sports', 'car', 'looked', 'to', 'be', 'from', 'the', 'late', 'early', 'it', 'was', 'called', 'bricklin', 'the', 'doors', 'were', 'really', 'small', 'in', 'addition', 'the', 'front_bumper', 'was', 'separate', 'from', 'the', 'rest', 'of', 'the', 'body', 'this', 'is', 'all', 'know', 'if', 'anyone', 'can', 'tellme', 'model', 'name', 'engine', 'specs', 'years', 'of', 'production', 'where', 'this', 'car', 'is', 'made', 'history', 'or', 'whatever', 'info', 'you', 'have', 'on', 'this', 'funky', 'looking', 'car', 'please', 'mail', 'thanks', 'il', 'brought', 'to', 'you', 'by', 'your', 'neighborhood', 'lerxst']\n"
     ]
    }
   ],
   "source": [
    "# Build the bigram and trigram models\n",
    "bigram = gensim.models.Phrases(data_words, min_count=5, threshold=100) # higher threshold fewer phrases.\n",
    "trigram = gensim.models.Phrases(bigram[data_words], threshold=100)  \n",
    "\n",
    "# Faster way to get a sentence clubbed as a trigram/bigram\n",
    "bigram_mod = gensim.models.phrases.Phraser(bigram)\n",
    "trigram_mod = gensim.models.phrases.Phraser(trigram)\n",
    "\n",
    "# See trigram example\n",
    "print(trigram_mod[bigram_mod[data_words[0]]])"
   ]
  },
  {
   "cell_type": "markdown",
   "metadata": {},
   "source": [
    "# Let us Remove Stopwords, Make Bigrams and Lemmatize"
   ]
  },
  {
   "cell_type": "code",
   "execution_count": 8,
   "metadata": {},
   "outputs": [],
   "source": [
    "# Define functions for stopwords, bigrams, trigrams and lemmatization\n",
    "def remove_stopwords(texts):\n",
    "    return [[word for word in simple_preprocess(str(doc)) if word not in stop_words] for doc in texts]\n",
    "\n",
    "def make_bigrams(texts):\n",
    "    return [bigram_mod[doc] for doc in texts]\n",
    "\n",
    "def make_trigrams(texts):\n",
    "    return [trigram_mod[bigram_mod[doc]] for doc in texts]\n",
    "\n",
    "def lemmatization(texts, allowed_postags=['NOUN', 'ADJ', 'VERB', 'ADV']):\n",
    "    \n",
    "    texts_out = []\n",
    "    for sent in texts:\n",
    "        doc = nlp(\" \".join(sent)) \n",
    "        texts_out.append([token.lemma_ for token in doc if token.pos_ in allowed_postags])\n",
    "    return texts_out"
   ]
  },
  {
   "cell_type": "markdown",
   "metadata": {},
   "source": [
    "# Let’s call the functions in order."
   ]
  },
  {
   "cell_type": "code",
   "execution_count": 13,
   "metadata": {},
   "outputs": [
    {
     "name": "stdout",
     "output_type": "stream",
     "text": [
      "[['where', 'thing', 'car', 'nntp_poste', 'host', 'park', 'line', 'wonder', 'could', 'enlighten', 'car', 'see', 'day', 'door', 'sport', 'car', 'look', 'late', 'early', 'call', 'door', 'really', 'small', 'addition', 'separate', 'rest', 'body', 'know', 'model', 'name', 'engine', 'spec', 'year', 'production', 'car', 'make', 'history', 'info', 'funky', 'look', 'car', 'mail', 'thank', 'bring', 'neighborhood', 'lerxst']]\n"
     ]
    }
   ],
   "source": [
    "# Remove Stop Words\n",
    "data_words_nostops = remove_stopwords(data_words)\n",
    "\n",
    "# Form Bigrams\n",
    "data_words_bigrams = make_bigrams(data_words_nostops)\n",
    "\n",
    "# Initialize spacy 'enen_core_web_sm' model, keeping only tagger component (for efficiency)\n",
    "nlp = spacy.load('en_core_web_sm', disable=['parser', 'ner'])\n",
    "\n",
    "# Do lemmatization keeping only noun, adj, vb, adv\n",
    "data_lemmatized = lemmatization(data_words_bigrams, allowed_postags=['NOUN', 'ADJ', 'VERB', 'ADV'])\n",
    "\n",
    "print(data_lemmatized[:1])"
   ]
  },
  {
   "cell_type": "markdown",
   "metadata": {},
   "source": [
    "# Lets us Create the Dictionary and Corpus needed for Topic Modeling"
   ]
  },
  {
   "cell_type": "code",
   "execution_count": 14,
   "metadata": {},
   "outputs": [
    {
     "name": "stdout",
     "output_type": "stream",
     "text": [
      "[[(0, 1), (1, 1), (2, 1), (3, 1), (4, 5), (5, 1), (6, 1), (7, 2), (8, 1), (9, 1), (10, 1), (11, 1), (12, 1), (13, 1), (14, 1), (15, 1), (16, 1), (17, 1), (18, 1), (19, 2), (20, 1), (21, 1), (22, 1), (23, 1), (24, 1), (25, 1), (26, 1), (27, 1), (28, 1), (29, 1), (30, 1), (31, 1), (32, 1), (33, 1), (34, 1), (35, 1), (36, 1), (37, 1), (38, 1), (39, 1)]]\n"
     ]
    }
   ],
   "source": [
    "# Create Dictionary\n",
    "id2word = corpora.Dictionary(data_lemmatized)\n",
    "\n",
    "# Create Corpus\n",
    "texts = data_lemmatized\n",
    "\n",
    "# Term Document Frequency\n",
    "corpus = [id2word.doc2bow(text) for text in texts]\n",
    "\n",
    "# View\n",
    "print(corpus[:1])"
   ]
  },
  {
   "cell_type": "code",
   "execution_count": 15,
   "metadata": {},
   "outputs": [
    {
     "data": {
      "text/plain": [
       "'addition'"
      ]
     },
     "execution_count": 15,
     "metadata": {},
     "output_type": "execute_result"
    }
   ],
   "source": [
    "#If you want to see what word a given id corresponds to, pass the id as a key to the dictionary.\n",
    "\n",
    "id2word[0]"
   ]
  },
  {
   "cell_type": "code",
   "execution_count": 16,
   "metadata": {},
   "outputs": [
    {
     "data": {
      "text/plain": [
       "[[('addition', 1),\n",
       "  ('body', 1),\n",
       "  ('bring', 1),\n",
       "  ('call', 1),\n",
       "  ('car', 5),\n",
       "  ('could', 1),\n",
       "  ('day', 1),\n",
       "  ('door', 2),\n",
       "  ('early', 1),\n",
       "  ('engine', 1),\n",
       "  ('enlighten', 1),\n",
       "  ('funky', 1),\n",
       "  ('history', 1),\n",
       "  ('host', 1),\n",
       "  ('info', 1),\n",
       "  ('know', 1),\n",
       "  ('late', 1),\n",
       "  ('lerxst', 1),\n",
       "  ('line', 1),\n",
       "  ('look', 2),\n",
       "  ('mail', 1),\n",
       "  ('make', 1),\n",
       "  ('model', 1),\n",
       "  ('name', 1),\n",
       "  ('neighborhood', 1),\n",
       "  ('nntp_poste', 1),\n",
       "  ('park', 1),\n",
       "  ('production', 1),\n",
       "  ('really', 1),\n",
       "  ('rest', 1),\n",
       "  ('see', 1),\n",
       "  ('separate', 1),\n",
       "  ('small', 1),\n",
       "  ('spec', 1),\n",
       "  ('sport', 1),\n",
       "  ('thank', 1),\n",
       "  ('thing', 1),\n",
       "  ('where', 1),\n",
       "  ('wonder', 1),\n",
       "  ('year', 1)]]"
      ]
     },
     "execution_count": 16,
     "metadata": {},
     "output_type": "execute_result"
    }
   ],
   "source": [
    "# Human readable format of corpus (term-frequency)\n",
    "[[(id2word[id], freq) for id, freq in cp] for cp in corpus[:1]]"
   ]
  },
  {
   "cell_type": "markdown",
   "metadata": {},
   "source": [
    "# Let us Build the Topic Model"
   ]
  },
  {
   "cell_type": "code",
   "execution_count": 17,
   "metadata": {},
   "outputs": [],
   "source": [
    "# Build LDA model\n",
    "lda_model = gensim.models.ldamodel.LdaModel(corpus=corpus,\n",
    "                                           id2word=id2word,\n",
    "                                           num_topics=20, \n",
    "                                           random_state=100,\n",
    "                                           update_every=1,\n",
    "                                           chunksize=100,\n",
    "                                           passes=10,\n",
    "                                           alpha='auto',\n",
    "                                           per_word_topics=True)"
   ]
  },
  {
   "cell_type": "markdown",
   "metadata": {},
   "source": [
    "# Let us view the topics in LDA model"
   ]
  },
  {
   "cell_type": "code",
   "execution_count": 18,
   "metadata": {},
   "outputs": [
    {
     "name": "stdout",
     "output_type": "stream",
     "text": [
      "[(0,\n",
      "  '0.175*\"file\" + 0.073*\"entry\" + 0.057*\"error\" + 0.052*\"display\" + '\n",
      "  '0.041*\"program\" + 0.030*\"sun\" + 0.025*\"version\" + 0.024*\"cool\" + '\n",
      "  '0.020*\"output\" + 0.020*\"crash\"'),\n",
      " (1,\n",
      "  '0.032*\"would\" + 0.026*\"say\" + 0.022*\"think\" + 0.022*\"people\" + 0.020*\"go\" + '\n",
      "  '0.018*\"know\" + 0.016*\"make\" + 0.016*\"see\" + 0.014*\"come\" + 0.013*\"thing\"'),\n",
      " (2,\n",
      "  '0.091*\"evidence\" + 0.048*\"book\" + 0.041*\"faith\" + 0.037*\"reason\" + '\n",
      "  '0.033*\"exist\" + 0.032*\"claim\" + 0.031*\"religion\" + 0.029*\"believe\" + '\n",
      "  '0.027*\"christian\" + 0.023*\"church\"'),\n",
      " (3,\n",
      "  '0.541*\"ax\" + 0.054*\"car\" + 0.028*\"player\" + 0.014*\"engine\" + 0.009*\"dealer\" '\n",
      "  '+ 0.009*\"mile\" + 0.009*\"expensive\" + 0.009*\"here\" + 0.008*\"extra\" + '\n",
      "  '0.008*\"specify\"'),\n",
      " (4,\n",
      "  '0.087*\"belief\" + 0.084*\"internet\" + 0.079*\"atheist\" + 0.061*\"distribution\" '\n",
      "  '+ 0.053*\"wing\" + 0.041*\"atheism\" + 0.038*\"printer\" + 0.034*\"interface\" + '\n",
      "  '0.026*\"multiple\" + 0.020*\"thinking\"'),\n",
      " (5,\n",
      "  '0.088*\"normal\" + 0.072*\"port\" + 0.071*\"mouse\" + 0.053*\"hole\" + 0.036*\"cap\" '\n",
      "  '+ 0.034*\"expansion\" + 0.033*\"default\" + 0.026*\"compute\" + 0.026*\"noise\" + '\n",
      "  '0.013*\"characteristic\"'),\n",
      " (6,\n",
      "  '0.034*\"include\" + 0.023*\"provide\" + 0.023*\"report\" + 0.021*\"receive\" + '\n",
      "  '0.021*\"follow\" + 0.021*\"name\" + 0.018*\"build\" + 0.017*\"return\" + '\n",
      "  '0.015*\"open\" + 0.014*\"suggest\"'),\n",
      " (7,\n",
      "  '0.123*\"chip\" + 0.074*\"bit\" + 0.072*\"speed\" + 0.060*\"device\" + 0.058*\"tape\" '\n",
      "  '+ 0.052*\"slow\" + 0.040*\"bus\" + 0.038*\"scsi\" + 0.037*\"direct\" + '\n",
      "  '0.036*\"mode\"'),\n",
      " (8,\n",
      "  '0.152*\"team\" + 0.103*\"play\" + 0.059*\"year\" + 0.053*\"season\" + 0.045*\"fan\" + '\n",
      "  '0.036*\"trade\" + 0.026*\"pen\" + 0.023*\"lose\" + 0.021*\"last\" + 0.016*\"next\"'),\n",
      " (9,\n",
      "  '0.021*\"year\" + 0.016*\"also\" + 0.014*\"may\" + 0.014*\"first\" + 0.011*\"work\" + '\n",
      "  '0.010*\"high\" + 0.010*\"talk\" + 0.009*\"case\" + 0.009*\"make\" + 0.009*\"power\"'),\n",
      " (10,\n",
      "  '0.052*\"system\" + 0.050*\"drive\" + 0.041*\"use\" + 0.038*\"run\" + '\n",
      "  '0.034*\"problem\" + 0.028*\"window\" + 0.027*\"card\" + 0.024*\"program\" + '\n",
      "  '0.021*\"driver\" + 0.021*\"software\"'),\n",
      " (11,\n",
      "  '0.085*\"space\" + 0.053*\"science\" + 0.024*\"scientific\" + 0.024*\"review\" + '\n",
      "  '0.023*\"orbit\" + 0.023*\"launch\" + 0.022*\"earth\" + 0.021*\"mission\" + '\n",
      "  '0.020*\"development\" + 0.019*\"vehicle\"'),\n",
      " (12,\n",
      "  '0.140*\"game\" + 0.116*\"gun\" + 0.070*\"win\" + 0.048*\"fire\" + 0.047*\"hit\" + '\n",
      "  '0.036*\"weapon\" + 0.035*\"shoot\" + 0.024*\"cop\" + 0.019*\"run\" + 0.016*\"carry\"'),\n",
      " (13,\n",
      "  '0.124*\"god\" + 0.110*\"patient\" + 0.054*\"license\" + 0.050*\"univ\" + '\n",
      "  '0.048*\"treatment\" + 0.042*\"disease\" + 0.035*\"medical\" + 0.033*\"health\" + '\n",
      "  '0.027*\"ticket\" + 0.020*\"deliver\"'),\n",
      " (14,\n",
      "  '0.040*\"kill\" + 0.030*\"israeli\" + 0.028*\"war\" + 0.027*\"soldier\" + '\n",
      "  '0.024*\"attack\" + 0.024*\"village\" + 0.023*\"child\" + 0.021*\"murder\" + '\n",
      "  '0.017*\"turkish\" + 0.016*\"force\"'),\n",
      " (15,\n",
      "  '0.098*\"goal\" + 0.077*\"moral\" + 0.059*\"animal\" + 0.046*\"link\" + '\n",
      "  '0.034*\"morality\" + 0.029*\"warrant\" + 0.028*\"scale\" + 0.027*\"relationship\" + '\n",
      "  '0.026*\"depth\" + 0.024*\"percentage\"'),\n",
      " (16,\n",
      "  '0.048*\"image\" + 0.045*\"color\" + 0.040*\"code\" + 0.039*\"source\" + 0.037*\"com\" '\n",
      "  '+ 0.032*\"available\" + 0.030*\"server\" + 0.027*\"format\" + 0.026*\"function\" + '\n",
      "  '0.025*\"information\"'),\n",
      " (17,\n",
      "  '0.111*\"motif\" + 0.067*\"session\" + 0.048*\"unknown\" + 0.028*\"moslem\" + '\n",
      "  '0.021*\"ruin\" + 0.020*\"testing\" + 0.019*\"ratio\" + 0.017*\"okay\" + '\n",
      "  '0.005*\"verification\" + 0.005*\"automate\"'),\n",
      " (18,\n",
      "  '0.074*\"line\" + 0.047*\"write\" + 0.030*\"article\" + 0.024*\"host\" + '\n",
      "  '0.022*\"nntp_poste\" + 0.022*\"organization\" + 0.021*\"get\" + 0.019*\"be\" + '\n",
      "  '0.016*\"need\" + 0.014*\"thank\"'),\n",
      " (19,\n",
      "  '0.030*\"key\" + 0.027*\"state\" + 0.021*\"law\" + 0.020*\"government\" + '\n",
      "  '0.018*\"issue\" + 0.017*\"public\" + 0.014*\"right\" + 0.013*\"use\" + '\n",
      "  '0.011*\"system\" + 0.010*\"case\"')]\n"
     ]
    }
   ],
   "source": [
    "# Print the Keyword in the topics\n",
    "pprint(lda_model.print_topics())\n",
    "doc_lda = lda_model[corpus]"
   ]
  },
  {
   "cell_type": "markdown",
   "metadata": {},
   "source": [
    "# Let us Compute Model Perplexity and Coherence Score"
   ]
  },
  {
   "cell_type": "code",
   "execution_count": 19,
   "metadata": {},
   "outputs": [
    {
     "name": "stdout",
     "output_type": "stream",
     "text": [
      "\n",
      "Perplexity:  -12.486406875717059\n",
      "\n",
      "Coherence Score:  0.49295862559888937\n"
     ]
    }
   ],
   "source": [
    "# Compute Perplexity\n",
    "print('\\nPerplexity: ', lda_model.log_perplexity(corpus))  # a measure of how good the model is. lower the better.\n",
    "\n",
    "# Compute Coherence Score\n",
    "coherence_model_lda = CoherenceModel(model=lda_model, texts=data_lemmatized, dictionary=id2word, coherence='c_v')\n",
    "coherence_lda = coherence_model_lda.get_coherence()\n",
    "print('\\nCoherence Score: ', coherence_lda)"
   ]
  },
  {
   "cell_type": "markdown",
   "metadata": {},
   "source": [
    "# Let us Visualize the topics-keywords"
   ]
  },
  {
   "cell_type": "code",
   "execution_count": 20,
   "metadata": {},
   "outputs": [
    {
     "data": {
      "text/html": [
       "\n",
       "<link rel=\"stylesheet\" type=\"text/css\" href=\"https://cdn.rawgit.com/bmabey/pyLDAvis/files/ldavis.v1.0.0.css\">\n",
       "\n",
       "\n",
       "<div id=\"ldavis_el11764401333123496237417272\"></div>\n",
       "<script type=\"text/javascript\">\n",
       "\n",
       "var ldavis_el11764401333123496237417272_data = {\"mdsDat\": {\"x\": [-0.33536408335231405, -0.3020937137232052, -0.27170324414006286, -0.21309584723619313, 0.014950996410040553, -0.1447820836598241, -0.12929713675819637, -0.061629053056687706, -0.0043501927939109414, -0.017451031864445986, 0.06986665601753742, 0.11924847488146798, 0.10936382356336755, 0.0857003289548253, 0.13127148351391746, 0.16093614027685949, 0.17248622761378365, 0.19859042974709112, 0.20052508789486867, 0.2168267377110812], \"y\": [-0.21826683891744836, -0.14549598629058616, -0.004746296244659525, 0.10149784631130385, 0.12097820050798692, 0.26747112564649606, 0.18651809056868407, -0.07571310724081998, 0.06157179119964247, -0.0933369891489357, 0.07390156206224863, 0.021320951906005595, -0.008475925272723494, -0.05533850312614304, -0.009901694840097047, -0.03733866358699925, -0.04285710402208503, -0.044309149859633204, -0.04863206961585023, -0.04884724003638782], \"topics\": [1, 2, 3, 4, 5, 6, 7, 8, 9, 10, 11, 12, 13, 14, 15, 16, 17, 18, 19, 20], \"cluster\": [1, 1, 1, 1, 1, 1, 1, 1, 1, 1, 1, 1, 1, 1, 1, 1, 1, 1, 1, 1], \"Freq\": [28.08154296875, 18.161081314086914, 15.587170600891113, 8.115513801574707, 5.748420715332031, 5.683760643005371, 5.130862236022949, 2.1277482509613037, 1.9728587865829468, 1.9260532855987549, 1.4237111806869507, 1.152807354927063, 1.0390249490737915, 0.9716911315917969, 0.8841163516044617, 0.6973122358322144, 0.44972115755081177, 0.37532126903533936, 0.33440858125686646, 0.13687586784362793]}, \"tinfo\": {\"Term\": [\"ax\", \"line\", \"write\", \"year\", \"people\", \"say\", \"file\", \"car\", \"system\", \"article\", \"reason\", \"drive\", \"use\", \"would\", \"think\", \"believe\", \"evidence\", \"host\", \"problem\", \"team\", \"nntp_poste\", \"organization\", \"game\", \"run\", \"bit\", \"go\", \"key\", \"program\", \"get\", \"be\", \"say\", \"think\", \"never\", \"sense\", \"happen\", \"wrong\", \"agree\", \"feel\", \"death\", \"explain\", \"accept\", \"love\", \"die\", \"truth\", \"thing\", \"certainly\", \"human\", \"story\", \"young\", \"conclusion\", \"spend\", \"reality\", \"guy\", \"doubt\", \"nature\", \"obviously\", \"realize\", \"revelation\", \"knowledge\", \"respect\", \"come\", \"even\", \"tell\", \"s\", \"remember\", \"life\", \"mind\", \"see\", \"go\", \"bad\", \"people\", \"let\", \"would\", \"seem\", \"can\", \"world\", \"way\", \"take\", \"know\", \"could\", \"man\", \"mean\", \"make\", \"well\", \"give\", \"many\", \"time\", \"point\", \"believe\", \"good\", \"may\", \"be\", \"reason\", \"write\", \"line\", \"host\", \"nntp_poste\", \"organization\", \"thank\", \"buy\", \"price\", \"sell\", \"net\", \"sale\", \"phone\", \"interested\", \"distribution_usa\", \"advance\", \"light\", \"cheap\", \"disk\", \"pass\", \"wonder\", \"news\", \"stuff\", \"soon\", \"bike\", \"network\", \"nice\", \"office\", \"ride\", \"anyway\", \"eat\", \"keyword\", \"summary\", \"reply\", \"article\", \"mail\", \"write\", \"post\", \"help\", \"need\", \"get\", \"look\", \"d\", \"new\", \"be\", \"send\", \"want\", \"good\", \"have\", \"find\", \"question\", \"know\", \"call\", \"try\", \"would\", \"work\", \"use\", \"pay\", \"money\", \"whole\", \"speak\", \"face\", \"purpose\", \"level\", \"increase\", \"effect\", \"usually\", \"head\", \"stand\", \"risk\", \"save\", \"job\", \"publish\", \"university\", \"condition\", \"grant\", \"serious\", \"division\", \"major\", \"forget\", \"shall\", \"necessary\", \"replace\", \"family\", \"advice\", \"ground\", \"reduce\", \"cost\", \"large\", \"result\", \"small\", \"talk\", \"couple\", \"compare\", \"less\", \"cover\", \"low\", \"study\", \"difference\", \"power\", \"year\", \"high\", \"lead\", \"first\", \"close\", \"often\", \"base\", \"also\", \"area\", \"cause\", \"case\", \"work\", \"may\", \"end\", \"other\", \"number\", \"part\", \"make\", \"time\", \"much\", \"well\", \"key\", \"law\", \"public\", \"encryption\", \"protect\", \"security\", \"private\", \"block\", \"secure\", \"legal\", \"willing\", \"operate\", \"tap\", \"trial\", \"clipper\", \"criminal\", \"agency\", \"prevent\", \"master\", \"secret\", \"firearm\", \"room\", \"national\", \"false\", \"teach\", \"court\", \"state\", \"processor\", \"worry\", \"house\", \"crime\", \"citizen\", \"government\", \"drug\", \"issue\", \"religious\", \"individual\", \"rate\", \"right\", \"case\", \"use\", \"allow\", \"person\", \"system\", \"information\", \"group\", \"standard\", \"technology\", \"country\", \"message\", \"provide\", \"ax\", \"car\", \"player\", \"engine\", \"dealer\", \"mile\", \"expensive\", \"here\", \"extra\", \"specify\", \"clean\", \"insurance\", \"gift\", \"door\", \"saturn\", \"dual\", \"oil\", \"fuel\", \"production\", \"export\", \"floor\", \"gas\", \"auto\", \"coverage\", \"own\", \"combine\", \"heat\", \"finger\", \"huge\", \"reflect\", \"drive\", \"window\", \"card\", \"driver\", \"software\", \"machine\", \"test\", \"memory\", \"application\", \"appreciate\", \"screen\", \"instal\", \"graphic\", \"package\", \"score\", \"monitor\", \"hardware\", \"pc\", \"performance\", \"feature\", \"board\", \"apple\", \"library\", \"manager\", \"convert\", \"load\", \"though\", \"laboratory\", \"resolution\", \"running\", \"run\", \"system\", \"user\", \"computer\", \"problem\", \"program\", \"use\", \"set\", \"support\", \"datum\", \"fast\", \"work\", \"also\", \"receive\", \"suggest\", \"section\", \"wire\", \"input\", \"video\", \"main\", \"community\", \"notice\", \"special\", \"meet\", \"avoid\", \"internal\", \"ignore\", \"cpu\", \"proper\", \"addition\", \"future\", \"weight\", \"external\", \"count\", \"hot\", \"significant\", \"cable\", \"official\", \"particularly\", \"communication\", \"hide\", \"blank\", \"cycle\", \"report\", \"return\", \"include\", \"open\", \"provide\", \"build\", \"name\", \"follow\", \"date\", \"press\", \"member\", \"address\", \"several\", \"must\", \"number\", \"create\", \"non\", \"evidence\", \"book\", \"faith\", \"religion\", \"christian\", \"church\", \"character\", \"logic\", \"clearly\", \"christianity\", \"context\", \"reject\", \"scripture\", \"excuse\", \"thread\", \"german\", \"biblical\", \"enjoy\", \"writing\", \"left\", \"corner\", \"careful\", \"trivial\", \"elsewhere\", \"classic\", \"leadership\", \"applicable\", \"superior\", \"gentile\", \"largely\", \"language\", \"bother\", \"exist\", \"argument\", \"claim\", \"deny\", \"reason\", \"prove\", \"believe\", \"indeed\", \"word\", \"question\", \"quote\", \"true\", \"jewish\", \"follow\", \"answer\", \"image\", \"color\", \"com\", \"server\", \"format\", \"object\", \"update\", \"faq\", \"trust\", \"font\", \"compile\", \"map\", \"utility\", \"pointer\", \"mercy\", \"duo\", \"scare\", \"label\", \"generic\", \"postscript\", \"leather\", \"stroke\", \"retrieve\", \"fuzzy\", \"stuck\", \"roman\", \"fate\", \"compiler\", \"winter\", \"observer\", \"code\", \"function\", \"correction\", \"expire\", \"author\", \"source\", \"contain\", \"vendor\", \"available\", \"text\", \"information\", \"send\", \"list\", \"draw\", \"info\", \"include\", \"page\", \"email\", \"program\", \"mail\", \"israeli\", \"war\", \"soldier\", \"village\", \"turkish\", \"bomb\", \"greek\", \"withdraw\", \"occupy\", \"armenian\", \"turk\", \"civilian\", \"town\", \"northern\", \"rocket\", \"girl\", \"inhabitant\", \"russian\", \"invasion\", \"arab\", \"troop\", \"escape\", \"genocide\", \"muslim\", \"stone\", \"slaughter\", \"massacre\", \"tear\", \"rape\", \"occupation\", \"disarm\", \"murder\", \"peace\", \"kill\", \"terrorism\", \"attack\", \"military\", \"land\", \"child\", \"jewish\", \"force\", \"woman\", \"people\", \"man\", \"government\", \"space\", \"science\", \"scientific\", \"review\", \"orbit\", \"launch\", \"mission\", \"development\", \"vehicle\", \"boy\", \"digital\", \"air\", \"satellite\", \"plane\", \"moon\", \"flight\", \"requirement\", \"facility\", \"schedule\", \"shuttle\", \"factory\", \"conference\", \"confirm\", \"role\", \"experiment\", \"lunar\", \"publication\", \"radiation\", \"sky\", \"investigation\", \"earth\", \"project\", \"research\", \"technical\", \"field\", \"program\", \"file\", \"entry\", \"error\", \"display\", \"sun\", \"cool\", \"output\", \"crash\", \"water\", \"solid\", \"nuclear\", \"configuration\", \"icon\", \"cylinder\", \"implementation\", \"stream\", \"electrical\", \"terminal\", \"entity\", \"dump\", \"thermal\", \"edit\", \"creator\", \"download\", \"parameter\", \"angel\", \"allocate\", \"openwindow\", \"grip\", \"reactor\", \"version\", \"size\", \"program\", \"game\", \"gun\", \"hit\", \"weapon\", \"cop\", \"pitch\", \"yesterday\", \"trip\", \"knock\", \"revolver\", \"trigger\", \"glass\", \"weeks_ago\", \"colt\", \"annoy\", \"turning\", \"prescription\", \"tank\", \"ok\", \"cock\", \"shoot\", \"fire\", \"along\", \"pistol\", \"confrontation\", \"tie\", \"win\", \"defense\", \"arm\", \"victory\", \"steal\", \"carry\", \"pull\", \"watch\", \"home\", \"run\", \"police\", \"spot\", \"throw\", \"kill\", \"team\", \"season\", \"fan\", \"trade\", \"pen\", \"finish\", \"decent\", \"devil\", \"cross\", \"blue\", \"penalty\", \"penguin\", \"leafs\", \"captain\", \"suitable\", \"volt\", \"cage\", \"flyer\", \"mid\", \"leak\", \"retire\", \"oiler\", \"thumb\", \"play\", \"lemieux\", \"sabre\", \"voting\", \"scorer\", \"philly\", \"tighten\", \"year\", \"final\", \"lose\", \"period\", \"last\", \"pick\", \"next\", \"opportunity\", \"second\", \"top\", \"first\", \"chip\", \"speed\", \"device\", \"tape\", \"slow\", \"bus\", \"scsi\", \"direct\", \"ide\", \"meaning\", \"daughter\", \"backup\", \"spacecraft\", \"restore\", \"meter\", \"installation\", \"maximum\", \"quadra\", \"tip\", \"dry\", \"sgi\", \"sister\", \"synchronous\", \"consent\", \"acceptance\", \"stall\", \"esdi\", \"mode\", \"bit\", \"fasst\", \"fast\", \"wide\", \"vendor\", \"version\", \"belief\", \"internet\", \"atheist\", \"distribution\", \"wing\", \"atheism\", \"printer\", \"interface\", \"multiple\", \"thinking\", \"routine\", \"widget\", \"greatly_appreciate\", \"guilty\", \"modem\", \"extension\", \"fish\", \"hi\", \"phase\", \"exposure\", \"quit\", \"partially\", \"ease\", \"redesign\", \"boundary\", \"dialog\", \"inappropriate\", \"module\", \"integration\", \"cubic\", \"core\", \"god\", \"patient\", \"license\", \"univ\", \"treatment\", \"disease\", \"medical\", \"health\", \"ticket\", \"deliver\", \"preach\", \"medicine\", \"physician\", \"traditional\", \"conviction\", \"glad\", \"subjective\", \"creature\", \"emphasis\", \"glory\", \"strictly\", \"publicly\", \"adequately\", \"accidentally\", \"treat\", \"tumor\", \"brain\", \"eeg\", \"dn\", \"diagnosis\", \"goal\", \"moral\", \"animal\", \"link\", \"morality\", \"warrant\", \"scale\", \"relationship\", \"depth\", \"percentage\", \"imho\", \"translate\", \"arbitrary\", \"scene\", \"thick\", \"worthwhile\", \"swear\", \"incidentally\", \"cart\", \"jubilees_re\", \"nec_zx\", \"wild_corn\", \"thesis\", \"rude\", \"pack\", \"specie\", \"omniscient\", \"immoral\", \"premise\", \"schneider\", \"self\", \"slave\", \"normal\", \"port\", \"mouse\", \"hole\", \"cap\", \"expansion\", \"default\", \"compute\", \"noise\", \"characteristic\", \"compress\", \"adjust\", \"disable\", \"licensing\", \"curve\", \"worse\", \"complexity\", \"incline\", \"vitamin\", \"everytime\", \"escalate\", \"switch\", \"ok\", \"slave\", \"irq\", \"keyboard\", \"marker\", \"loading\", \"edge\", \"connector\", \"ripem\", \"pin\", \"choose\", \"motif\", \"session\", \"unknown\", \"moslem\", \"ruin\", \"testing\", \"ratio\", \"okay\", \"verification\", \"automate\", \"birthday\", \"elderly\", \"sharing\", \"defenseless\", \"accelerator\", \"commercial\", \"telnet\", \"slip\", \"localtalk\", \"mac\", \"translation\", \"modifier\", \"os\", \"xpm\", \"willow\", \"kjg\", \"ff\", \"prophet\", \"route\", \"redistribute\", \"judgement\", \"tomorrow\", \"announcement\", \"baby\"], \"Freq\": [36366.0, 15681.0, 13138.0, 4567.0, 7716.0, 8663.0, 2357.0, 3608.0, 4535.0, 7665.0, 3205.0, 3297.0, 5852.0, 12699.0, 7239.0, 3143.0, 2273.0, 5023.0, 3794.0, 1727.0, 4742.0, 4665.0, 1701.0, 2777.0, 1774.0, 7157.0, 2814.0, 2540.0, 6400.0, 7371.0, 8662.1875, 7238.42724609375, 2397.43212890625, 1772.62353515625, 1769.929931640625, 1443.8369140625, 1335.5523681640625, 1201.3204345703125, 1155.5836181640625, 1049.0191650390625, 1036.724853515625, 1026.3619384765625, 1002.4822998046875, 842.6072387695312, 4367.29443359375, 782.2107543945312, 760.134521484375, 708.6962280273438, 695.875732421875, 693.298583984375, 667.6550903320312, 608.0548706054688, 665.085205078125, 517.1470947265625, 502.0318298339844, 500.928955078125, 493.593505859375, 491.4709777832031, 489.8970642089844, 459.2696228027344, 4472.61962890625, 3887.529541015625, 3136.825927734375, 3217.122314453125, 1200.9267578125, 1455.5927734375, 903.8181762695312, 5301.7119140625, 6718.86865234375, 1994.552978515625, 7087.24169921875, 1904.704345703125, 10454.2861328125, 2697.548583984375, 3133.76708984375, 1412.59033203125, 3372.46484375, 3631.356201171875, 5802.59716796875, 3748.302001953125, 1855.479736328125, 2249.33642578125, 5336.50732421875, 3753.5107421875, 3076.638671875, 2993.2802734375, 4036.790283203125, 2718.530517578125, 2431.28564453125, 3347.358642578125, 3430.28466796875, 3343.41943359375, 2280.776611328125, 3070.937255859375, 15680.5166015625, 5022.1982421875, 4741.09375, 4664.8056640625, 2963.038818359375, 1614.7957763671875, 1352.6715087890625, 1260.6265869140625, 1065.93359375, 1028.1092529296875, 1001.118896484375, 982.678466796875, 977.1404418945312, 848.072265625, 825.81494140625, 793.337646484375, 788.8822021484375, 786.8179321289062, 769.6301879882812, 765.3728637695312, 739.5266723632812, 705.535400390625, 688.6564331054688, 636.9649658203125, 613.7977294921875, 523.9977416992188, 517.2368774414062, 492.1533508300781, 488.28424072265625, 475.3589172363281, 614.6497802734375, 2370.384765625, 6281.12841796875, 1980.8641357421875, 10066.8544921875, 2131.845458984375, 2283.80029296875, 3478.0556640625, 4466.638671875, 2830.763427734375, 1957.584228515625, 2294.03271484375, 4026.97265625, 1521.4471435546875, 2449.111572265625, 2518.845947265625, 1571.7066650390625, 1845.678466796875, 1580.6004638671875, 2246.6171875, 1508.49169921875, 1554.555908203125, 2113.660400390625, 1469.4674072265625, 1399.5040283203125, 1293.784912109375, 1251.95703125, 1095.0054931640625, 1013.7860717773438, 983.5146484375, 896.2647094726562, 885.3322143554688, 883.0150756835938, 826.78857421875, 795.4229125976562, 751.998779296875, 672.8666381835938, 663.3812255859375, 655.3895263671875, 653.1898803710938, 629.97412109375, 626.8313598632812, 600.4601440429688, 599.5946044921875, 589.5776977539062, 587.273681640625, 574.8572387695312, 574.8172607421875, 574.0834350585938, 573.1533203125, 572.9070434570312, 540.8692626953125, 526.4047241210938, 508.9649658203125, 504.9264831542969, 1224.2034912109375, 1441.667236328125, 1099.5936279296875, 1224.0238037109375, 1748.526611328125, 880.9258422851562, 802.87548828125, 1515.7750244140625, 789.9274291992188, 1118.044677734375, 797.7142944335938, 906.548095703125, 1554.7611083984375, 3767.645263671875, 1844.7086181640625, 1099.7135009765625, 2512.685791015625, 1062.079833984375, 1010.771728515625, 1277.848876953125, 2954.66259765625, 998.8740844726562, 1105.6123046875, 1675.264892578125, 2009.7635498046875, 2597.426025390625, 1327.307861328125, 1038.375244140625, 1278.73388671875, 1182.243896484375, 1671.0716552734375, 1115.3446044921875, 1060.9490966796875, 1059.0948486328125, 2813.774169921875, 1961.8612060546875, 1620.2486572265625, 814.9706420898438, 735.7779541015625, 712.1721801757812, 664.476806640625, 574.5584106445312, 486.89239501953125, 457.78759765625, 447.96710205078125, 444.4101867675781, 441.3863830566406, 436.64862060546875, 417.05157470703125, 398.685546875, 388.865234375, 379.655029296875, 378.8920593261719, 377.4440002441406, 370.16064453125, 363.2577819824219, 363.0283203125, 359.8549499511719, 354.9672546386719, 350.44427490234375, 2570.264404296875, 346.5926513671875, 339.06402587890625, 337.69891357421875, 596.1691284179688, 532.0010986328125, 1864.478515625, 686.5451049804688, 1719.8067626953125, 638.3235473632812, 547.8488159179688, 693.309326171875, 1311.62451171875, 932.6300659179688, 1218.2298583984375, 684.2311401367188, 702.4976196289062, 1011.556884765625, 751.0339965820312, 797.32275390625, 554.697265625, 582.9417724609375, 519.631591796875, 596.3025512695312, 546.068359375, 36364.8984375, 3607.571044921875, 1882.1060791015625, 949.4300537109375, 630.35107421875, 589.1597290039062, 579.4210205078125, 576.055908203125, 569.108642578125, 551.9998779296875, 520.7077026367188, 519.4672241210938, 512.813232421875, 474.83233642578125, 449.9256896972656, 434.0762634277344, 382.6154479980469, 376.8952941894531, 352.1302490234375, 350.805908203125, 327.3959655761719, 321.92156982421875, 317.98828125, 292.6679382324219, 273.50311279296875, 273.3604431152344, 264.57684326171875, 264.05352783203125, 261.6937255859375, 253.348388671875, 3296.5595703125, 1884.495361328125, 1793.44189453125, 1417.229248046875, 1380.2137451171875, 1239.0074462890625, 1032.683349609375, 964.6705322265625, 863.6702880859375, 781.2904663085938, 776.6407470703125, 732.2933349609375, 703.3724975585938, 670.8406372070312, 639.778076171875, 639.3843994140625, 600.1506958007812, 530.1126098632812, 499.4224853515625, 443.6597595214844, 394.32379150390625, 371.0552062988281, 358.0774230957031, 355.563232421875, 338.9366455078125, 302.1493225097656, 293.0543518066406, 292.60101318359375, 265.9847106933594, 257.5039978027344, 2534.5322265625, 3455.896484375, 794.420166015625, 1211.2059326171875, 2268.219970703125, 1594.4637451171875, 2731.099609375, 1210.624267578125, 981.1033935546875, 646.8718872070312, 576.17138671875, 938.544921875, 713.6668090820312, 1262.139404296875, 862.190185546875, 744.29052734375, 719.7549438476562, 659.9474487304688, 629.723388671875, 540.314697265625, 528.1971435546875, 512.3594970703125, 512.3433837890625, 460.25054931640625, 454.5792236328125, 443.1698303222656, 440.2688293457031, 416.3999328613281, 412.8900146484375, 409.5070495605469, 383.3030700683594, 382.76300048828125, 381.9336853027344, 370.7691345214844, 369.2014465332031, 367.3412170410156, 358.8227233886719, 358.66754150390625, 355.21142578125, 354.96533203125, 335.8414001464844, 311.2236022949219, 305.53863525390625, 1355.467529296875, 1045.8243408203125, 2034.9930419921875, 919.4801635742188, 1408.5054931640625, 1082.9849853515625, 1231.9072265625, 1245.26708984375, 462.27044677734375, 459.0932922363281, 567.601318359375, 686.1543579101562, 580.5480346679688, 738.6314697265625, 773.3428344726562, 540.1561279296875, 443.871337890625, 2272.31884765625, 1199.664306640625, 1026.51806640625, 781.2325439453125, 661.3590087890625, 571.6231689453125, 445.79638671875, 377.15545654296875, 348.86907958984375, 308.8074645996094, 246.43246459960938, 242.3828887939453, 239.5933074951172, 225.99073791503906, 210.5366973876953, 152.35629272460938, 141.64601135253906, 129.68182373046875, 128.688720703125, 126.06672668457031, 113.88622283935547, 103.87162017822266, 97.74408721923828, 88.96528625488281, 86.8496322631836, 72.9306411743164, 64.55899047851562, 61.574092864990234, 59.476051330566406, 55.212982177734375, 193.55740356445312, 187.4047088623047, 826.7509765625, 498.3843688964844, 805.3865966796875, 289.5093994140625, 923.4658813476562, 386.7455749511719, 710.9820556640625, 252.5593719482422, 384.92681884765625, 471.87139892578125, 206.7346649169922, 331.6449279785156, 210.80307006835938, 273.2467346191406, 224.64987182617188, 1101.8861083984375, 1039.65771484375, 843.5213012695312, 684.5825805664062, 632.3676147460938, 525.8916625976562, 413.94122314453125, 411.0126953125, 395.0574035644531, 318.0209655761719, 277.3575744628906, 219.894775390625, 196.4850311279297, 180.432373046875, 179.92367553710938, 135.17396545410156, 119.53638458251953, 115.18318939208984, 90.2675552368164, 84.75843811035156, 78.81170654296875, 77.9437484741211, 69.93002319335938, 66.93659210205078, 64.86883544921875, 59.68421936035156, 56.7890739440918, 54.16334533691406, 51.00541305541992, 48.729522705078125, 920.4551391601562, 601.2247314453125, 119.39197540283203, 109.85173797607422, 375.9286193847656, 895.3540649414062, 506.25018310546875, 121.3636474609375, 742.1416625976562, 318.40924072265625, 575.2208862304688, 531.658447265625, 392.3663024902344, 249.49087524414062, 256.9700927734375, 297.54443359375, 195.55824279785156, 220.97532653808594, 250.6824951171875, 231.5577850341797, 670.3485717773438, 636.9697875976562, 597.8964233398438, 531.1470336914062, 372.0025634765625, 350.33685302734375, 340.8498229980469, 333.4497985839844, 330.4888610839844, 299.02862548828125, 298.7012634277344, 261.0904846191406, 249.94497680664062, 224.26893615722656, 210.4682159423828, 206.42483520507812, 184.76605224609375, 174.91781616210938, 169.5211639404297, 167.71786499023438, 159.49234008789062, 157.54376220703125, 127.56697082519531, 125.4529800415039, 105.94682312011719, 97.1530990600586, 94.37332153320312, 93.31394958496094, 92.93439483642578, 91.01762390136719, 118.9939956665039, 482.1611633300781, 275.5817565917969, 896.2041625976562, 208.25755310058594, 538.5416259765625, 312.5315246582031, 286.2928466796875, 512.4480590820312, 261.16552734375, 356.7961120605469, 225.3153076171875, 341.8311462402344, 246.87765502929688, 245.3654022216797, 1411.3531494140625, 883.1412353515625, 404.15093994140625, 391.21978759765625, 379.9222412109375, 375.58251953125, 353.77996826171875, 339.1016845703125, 311.4745788574219, 302.3517150878906, 301.82391357421875, 300.9320983886719, 277.65008544921875, 276.70477294921875, 245.11904907226562, 237.10279846191406, 227.8895263671875, 219.93270874023438, 206.9774932861328, 185.22999572753906, 169.97189331054688, 161.44485473632812, 158.98583984375, 158.65359497070312, 146.1674346923828, 140.859130859375, 137.77964782714844, 134.598388671875, 125.28436279296875, 123.42521667480469, 367.1473083496094, 215.72879028320312, 278.325927734375, 180.09835815429688, 163.31585693359375, 147.5784454345703, 2356.54736328125, 986.490966796875, 767.8500366210938, 706.940673828125, 409.7784423828125, 329.46588134765625, 271.5455322265625, 266.7352294921875, 232.97732543945312, 202.6919708251953, 189.0657196044922, 183.99612426757812, 177.24246215820312, 175.38980102539062, 169.6831817626953, 166.23826599121094, 152.7053680419922, 144.3440704345703, 127.80213165283203, 125.10482025146484, 119.22402954101562, 107.06627655029297, 106.9654541015625, 93.32474517822266, 86.34098052978516, 85.010986328125, 66.04021453857422, 54.81264114379883, 46.403480529785156, 43.55964660644531, 340.2772216796875, 247.42332458496094, 547.10400390625, 1700.166748046875, 1408.529541015625, 566.47021484375, 433.2046203613281, 294.11297607421875, 198.0688018798828, 189.28659057617188, 139.59864807128906, 90.25396728515625, 86.85625457763672, 85.34746551513672, 50.86988067626953, 47.05401611328125, 41.137855529785156, 36.18202209472656, 28.3187313079834, 26.510007858276367, 179.65069580078125, 138.67919921875, 10.48583984375, 420.2849426269531, 579.369384765625, 9.039253234863281, 7.343789100646973, 6.882508754730225, 140.10682678222656, 853.2323608398438, 171.62969970703125, 160.5594482421875, 17.481430053710938, 137.8517303466797, 199.62208557128906, 107.24518585205078, 117.49806213378906, 147.45513916015625, 234.83021545410156, 92.625732421875, 50.399349212646484, 59.09880065917969, 69.5703353881836, 1725.829345703125, 596.6989135742188, 508.9100341796875, 406.0511474609375, 298.30731201171875, 176.00347900390625, 174.1944580078125, 165.47377014160156, 163.40072631835938, 157.62777709960938, 136.04736328125, 135.8453369140625, 98.12689208984375, 94.12796783447266, 90.24974822998047, 84.24140930175781, 78.7408447265625, 77.14395904541016, 61.139007568359375, 50.82242202758789, 50.36934280395508, 41.00428009033203, 39.00885009765625, 1171.852783203125, 34.12023162841797, 33.05146789550781, 29.598615646362305, 28.294172286987305, 23.13589096069336, 21.971656799316406, 672.0040893554688, 133.88742065429688, 256.8060302734375, 118.9242172241211, 237.7202911376953, 129.26158142089844, 184.02500915527344, 61.01218032836914, 81.06626892089844, 63.99055099487305, 70.13511657714844, 1268.7164306640625, 742.8828125, 623.060546875, 602.317626953125, 536.6021118164062, 418.3139953613281, 390.2601623535156, 382.3237609863281, 264.61297607421875, 184.7881622314453, 157.40786743164062, 117.66803741455078, 101.86151885986328, 86.82567596435547, 86.1037368774414, 84.80804443359375, 68.60195922851562, 65.98821258544922, 64.42305755615234, 63.464385986328125, 61.85514831542969, 48.9073486328125, 30.318445205688477, 27.974565505981445, 15.213947296142578, 12.51011848449707, 7.320611000061035, 374.79425048828125, 761.0715942382812, 0.6846362352371216, 260.63323974609375, 78.1263427734375, 21.886234283447266, 23.450838088989258, 712.1409912109375, 680.6407470703125, 643.3837280273438, 499.9566345214844, 430.27813720703125, 332.1167907714844, 307.33056640625, 276.5651550292969, 213.22320556640625, 162.05340576171875, 148.42193603515625, 147.2532196044922, 142.63218688964844, 136.53785705566406, 134.40834045410156, 105.65137481689453, 102.79986572265625, 98.56689453125, 93.21334838867188, 82.15103149414062, 81.17110443115234, 47.076942443847656, 39.45476150512695, 35.26686477661133, 33.141937255859375, 30.58644676208496, 26.995460510253906, 21.904277801513672, 18.793825149536133, 17.51906394958496, 44.95703125, 649.4591064453125, 579.514404296875, 284.7810974121094, 263.0774230957031, 250.89102172851562, 220.96328735351562, 182.4680633544922, 171.11085510253906, 139.5872802734375, 106.33589935302734, 89.95274353027344, 80.0964126586914, 77.52071380615234, 77.0152816772461, 72.88965606689453, 53.79048156738281, 45.638179779052734, 42.505855560302734, 38.297855377197266, 32.374515533447266, 29.26837158203125, 25.740938186645508, 24.048934936523438, 17.8713436126709, 50.35727310180664, 0.041431013494729996, 0.04142984747886658, 0.04142778366804123, 0.04142775759100914, 0.041423168033361435, 429.8377380371094, 336.51837158203125, 259.663330078125, 202.7900390625, 147.59092712402344, 125.19956970214844, 122.15113067626953, 116.28013610839844, 112.2428970336914, 107.22871398925781, 91.4917221069336, 62.17290496826172, 52.36433792114258, 35.76068115234375, 32.64295959472656, 32.332801818847656, 30.32346534729004, 23.29017448425293, 13.654248237609863, 13.455718040466309, 13.452688217163086, 13.107280731201172, 10.609614372253418, 10.048881530761719, 13.903284072875977, 0.04965944215655327, 0.04965628311038017, 0.04965592920780182, 0.04965575411915779, 0.04965508356690407, 0.04965576156973839, 0.0496559739112854, 341.99871826171875, 280.8869934082031, 278.2962951660156, 206.98867797851562, 140.37313842773438, 132.12481689453125, 127.23048400878906, 102.36354064941406, 101.89021301269531, 52.38694381713867, 49.21476745605469, 29.483890533447266, 27.033573150634766, 25.99538230895996, 25.554197311401367, 24.763080596923828, 21.469682693481445, 20.315162658691406, 13.794228553771973, 10.581488609313965, 7.54844856262207, 50.45661544799805, 7.821711540222168, 0.045931264758110046, 0.045925773680210114, 0.04592626169323921, 0.045924510806798935, 0.045923132449388504, 0.04592480510473251, 0.04592335224151611, 0.04592551663517952, 0.045925043523311615, 0.04592500999569893, 177.34078979492188, 107.00992584228516, 76.42803955078125, 45.017364501953125, 33.48115158081055, 32.3101806640625, 31.009864807128906, 26.393707275390625, 8.659116744995117, 7.832671642303467, 6.065736293792725, 5.346773624420166, 5.197560787200928, 1.4257714748382568, 0.02600998803973198, 0.026010314002633095, 0.02600809745490551, 0.02600688673555851, 0.026006773114204407, 0.026006782427430153, 0.0260069128125906, 0.026005929335951805, 0.026006121188402176, 0.026005944237113, 0.026005944237113, 0.026005944237113, 0.02600572630763054, 0.026006054133176804, 0.026006849482655525, 0.02600562386214733, 0.02600591816008091, 0.026005994528532028, 0.026006106287240982, 0.026005961000919342], \"Total\": [36366.0, 15681.0, 13138.0, 4567.0, 7716.0, 8663.0, 2357.0, 3608.0, 4535.0, 7665.0, 3205.0, 3297.0, 5852.0, 12699.0, 7239.0, 3143.0, 2273.0, 5023.0, 3794.0, 1727.0, 4742.0, 4665.0, 1701.0, 2777.0, 1774.0, 7157.0, 2814.0, 2540.0, 6400.0, 7371.0, 8663.369140625, 7239.6103515625, 2398.6142578125, 1773.805908203125, 1771.1123046875, 1445.019287109375, 1336.7347412109375, 1202.5028076171875, 1156.7659912109375, 1050.2015380859375, 1037.9072265625, 1027.5443115234375, 1003.6644287109375, 843.7893676757812, 4373.76220703125, 783.3928833007812, 761.316650390625, 709.8783569335938, 697.057861328125, 694.480712890625, 668.8372192382812, 609.2369995117188, 666.4788818359375, 518.3292236328125, 503.2139892578125, 502.1111145019531, 494.7756652832031, 492.65313720703125, 491.0792236328125, 460.4517822265625, 4535.04541015625, 3936.83984375, 3185.41796875, 3333.1806640625, 1220.0775146484375, 1486.785888671875, 914.4708251953125, 5584.59423828125, 7157.658203125, 2052.551025390625, 7716.4541015625, 2029.1744384765625, 12699.0126953125, 2964.703369140625, 3516.903564453125, 1492.592529296875, 4034.51025390625, 4510.5830078125, 8050.32958984375, 4926.4140625, 2103.4765625, 2663.94775390625, 7811.06591796875, 5061.1025390625, 4011.749755859375, 3930.222900390625, 6087.7373046875, 3633.21240234375, 3143.398193359375, 5927.2158203125, 7289.9951171875, 7371.50732421875, 3205.372802734375, 13138.9052734375, 15681.697265625, 5023.38134765625, 4742.27685546875, 4665.98876953125, 2964.220947265625, 1615.97802734375, 1353.853759765625, 1261.808837890625, 1067.1158447265625, 1029.29150390625, 1002.3009033203125, 983.8604736328125, 978.3224487304688, 849.2542724609375, 826.9969482421875, 794.5196533203125, 790.064208984375, 787.9999389648438, 770.8121948242188, 766.5548706054688, 740.7086791992188, 706.7174072265625, 689.8384399414062, 638.14697265625, 614.979736328125, 525.1797485351562, 518.4188842773438, 493.3354187011719, 489.46630859375, 476.5409851074219, 616.297607421875, 2451.39697265625, 7665.11376953125, 2213.527587890625, 13138.9052734375, 2421.307373046875, 2647.0078125, 4232.80859375, 6400.96044921875, 3855.07373046875, 2497.003173828125, 3112.264404296875, 7371.50732421875, 2054.211181640625, 4398.93603515625, 5927.2158203125, 2740.494140625, 3805.428466796875, 2951.452880859375, 8050.32958984375, 3002.600341796875, 3967.602783203125, 12699.0126953125, 4418.8564453125, 5852.515625, 1294.9639892578125, 1253.1361083984375, 1096.1845703125, 1014.96484375, 984.6934204101562, 897.4434814453125, 886.510986328125, 884.19384765625, 827.9673461914062, 796.6016845703125, 753.1775512695312, 674.04541015625, 664.5599975585938, 656.5682983398438, 654.36865234375, 631.1528930664062, 628.0101318359375, 601.638916015625, 600.7733764648438, 590.7564697265625, 588.4524536132812, 576.0360107421875, 575.9960327148438, 575.26220703125, 574.3320922851562, 574.0858154296875, 542.0480346679688, 527.58349609375, 510.14385986328125, 506.1053771972656, 1232.726806640625, 1466.265380859375, 1112.881103515625, 1243.291259765625, 1793.64208984375, 892.4091186523438, 811.927978515625, 1573.3172607421875, 799.83056640625, 1150.1461181640625, 809.99755859375, 931.2632446289062, 1693.4237060546875, 4567.591796875, 2095.528564453125, 1202.711181640625, 3440.80126953125, 1190.4918212890625, 1122.75439453125, 1624.544677734375, 5787.23828125, 1177.7705078125, 1401.000732421875, 3019.48779296875, 4418.8564453125, 7289.9951171875, 2101.4775390625, 1282.232177734375, 2890.0830078125, 2253.020263671875, 7811.06591796875, 6087.7373046875, 3589.885009765625, 5061.1025390625, 2814.95361328125, 1963.04052734375, 1621.427978515625, 816.1497802734375, 736.9570922851562, 713.351318359375, 665.6559448242188, 575.737548828125, 488.0716247558594, 458.9668273925781, 449.1463317871094, 445.58941650390625, 442.56561279296875, 437.8278503417969, 418.2308044433594, 399.8647766113281, 390.0444641113281, 380.8342590332031, 380.0712890625, 378.62322998046875, 371.3398742675781, 364.43701171875, 364.2075500488281, 361.0341796875, 356.146484375, 351.6235046386719, 2578.98193359375, 347.7718811035156, 340.2432556152344, 338.8781433105469, 613.5296020507812, 545.4910888671875, 2110.9599609375, 721.8997192382812, 1957.7855224609375, 679.437255859375, 610.0223999023438, 973.94140625, 3565.632568359375, 3019.48779296875, 5852.515625, 1536.473876953125, 1679.974365234375, 4535.8486328125, 2083.399658203125, 2477.139892578125, 956.8796997070312, 1165.383544921875, 892.4052734375, 1754.5201416015625, 1955.68212890625, 36366.0390625, 3608.70458984375, 1883.23974609375, 950.5633544921875, 631.484375, 590.2930297851562, 580.5543212890625, 577.189208984375, 570.241943359375, 553.1331787109375, 521.8410034179688, 520.6005249023438, 513.946533203125, 475.96575927734375, 451.0591125488281, 435.2096862792969, 383.7488708496094, 378.0287170410156, 353.263671875, 351.9393310546875, 328.5293884277344, 323.05499267578125, 319.1217041015625, 293.8013610839844, 274.63653564453125, 274.4938659667969, 265.71026611328125, 265.18695068359375, 262.8271484375, 254.48179626464844, 3297.7392578125, 1885.67529296875, 1794.621826171875, 1418.4091796875, 1381.396484375, 1240.1873779296875, 1033.86328125, 965.8502197265625, 864.8499755859375, 782.4701538085938, 777.8204345703125, 733.4730224609375, 704.5521850585938, 672.0203247070312, 640.957763671875, 640.5640869140625, 601.3303833007812, 531.2922973632812, 500.6022644042969, 444.83953857421875, 395.52020263671875, 372.2349853515625, 359.2572021484375, 356.7430114746094, 340.1164245605469, 303.3291015625, 294.234130859375, 293.7807922363281, 267.16448974609375, 258.68377685546875, 2777.594970703125, 4535.8486328125, 920.5491333007812, 1583.4285888671875, 3794.485107421875, 2540.80224609375, 5852.515625, 1920.6044921875, 1775.415771484375, 924.2286987304688, 974.2477416992188, 4418.8564453125, 5787.23828125, 1263.318115234375, 863.3687744140625, 745.4691162109375, 720.9335327148438, 661.1260375976562, 630.9019775390625, 541.4932861328125, 529.375732421875, 513.5380859375, 513.52197265625, 461.42926025390625, 455.7579345703125, 444.3485412597656, 441.4475402832031, 417.5786437988281, 414.0687255859375, 410.6857604980469, 384.4817810058594, 383.94171142578125, 383.1123962402344, 371.9478454589844, 370.3801574707031, 368.5199279785156, 360.0014343261719, 359.84625244140625, 356.39013671875, 356.14404296875, 337.0201110839844, 312.4023132324219, 306.71734619140625, 1399.92236328125, 1080.035400390625, 2369.200439453125, 1042.4202880859375, 1955.68212890625, 1456.420654296875, 1736.4542236328125, 2208.888916015625, 526.506103515625, 533.8494873046875, 822.1586303710938, 1343.5299072265625, 1081.01318359375, 2315.84716796875, 2890.0830078125, 1044.871826171875, 1148.373779296875, 2273.51708984375, 1200.8626708984375, 1027.7164306640625, 782.4307250976562, 662.5571899414062, 572.8213500976562, 446.9946594238281, 378.3537292480469, 350.0673522949219, 310.0057373046875, 247.63070678710938, 243.5811309814453, 240.7915496826172, 227.18898010253906, 211.7349395751953, 153.55453491210938, 142.84425354003906, 130.88006591796875, 129.886962890625, 127.2649917602539, 115.08448791503906, 105.06988525390625, 98.94235229492188, 90.1635513305664, 88.04789733886719, 74.12890625, 65.75725555419922, 62.772369384765625, 60.6743278503418, 56.411258697509766, 205.83531188964844, 203.7119903564453, 1534.02294921875, 854.08447265625, 1803.983154296875, 486.0959777832031, 3205.372802734375, 886.7621459960938, 3143.398193359375, 514.7514038085938, 1264.3814697265625, 2951.452880859375, 420.3988952636719, 1578.6988525390625, 473.10357666015625, 2208.888916015625, 1073.652099609375, 1103.0595703125, 1040.8311767578125, 844.6946411132812, 685.7559204101562, 633.5409545898438, 527.0650024414062, 415.1146545410156, 412.1861267089844, 396.2308349609375, 319.19439697265625, 278.531005859375, 221.06820678710938, 197.65846252441406, 181.60580444335938, 181.09710693359375, 136.34739685058594, 120.70982360839844, 116.35662841796875, 91.44099426269531, 85.93187713623047, 79.98514556884766, 79.1171875, 71.10346221923828, 68.11003112792969, 66.04227447509766, 60.857666015625, 57.962520599365234, 55.3367919921875, 52.17885971069336, 49.90296936035156, 977.5503540039062, 752.37841796875, 135.704833984375, 124.62432098388672, 569.5286865234375, 1733.0072021484375, 861.1160888671875, 144.36636352539062, 1538.393798828125, 516.0628662109375, 2083.399658203125, 2054.211181640625, 1524.789794921875, 717.636962890625, 1087.913818359375, 2369.200439453125, 679.3759155273438, 1153.7210693359375, 2540.80224609375, 2213.527587890625, 671.5352172851562, 638.1564331054688, 599.0830688476562, 532.3336791992188, 373.1893310546875, 351.52362060546875, 342.0365905761719, 334.6365661621094, 331.6756286621094, 300.21539306640625, 299.8880310058594, 262.2772521972656, 251.13174438476562, 225.45570373535156, 211.6549835205078, 207.61160278320312, 185.95281982421875, 176.10458374023438, 170.7079315185547, 168.90463256835938, 160.67910766601562, 158.73052978515625, 128.7537384033203, 126.63975524902344, 107.13359832763672, 98.33987426757812, 95.56009674072266, 94.50072479248047, 94.12117004394531, 92.20439910888672, 120.54959869384766, 549.2855224609375, 325.2548522949219, 1331.4075927734375, 251.1798553466797, 883.9242553710938, 513.0213012695312, 488.81573486328125, 1447.19091796875, 473.10357666015625, 984.3952026367188, 678.9436645507812, 7716.4541015625, 2103.4765625, 2110.9599609375, 1412.542724609375, 884.3306274414062, 405.3404235839844, 392.4092712402344, 381.1117248535156, 376.7720031738281, 354.9694519042969, 340.2911682128906, 312.6640625, 303.54119873046875, 303.0133972167969, 302.12158203125, 278.8395690917969, 277.8942565917969, 246.30853271484375, 238.2922821044922, 229.07901000976562, 221.1221923828125, 208.16697692871094, 186.4194793701172, 171.161376953125, 162.63433837890625, 160.17532348632812, 159.84307861328125, 147.35691833496094, 142.04861450195312, 138.96913146972656, 135.78787231445312, 126.4738540649414, 124.61470794677734, 685.3982543945312, 415.46368408203125, 839.4255981445312, 377.70941162109375, 619.8600463867188, 2540.80224609375, 2357.72802734375, 987.6716918945312, 769.03076171875, 708.1213989257812, 410.95928955078125, 330.646728515625, 272.72637939453125, 267.91607666015625, 234.15814208984375, 203.87278747558594, 190.2465362548828, 185.17694091796875, 178.42327880859375, 176.57061767578125, 170.86399841308594, 167.41908264160156, 153.8861846923828, 145.52488708496094, 128.9829559326172, 126.28564453125, 120.40485382080078, 108.24710083007812, 108.14627838134766, 94.50556945800781, 87.52180480957031, 86.19181060791016, 67.22103881835938, 55.993465423583984, 47.58430480957031, 44.74047088623047, 887.5650634765625, 653.1567993164062, 2540.80224609375, 1701.35498046875, 1409.7177734375, 567.6582641601562, 434.39276123046875, 295.3011169433594, 199.25692749023438, 190.47471618652344, 140.78677368164062, 91.44208526611328, 88.04437255859375, 86.53558349609375, 52.05801010131836, 48.24214553833008, 42.325984954833984, 37.37015151977539, 29.506860733032227, 27.698137283325195, 189.8518524169922, 147.64312744140625, 11.673966407775879, 470.56317138671875, 651.8472290039062, 10.22737979888916, 8.531915664672852, 8.070634841918945, 169.9594268798828, 1057.0975341796875, 282.1421203613281, 313.3735046386719, 42.39847946166992, 479.8890686035156, 760.3146362304688, 416.16632080078125, 535.8341674804688, 872.3440551757812, 2777.594970703125, 511.2618408203125, 152.74789428710938, 443.8300476074219, 1331.4075927734375, 1727.024658203125, 597.8941040039062, 510.1053161621094, 407.2464294433594, 299.5025939941406, 177.19876098632812, 175.38973999023438, 166.66905212402344, 164.59600830078125, 158.82305908203125, 137.24264526367188, 137.04061889648438, 99.32215881347656, 95.32323455810547, 91.44501495361328, 85.43667602539062, 79.93611145019531, 78.33922576904297, 62.33428192138672, 52.017696380615234, 51.56461715698242, 42.199554443359375, 40.204124450683594, 1209.7935791015625, 35.31550598144531, 34.246742248535156, 30.79389190673828, 29.48944854736328, 24.331167221069336, 23.166933059692383, 4567.591796875, 398.82122802734375, 1162.8682861328125, 423.2108459472656, 2141.397216796875, 596.4591674804688, 1355.4779052734375, 180.24436950683594, 1264.032470703125, 567.9847412109375, 3440.80126953125, 1269.9095458984375, 744.0758666992188, 624.2536010742188, 603.5106811523438, 537.795166015625, 419.5071105957031, 391.4532775878906, 383.5168762207031, 265.80609130859375, 185.9812469482422, 158.6009521484375, 118.86112213134766, 103.05460357666016, 88.01876068115234, 87.29682159423828, 86.00112915039062, 69.7950439453125, 67.1812973022461, 65.61614227294922, 64.657470703125, 63.048240661621094, 50.100440979003906, 31.511537551879883, 29.16765785217285, 16.407039642333984, 13.703207969665527, 8.513700485229492, 477.94940185546875, 1774.104248046875, 1.8777263164520264, 974.2477416992188, 288.5830078125, 144.36636352539062, 887.5650634765625, 713.3349609375, 681.834716796875, 644.5776977539062, 501.15069580078125, 431.4721984863281, 333.31085205078125, 308.5246276855469, 277.75921630859375, 214.41725158691406, 163.24745178222656, 149.61598205566406, 148.447265625, 143.82623291015625, 137.73190307617188, 135.60238647460938, 106.84541320800781, 103.99390411376953, 99.76093292236328, 94.40738677978516, 83.3450698852539, 82.36514282226562, 48.27098846435547, 40.648807525634766, 36.46091079711914, 34.33598327636719, 31.780488967895508, 28.189502716064453, 23.09832000732422, 19.98786735534668, 18.713106155395508, 83.62071228027344, 650.6676635742188, 580.7229614257812, 285.98974609375, 264.28607177734375, 252.0996551513672, 222.1719207763672, 183.67669677734375, 172.31948852539062, 140.79591369628906, 107.54454040527344, 91.16138458251953, 81.3050537109375, 78.72935485839844, 78.22392272949219, 74.09829711914062, 54.99912643432617, 46.846824645996094, 43.714500427246094, 39.506500244140625, 33.583160400390625, 30.47701072692871, 26.94957733154297, 25.2575740814209, 19.07998275756836, 365.3429260253906, 1.2500957250595093, 1.250120997428894, 1.2500895261764526, 1.2500886917114258, 1.250085473060608, 431.03814697265625, 337.7187805175781, 260.8637390136719, 203.99041748046875, 148.7913055419922, 126.39996337890625, 123.35152435302734, 117.48052978515625, 113.44329071044922, 108.42910766601562, 92.6921157836914, 63.3733024597168, 53.564735412597656, 36.96107864379883, 33.84335708618164, 33.533199310302734, 31.523860931396484, 24.490570068359375, 14.854642868041992, 14.656112670898438, 14.653082847595215, 14.3076753616333, 11.810009002685547, 11.249276161193848, 319.6158142089844, 1.2500637769699097, 1.2500554323196411, 1.2500672340393066, 1.2500649690628052, 1.2500569820404053, 1.2501416206359863, 1.250209093093872, 343.2028503417969, 282.09112548828125, 279.50042724609375, 208.1927947998047, 141.57725524902344, 133.3289337158203, 128.43460083007812, 103.56766510009766, 103.0943374633789, 53.591068267822266, 50.41889190673828, 30.688016891479492, 28.237699508666992, 27.199508666992188, 26.758323669433594, 25.967206954956055, 22.673809051513672, 21.519289016723633, 14.998353958129883, 11.785614013671875, 8.75257396697998, 393.83343505859375, 147.64312744140625, 1.250209093093872, 1.250065803527832, 1.2500966787338257, 1.2500728368759155, 1.250057578086853, 1.2501035928726196, 1.2500816583633423, 1.2501556873321533, 1.2501652240753174, 1.2501826286315918, 178.56483459472656, 108.23396301269531, 77.65208435058594, 46.24140548706055, 34.70519256591797, 33.53422164916992, 32.23390579223633, 27.617748260498047, 9.883157730102539, 9.056713104248047, 7.2897772789001465, 6.570814609527588, 6.42160177230835, 2.6498124599456787, 1.2500839233398438, 1.2501089572906494, 1.250085473060608, 1.250075101852417, 1.2500711679458618, 1.2500803470611572, 1.2500920295715332, 1.250054955482483, 1.2500652074813843, 1.2500591278076172, 1.2500590085983276, 1.2500590085983276, 1.250051736831665, 1.2500677108764648, 1.2501078844070435, 1.2500497102737427, 1.2500674724578857, 1.250072956085205, 1.25010085105896, 1.250077486038208], \"Category\": [\"Default\", \"Default\", \"Default\", \"Default\", \"Default\", \"Default\", \"Default\", \"Default\", \"Default\", \"Default\", \"Default\", \"Default\", \"Default\", \"Default\", \"Default\", \"Default\", \"Default\", \"Default\", \"Default\", \"Default\", \"Default\", \"Default\", \"Default\", \"Default\", \"Default\", \"Default\", \"Default\", \"Default\", \"Default\", \"Default\", \"Topic1\", \"Topic1\", \"Topic1\", \"Topic1\", \"Topic1\", \"Topic1\", \"Topic1\", \"Topic1\", \"Topic1\", \"Topic1\", \"Topic1\", \"Topic1\", \"Topic1\", \"Topic1\", \"Topic1\", \"Topic1\", \"Topic1\", \"Topic1\", \"Topic1\", \"Topic1\", \"Topic1\", \"Topic1\", \"Topic1\", \"Topic1\", \"Topic1\", \"Topic1\", \"Topic1\", \"Topic1\", \"Topic1\", \"Topic1\", \"Topic1\", \"Topic1\", \"Topic1\", \"Topic1\", \"Topic1\", \"Topic1\", \"Topic1\", \"Topic1\", \"Topic1\", \"Topic1\", \"Topic1\", \"Topic1\", \"Topic1\", \"Topic1\", \"Topic1\", \"Topic1\", \"Topic1\", \"Topic1\", \"Topic1\", \"Topic1\", \"Topic1\", \"Topic1\", \"Topic1\", \"Topic1\", \"Topic1\", \"Topic1\", \"Topic1\", \"Topic1\", \"Topic1\", \"Topic1\", \"Topic1\", \"Topic1\", \"Topic1\", \"Topic1\", \"Topic2\", \"Topic2\", \"Topic2\", \"Topic2\", \"Topic2\", \"Topic2\", \"Topic2\", \"Topic2\", \"Topic2\", \"Topic2\", \"Topic2\", \"Topic2\", \"Topic2\", \"Topic2\", \"Topic2\", \"Topic2\", \"Topic2\", \"Topic2\", \"Topic2\", \"Topic2\", \"Topic2\", \"Topic2\", \"Topic2\", \"Topic2\", \"Topic2\", \"Topic2\", \"Topic2\", \"Topic2\", \"Topic2\", \"Topic2\", \"Topic2\", \"Topic2\", \"Topic2\", \"Topic2\", \"Topic2\", \"Topic2\", \"Topic2\", \"Topic2\", \"Topic2\", \"Topic2\", \"Topic2\", \"Topic2\", \"Topic2\", \"Topic2\", \"Topic2\", \"Topic2\", \"Topic2\", \"Topic2\", \"Topic2\", \"Topic2\", \"Topic2\", \"Topic2\", \"Topic2\", \"Topic2\", \"Topic2\", \"Topic3\", \"Topic3\", \"Topic3\", \"Topic3\", \"Topic3\", \"Topic3\", \"Topic3\", \"Topic3\", \"Topic3\", \"Topic3\", \"Topic3\", \"Topic3\", \"Topic3\", \"Topic3\", \"Topic3\", \"Topic3\", \"Topic3\", \"Topic3\", \"Topic3\", \"Topic3\", \"Topic3\", \"Topic3\", \"Topic3\", \"Topic3\", \"Topic3\", \"Topic3\", \"Topic3\", \"Topic3\", \"Topic3\", \"Topic3\", \"Topic3\", \"Topic3\", \"Topic3\", \"Topic3\", \"Topic3\", \"Topic3\", \"Topic3\", \"Topic3\", \"Topic3\", \"Topic3\", \"Topic3\", \"Topic3\", \"Topic3\", \"Topic3\", \"Topic3\", \"Topic3\", \"Topic3\", \"Topic3\", \"Topic3\", \"Topic3\", \"Topic3\", \"Topic3\", \"Topic3\", \"Topic3\", \"Topic3\", \"Topic3\", \"Topic3\", \"Topic3\", \"Topic3\", \"Topic3\", \"Topic3\", \"Topic3\", \"Topic3\", \"Topic3\", \"Topic4\", \"Topic4\", \"Topic4\", \"Topic4\", \"Topic4\", \"Topic4\", \"Topic4\", \"Topic4\", \"Topic4\", \"Topic4\", \"Topic4\", \"Topic4\", \"Topic4\", \"Topic4\", \"Topic4\", \"Topic4\", \"Topic4\", \"Topic4\", \"Topic4\", \"Topic4\", \"Topic4\", \"Topic4\", \"Topic4\", \"Topic4\", \"Topic4\", \"Topic4\", \"Topic4\", \"Topic4\", \"Topic4\", \"Topic4\", \"Topic4\", \"Topic4\", \"Topic4\", \"Topic4\", \"Topic4\", \"Topic4\", \"Topic4\", \"Topic4\", \"Topic4\", \"Topic4\", \"Topic4\", \"Topic4\", \"Topic4\", \"Topic4\", \"Topic4\", \"Topic4\", \"Topic4\", \"Topic4\", \"Topic4\", \"Topic4\", \"Topic4\", \"Topic5\", \"Topic5\", \"Topic5\", \"Topic5\", \"Topic5\", \"Topic5\", \"Topic5\", \"Topic5\", \"Topic5\", \"Topic5\", \"Topic5\", \"Topic5\", \"Topic5\", \"Topic5\", \"Topic5\", \"Topic5\", \"Topic5\", \"Topic5\", \"Topic5\", \"Topic5\", \"Topic5\", \"Topic5\", \"Topic5\", \"Topic5\", \"Topic5\", \"Topic5\", \"Topic5\", \"Topic5\", \"Topic5\", \"Topic5\", \"Topic6\", \"Topic6\", \"Topic6\", \"Topic6\", \"Topic6\", \"Topic6\", \"Topic6\", \"Topic6\", \"Topic6\", \"Topic6\", \"Topic6\", \"Topic6\", \"Topic6\", \"Topic6\", \"Topic6\", \"Topic6\", \"Topic6\", \"Topic6\", \"Topic6\", \"Topic6\", \"Topic6\", \"Topic6\", \"Topic6\", \"Topic6\", \"Topic6\", \"Topic6\", \"Topic6\", \"Topic6\", \"Topic6\", \"Topic6\", \"Topic6\", \"Topic6\", \"Topic6\", \"Topic6\", \"Topic6\", \"Topic6\", \"Topic6\", \"Topic6\", \"Topic6\", \"Topic6\", \"Topic6\", \"Topic6\", \"Topic6\", \"Topic7\", \"Topic7\", \"Topic7\", \"Topic7\", \"Topic7\", \"Topic7\", \"Topic7\", \"Topic7\", \"Topic7\", \"Topic7\", \"Topic7\", \"Topic7\", \"Topic7\", \"Topic7\", \"Topic7\", \"Topic7\", \"Topic7\", \"Topic7\", \"Topic7\", \"Topic7\", \"Topic7\", \"Topic7\", \"Topic7\", \"Topic7\", \"Topic7\", \"Topic7\", \"Topic7\", \"Topic7\", \"Topic7\", \"Topic7\", \"Topic7\", \"Topic7\", \"Topic7\", \"Topic7\", \"Topic7\", \"Topic7\", \"Topic7\", \"Topic7\", \"Topic7\", \"Topic7\", \"Topic7\", \"Topic7\", \"Topic7\", \"Topic7\", \"Topic7\", \"Topic7\", \"Topic7\", \"Topic8\", \"Topic8\", \"Topic8\", \"Topic8\", \"Topic8\", \"Topic8\", \"Topic8\", \"Topic8\", \"Topic8\", \"Topic8\", \"Topic8\", \"Topic8\", \"Topic8\", \"Topic8\", \"Topic8\", \"Topic8\", \"Topic8\", \"Topic8\", \"Topic8\", \"Topic8\", \"Topic8\", \"Topic8\", \"Topic8\", \"Topic8\", \"Topic8\", \"Topic8\", \"Topic8\", \"Topic8\", \"Topic8\", \"Topic8\", \"Topic8\", \"Topic8\", \"Topic8\", \"Topic8\", \"Topic8\", \"Topic8\", \"Topic8\", \"Topic8\", \"Topic8\", \"Topic8\", \"Topic8\", \"Topic8\", \"Topic8\", \"Topic8\", \"Topic8\", \"Topic8\", \"Topic8\", \"Topic9\", \"Topic9\", \"Topic9\", \"Topic9\", \"Topic9\", \"Topic9\", \"Topic9\", \"Topic9\", \"Topic9\", \"Topic9\", \"Topic9\", \"Topic9\", \"Topic9\", \"Topic9\", \"Topic9\", \"Topic9\", \"Topic9\", \"Topic9\", \"Topic9\", \"Topic9\", \"Topic9\", \"Topic9\", \"Topic9\", \"Topic9\", \"Topic9\", \"Topic9\", \"Topic9\", \"Topic9\", \"Topic9\", \"Topic9\", \"Topic9\", \"Topic9\", \"Topic9\", \"Topic9\", \"Topic9\", \"Topic9\", \"Topic9\", \"Topic9\", \"Topic9\", \"Topic9\", \"Topic9\", \"Topic9\", \"Topic9\", \"Topic9\", \"Topic9\", \"Topic9\", \"Topic9\", \"Topic9\", \"Topic9\", \"Topic9\", \"Topic10\", \"Topic10\", \"Topic10\", \"Topic10\", \"Topic10\", \"Topic10\", \"Topic10\", \"Topic10\", \"Topic10\", \"Topic10\", \"Topic10\", \"Topic10\", \"Topic10\", \"Topic10\", \"Topic10\", \"Topic10\", \"Topic10\", \"Topic10\", \"Topic10\", \"Topic10\", \"Topic10\", \"Topic10\", \"Topic10\", \"Topic10\", \"Topic10\", \"Topic10\", \"Topic10\", \"Topic10\", \"Topic10\", \"Topic10\", \"Topic10\", \"Topic10\", \"Topic10\", \"Topic10\", \"Topic10\", \"Topic10\", \"Topic10\", \"Topic10\", \"Topic10\", \"Topic10\", \"Topic10\", \"Topic10\", \"Topic10\", \"Topic10\", \"Topic10\", \"Topic11\", \"Topic11\", \"Topic11\", \"Topic11\", \"Topic11\", \"Topic11\", \"Topic11\", \"Topic11\", \"Topic11\", \"Topic11\", \"Topic11\", \"Topic11\", \"Topic11\", \"Topic11\", \"Topic11\", \"Topic11\", \"Topic11\", \"Topic11\", \"Topic11\", \"Topic11\", \"Topic11\", \"Topic11\", \"Topic11\", \"Topic11\", \"Topic11\", \"Topic11\", \"Topic11\", \"Topic11\", \"Topic11\", \"Topic11\", \"Topic11\", \"Topic11\", \"Topic11\", \"Topic11\", \"Topic11\", \"Topic11\", \"Topic12\", \"Topic12\", \"Topic12\", \"Topic12\", \"Topic12\", \"Topic12\", \"Topic12\", \"Topic12\", \"Topic12\", \"Topic12\", \"Topic12\", \"Topic12\", \"Topic12\", \"Topic12\", \"Topic12\", \"Topic12\", \"Topic12\", \"Topic12\", \"Topic12\", \"Topic12\", \"Topic12\", \"Topic12\", \"Topic12\", \"Topic12\", \"Topic12\", \"Topic12\", \"Topic12\", \"Topic12\", \"Topic12\", \"Topic12\", \"Topic12\", \"Topic12\", \"Topic12\", \"Topic13\", \"Topic13\", \"Topic13\", \"Topic13\", \"Topic13\", \"Topic13\", \"Topic13\", \"Topic13\", \"Topic13\", \"Topic13\", \"Topic13\", \"Topic13\", \"Topic13\", \"Topic13\", \"Topic13\", \"Topic13\", \"Topic13\", \"Topic13\", \"Topic13\", \"Topic13\", \"Topic13\", \"Topic13\", \"Topic13\", \"Topic13\", \"Topic13\", \"Topic13\", \"Topic13\", \"Topic13\", \"Topic13\", \"Topic13\", \"Topic13\", \"Topic13\", \"Topic13\", \"Topic13\", \"Topic13\", \"Topic13\", \"Topic13\", \"Topic13\", \"Topic13\", \"Topic13\", \"Topic14\", \"Topic14\", \"Topic14\", \"Topic14\", \"Topic14\", \"Topic14\", \"Topic14\", \"Topic14\", \"Topic14\", \"Topic14\", \"Topic14\", \"Topic14\", \"Topic14\", \"Topic14\", \"Topic14\", \"Topic14\", \"Topic14\", \"Topic14\", \"Topic14\", \"Topic14\", \"Topic14\", \"Topic14\", \"Topic14\", \"Topic14\", \"Topic14\", \"Topic14\", \"Topic14\", \"Topic14\", \"Topic14\", \"Topic14\", \"Topic14\", \"Topic14\", \"Topic14\", \"Topic14\", \"Topic14\", \"Topic14\", \"Topic14\", \"Topic14\", \"Topic14\", \"Topic14\", \"Topic14\", \"Topic15\", \"Topic15\", \"Topic15\", \"Topic15\", \"Topic15\", \"Topic15\", \"Topic15\", \"Topic15\", \"Topic15\", \"Topic15\", \"Topic15\", \"Topic15\", \"Topic15\", \"Topic15\", \"Topic15\", \"Topic15\", \"Topic15\", \"Topic15\", \"Topic15\", \"Topic15\", \"Topic15\", \"Topic15\", \"Topic15\", \"Topic15\", \"Topic15\", \"Topic15\", \"Topic15\", \"Topic15\", \"Topic15\", \"Topic15\", \"Topic15\", \"Topic15\", \"Topic15\", \"Topic15\", \"Topic16\", \"Topic16\", \"Topic16\", \"Topic16\", \"Topic16\", \"Topic16\", \"Topic16\", \"Topic16\", \"Topic16\", \"Topic16\", \"Topic16\", \"Topic16\", \"Topic16\", \"Topic16\", \"Topic16\", \"Topic16\", \"Topic16\", \"Topic16\", \"Topic16\", \"Topic16\", \"Topic16\", \"Topic16\", \"Topic16\", \"Topic16\", \"Topic16\", \"Topic16\", \"Topic16\", \"Topic16\", \"Topic16\", \"Topic16\", \"Topic16\", \"Topic17\", \"Topic17\", \"Topic17\", \"Topic17\", \"Topic17\", \"Topic17\", \"Topic17\", \"Topic17\", \"Topic17\", \"Topic17\", \"Topic17\", \"Topic17\", \"Topic17\", \"Topic17\", \"Topic17\", \"Topic17\", \"Topic17\", \"Topic17\", \"Topic17\", \"Topic17\", \"Topic17\", \"Topic17\", \"Topic17\", \"Topic17\", \"Topic17\", \"Topic17\", \"Topic17\", \"Topic17\", \"Topic17\", \"Topic17\", \"Topic18\", \"Topic18\", \"Topic18\", \"Topic18\", \"Topic18\", \"Topic18\", \"Topic18\", \"Topic18\", \"Topic18\", \"Topic18\", \"Topic18\", \"Topic18\", \"Topic18\", \"Topic18\", \"Topic18\", \"Topic18\", \"Topic18\", \"Topic18\", \"Topic18\", \"Topic18\", \"Topic18\", \"Topic18\", \"Topic18\", \"Topic18\", \"Topic18\", \"Topic18\", \"Topic18\", \"Topic18\", \"Topic18\", \"Topic18\", \"Topic18\", \"Topic18\", \"Topic19\", \"Topic19\", \"Topic19\", \"Topic19\", \"Topic19\", \"Topic19\", \"Topic19\", \"Topic19\", \"Topic19\", \"Topic19\", \"Topic19\", \"Topic19\", \"Topic19\", \"Topic19\", \"Topic19\", \"Topic19\", \"Topic19\", \"Topic19\", \"Topic19\", \"Topic19\", \"Topic19\", \"Topic19\", \"Topic19\", \"Topic19\", \"Topic19\", \"Topic19\", \"Topic19\", \"Topic19\", \"Topic19\", \"Topic19\", \"Topic19\", \"Topic19\", \"Topic19\", \"Topic20\", \"Topic20\", \"Topic20\", \"Topic20\", \"Topic20\", \"Topic20\", \"Topic20\", \"Topic20\", \"Topic20\", \"Topic20\", \"Topic20\", \"Topic20\", \"Topic20\", \"Topic20\", \"Topic20\", \"Topic20\", \"Topic20\", \"Topic20\", \"Topic20\", \"Topic20\", \"Topic20\", \"Topic20\", \"Topic20\", \"Topic20\", \"Topic20\", \"Topic20\", \"Topic20\", \"Topic20\", \"Topic20\", \"Topic20\", \"Topic20\", \"Topic20\", \"Topic20\", \"Topic20\"], \"logprob\": [30.0, 29.0, 28.0, 27.0, 26.0, 25.0, 24.0, 23.0, 22.0, 21.0, 20.0, 19.0, 18.0, 17.0, 16.0, 15.0, 14.0, 13.0, 12.0, 11.0, 10.0, 9.0, 8.0, 7.0, 6.0, 5.0, 4.0, 3.0, 2.0, 1.0, -3.6342999935150146, -3.813800096511841, -4.918799877166748, -5.220799922943115, -5.222300052642822, -5.425899982452393, -5.503900051116943, -5.609799861907959, -5.648600101470947, -5.7453999519348145, -5.757199764251709, -5.767199993133545, -5.790800094604492, -5.9644999504089355, -4.3190999031066895, -6.038899898529053, -6.067500114440918, -6.137599945068359, -6.155799865722656, -6.1595001220703125, -6.197199821472168, -6.2906999588012695, -6.201099872589111, -6.452700138092041, -6.4822998046875, -6.484499931335449, -6.499300003051758, -6.503600120544434, -6.506800174713135, -6.571400165557861, -4.295300006866455, -4.435500144958496, -4.650000095367432, -4.624800205230713, -5.610099792480469, -5.417799949645996, -5.894400119781494, -4.125199794769287, -3.8882999420166016, -5.102799892425537, -3.83489990234375, -5.148900032043457, -3.446199893951416, -4.800899982452393, -4.651000022888184, -5.447800159454346, -4.577600002288818, -4.503600120544434, -4.034900188446045, -4.47189998626709, -5.175099849700928, -4.982600212097168, -4.11870002746582, -4.4704999923706055, -4.669400215148926, -4.696899890899658, -4.397799968719482, -4.793099880218506, -4.904799938201904, -4.585100173950195, -4.5605998039245605, -4.58620023727417, -4.968699932098389, -4.671299934387207, -2.6050000190734863, -3.743499994277954, -3.801100015640259, -3.8173999786376953, -4.271200180053711, -4.878200054168701, -5.055300235748291, -5.125800132751465, -5.293600082397461, -5.329699993133545, -5.356299877166748, -5.374899864196777, -5.380499839782715, -5.522200107574463, -5.548799991607666, -5.588900089263916, -5.5945000648498535, -5.5971999168396, -5.61929988861084, -5.624800205230713, -5.659200191497803, -5.706200122833252, -5.730400085449219, -5.8084001541137695, -5.8454999923706055, -6.003699779510498, -6.01669979095459, -6.066400051116943, -6.0742998123168945, -6.101099967956543, -5.844099998474121, -4.4944000244140625, -3.51990008354187, -4.673900127410889, -3.0481998920440674, -4.600399971008301, -4.531599998474121, -4.110899925231934, -3.86080002784729, -4.31689977645874, -4.685699939727783, -4.527100086212158, -3.964400053024292, -4.937699794769287, -4.461699962615967, -4.433599948883057, -4.905200004577637, -4.74459981918335, -4.899600028991699, -4.547999858856201, -4.946300029754639, -4.916200160980225, -4.609000205993652, -4.972499847412109, -5.021299839019775, -4.947000026702881, -4.979899883270264, -5.113800048828125, -5.190899848937988, -5.221199989318848, -5.3140997886657715, -5.326399803161621, -5.328999996185303, -5.394800186157227, -5.433499813079834, -5.48960018157959, -5.600800037384033, -5.614999771118164, -5.627099990844727, -5.630499839782715, -5.6666998863220215, -5.6717000007629395, -5.714600086212158, -5.716100215911865, -5.732900142669678, -5.736800193786621, -5.758200168609619, -5.758299827575684, -5.7596001625061035, -5.761199951171875, -5.761600017547607, -5.819200038909912, -5.84630012512207, -5.880000114440918, -5.887899875640869, -5.002299785614014, -4.838799953460693, -5.109600067138672, -5.002399921417236, -4.6458001136779785, -5.331399917602539, -5.424099922180176, -4.788599967956543, -5.440400123596191, -5.0929999351501465, -5.430600166320801, -5.302700042724609, -4.763299942016602, -3.8780999183654785, -4.592299938201904, -5.109499931335449, -4.283199787139893, -5.1442999839782715, -5.193900108337402, -4.959400177001953, -4.121200084686279, -5.205699920654297, -5.1041998863220215, -4.688600063323975, -4.5065999031066895, -4.250100135803223, -4.92140007019043, -5.166900157928467, -4.958700180053711, -5.037199974060059, -4.691100120544434, -5.095399856567383, -5.145400047302246, -5.147200107574463, -3.517400026321411, -3.878000020980835, -4.069300174713135, -4.756499767303467, -4.858699798583984, -4.891300201416016, -4.960700035095215, -5.106100082397461, -5.271599769592285, -5.3333001136779785, -5.354899883270264, -5.3628997802734375, -5.369699954986572, -5.380499839782715, -5.426400184631348, -5.471499919891357, -5.496399879455566, -5.520400047302246, -5.52239990234375, -5.526199817657471, -5.5457000732421875, -5.564499855041504, -5.565199851989746, -5.573999881744385, -5.587600231170654, -5.600500106811523, -3.6078999042510986, -5.611499786376953, -5.633500099182129, -5.637499809265137, -5.0690999031066895, -5.183000087738037, -3.9289000034332275, -4.927999973297119, -4.009699821472168, -5.000800132751465, -5.15369987487793, -4.9182000160217285, -4.280600070953369, -4.621699810028076, -4.354499816894531, -4.931399822235107, -4.90500020980835, -4.54040002822876, -4.838200092315674, -4.77839994430542, -5.141200065612793, -5.091599941253662, -5.206500053405762, -5.068900108337402, -5.156899929046631, -0.6133999824523926, -2.9240000247955322, -3.574700117111206, -4.258900165557861, -4.668499946594238, -4.736100196838379, -4.752799987792969, -4.758600234985352, -4.770699977874756, -4.801300048828125, -4.859600067138672, -4.861999988555908, -4.874899864196777, -4.9517998695373535, -5.00570011138916, -5.041600227355957, -5.167799949645996, -5.182799816131592, -5.250800132751465, -5.2546000480651855, -5.323599815368652, -5.3404998779296875, -5.352799892425537, -5.435800075531006, -5.503499984741211, -5.504000186920166, -5.5366997718811035, -5.538700103759766, -5.547599792480469, -5.579999923706055, -3.0028998851776123, -3.5620999336242676, -3.611599922180176, -3.8469998836517334, -3.873500108718872, -3.9814000129699707, -4.163599967956543, -4.2316999435424805, -4.342299938201904, -4.442500114440918, -4.448500156402588, -4.507299900054932, -4.547599792480469, -4.59499979019165, -4.642399787902832, -4.64300012588501, -4.706299781799316, -4.830399990081787, -4.889999866485596, -5.008399963378906, -5.126299858093262, -5.187099933624268, -5.222700119018555, -5.229800224304199, -5.277699947357178, -5.392600059509277, -5.423099994659424, -5.424699783325195, -5.520100116729736, -5.552499771118164, -3.265700101852417, -2.955699920654297, -4.425899982452393, -4.0040998458862305, -3.376699924468994, -3.7291998863220215, -3.190999984741211, -4.0046000480651855, -4.214799880981445, -4.63129997253418, -4.747099876403809, -4.259200096130371, -4.533100128173828, -3.860599994659424, -4.241700172424316, -4.388700008392334, -4.4222002029418945, -4.508999824523926, -4.5559000968933105, -4.709000110626221, -4.7316999435424805, -4.7621002197265625, -4.762199878692627, -4.8694000244140625, -4.881800174713135, -4.907199859619141, -4.91379976272583, -4.9695000648498535, -4.978000164031982, -4.986199855804443, -5.052299976348877, -5.053699970245361, -5.0559000968933105, -5.085599899291992, -5.089799880981445, -5.094900131225586, -5.118299961090088, -5.118800163269043, -5.128399848937988, -5.1290998458862305, -5.184500217437744, -5.2606000900268555, -5.279099941253662, -3.789299964904785, -4.048600196838379, -3.3828999996185303, -4.177299976348877, -3.7509000301361084, -4.013700008392334, -3.8847999572753906, -3.874000072479248, -4.864999771118164, -4.8719000816345215, -4.6596999168396, -4.470099925994873, -4.637199878692627, -4.396399974822998, -4.350399971008301, -4.7093000411987305, -4.905600070953369, -2.392400026321411, -3.031100034713745, -3.187000036239624, -3.460099935531616, -3.6266000270843506, -3.7725000381469727, -4.021100044250488, -4.188300132751465, -4.266200065612793, -4.388199806213379, -4.613900184631348, -4.63040018081665, -4.642000198364258, -4.700500011444092, -4.771299839019775, -5.094699859619141, -5.167600154876709, -5.255899906158447, -5.263500213623047, -5.28410005569458, -5.385700225830078, -5.477799892425537, -5.538599967956543, -5.632699966430664, -5.656799793243408, -5.831399917602539, -5.953400135040283, -6.000699996948242, -6.035399913787842, -6.1097002029418945, -4.855400085449219, -4.887700080871582, -3.40339994430542, -3.909600019454956, -3.4296000003814697, -4.4527997970581055, -3.292799949645996, -4.1631999015808105, -3.55430006980896, -4.589300155639648, -4.167900085449219, -3.964200019836426, -4.7895002365112305, -4.31689977645874, -4.769999980926514, -4.5106000900268555, -4.706399917602539, -3.040600061416626, -3.0987000465393066, -3.307800054550171, -3.5165998935699463, -3.595900058746338, -3.7802999019622803, -4.019599914550781, -4.026700019836426, -4.066299915313721, -4.283199787139893, -4.420100212097168, -4.652200222015381, -4.764800071716309, -4.849999904632568, -4.852799892425537, -5.138800144195557, -5.26170015335083, -5.298799991607666, -5.542600154876709, -5.605599880218506, -5.678299903869629, -5.6894001960754395, -5.797900199890137, -5.841599941253662, -5.873000144958496, -5.956299781799316, -6.00600004196167, -6.053400039672852, -6.113399982452393, -6.15910005569458, -3.2204999923706055, -3.646399974822998, -5.263000011444092, -5.346199989318848, -4.116000175476074, -3.2481000423431396, -3.8183000087738037, -5.246600151062012, -3.435800075531006, -4.2820000648498535, -3.6905999183654785, -3.769399881362915, -4.073200225830078, -4.525899887084961, -4.496399879455566, -4.349800109863281, -4.769499778747559, -4.647299766540527, -4.521200180053711, -4.600500106811523, -3.5136001110076904, -3.5645999908447266, -3.6278998851776123, -3.746299982070923, -4.102499961853027, -4.162499904632568, -4.189899921417236, -4.211900234222412, -4.220799922943115, -4.320799827575684, -4.321899890899658, -4.456500053405762, -4.500100135803223, -4.608500003814697, -4.671999931335449, -4.691400051116943, -4.802299976348877, -4.85699987411499, -4.888400077819824, -4.899099826812744, -4.949399948120117, -4.961699962615967, -5.172699928283691, -5.1894001960754395, -5.358399868011475, -5.445099830627441, -5.474100112915039, -5.485400199890137, -5.489500045776367, -5.510300159454346, -5.242300033569336, -3.843100070953369, -4.402500152587891, -3.2232000827789307, -4.682600021362305, -3.7325000762939453, -4.276599884033203, -4.364299774169922, -3.7822000980377197, -4.456200122833252, -4.144199848175049, -4.603899955749512, -4.186999797821045, -4.512499809265137, -4.518599987030029, -2.4667999744415283, -2.935699939727783, -3.717400074005127, -3.7499001026153564, -3.7792000770568848, -3.7906999588012695, -3.8505001068115234, -3.8928000926971436, -3.977799892425537, -4.007599830627441, -4.009300231933594, -4.01230001449585, -4.092800140380859, -4.096199989318848, -4.217400074005127, -4.250699996948242, -4.290299892425537, -4.325799942016602, -4.386499881744385, -4.497600078582764, -4.583499908447266, -4.635000228881836, -4.650300025939941, -4.652400016784668, -4.734399795532227, -4.771399974822998, -4.793499946594238, -4.81689977645874, -4.888599872589111, -4.903500080108643, -3.8134000301361084, -4.345099925994873, -4.090400218963623, -4.525599956512451, -4.623499870300293, -4.724800109863281, -1.7431000471115112, -2.6138999462127686, -2.864500045776367, -2.9470999240875244, -3.492500066757202, -3.710599899291992, -3.9040000438690186, -3.921799898147583, -4.05709981918335, -4.196400165557861, -4.265999794006348, -4.2932000160217285, -4.330599784851074, -4.341100215911865, -4.374100208282471, -4.394700050354004, -4.479599952697754, -4.535900115966797, -4.657599925994873, -4.678899765014648, -4.727099895477295, -4.83459997177124, -4.835599899291992, -4.9720001220703125, -5.049799919128418, -5.065299987792969, -5.317800045013428, -5.504199981689453, -5.6707000732421875, -5.734000205993652, -3.678299903869629, -3.996999979019165, -3.203399896621704, -1.9657000303268433, -2.153899908065796, -3.06469988822937, -3.3329999446868896, -3.7202000617980957, -4.115600109100342, -4.160900115966797, -4.465400218963623, -4.901500225067139, -4.939899921417236, -4.957399845123291, -5.474899768829346, -5.5528998374938965, -5.68720006942749, -5.8155999183654785, -6.0605998039245605, -6.1265997886657715, -4.213200092315674, -4.4720001220703125, -7.054100036621094, -3.3631999492645264, -3.0422000885009766, -7.202600002288818, -7.410299777984619, -7.475200176239014, -4.4618000984191895, -2.655100107192993, -4.258800029754639, -4.325500011444092, -6.543000221252441, -4.478000164031982, -4.107699871063232, -4.729000091552734, -4.637700080871582, -4.410600185394287, -3.9453001022338867, -4.8755998611450195, -5.4842000007629395, -5.324999809265137, -5.161799907684326, -1.8837000131607056, -2.9458000659942627, -3.1048998832702637, -3.330699920654297, -3.6389999389648438, -4.1666998863220215, -4.177000045776367, -4.228400230407715, -4.241000175476074, -4.276899814605713, -4.424200057983398, -4.425600051879883, -4.750899791717529, -4.792500019073486, -4.83459997177124, -4.903500080108643, -4.9710001945495605, -4.991499900817871, -5.223999977111816, -5.40880012512207, -5.417799949645996, -5.623499870300293, -5.673399925231934, -2.2708001136779785, -5.807300090789795, -5.839099884033203, -5.949399948120117, -5.994500160217285, -6.195799827575684, -6.247399806976318, -2.826900005340576, -4.440199851989746, -3.788800001144409, -4.558700084686279, -3.8661000728607178, -4.475299835205078, -4.122099876403809, -5.226099967956543, -4.94189977645874, -5.178400039672852, -5.086699962615967, -2.0969998836517334, -2.632200002670288, -2.8080999851226807, -2.841900110244751, -2.9574999809265137, -3.2065000534057617, -3.275899887084961, -3.2964000701904297, -3.664400100708008, -4.023499965667725, -4.183899879455566, -4.474800109863281, -4.619100093841553, -4.778800010681152, -4.787199974060059, -4.802299976348877, -5.014400005340576, -5.053199768066406, -5.077199935913086, -5.092199802398682, -5.1178998947143555, -5.352799892425537, -5.830999851226807, -5.911399841308594, -6.520500183105469, -6.71619987487793, -7.251999855041504, -3.3162999153137207, -2.6080000400543213, -9.621600151062012, -3.6796000003814697, -4.884399890899658, -6.156899929046631, -6.087800025939941, -2.4370999336242676, -2.482300043106079, -2.538599967956543, -2.790800094604492, -2.9409000873565674, -3.199899911880493, -3.277400016784668, -3.3828999996185303, -3.6429998874664307, -3.9173998832702637, -4.005300045013428, -4.013199806213379, -4.045100212097168, -4.088799953460693, -4.104499816894531, -4.345200061798096, -4.372600078582764, -4.414599895477295, -4.4704999923706055, -4.596799850463867, -4.608799934387207, -5.153600215911865, -5.3302001953125, -5.442399978637695, -5.5046000480651855, -5.584799766540527, -5.709700107574463, -5.918700218200684, -6.071800231933594, -6.142099857330322, -5.199699878692627, -2.09060001373291, -2.2046000957489014, -2.9149999618530273, -2.99429988861084, -3.0416998863220215, -3.168800115585327, -3.3601999282836914, -3.4244000911712646, -3.6280999183654785, -3.9001998901367188, -4.067500114440918, -4.183499813079834, -4.21619987487793, -4.222799777984619, -4.2778000831604, -4.581699848175049, -4.745999813079834, -4.8171000480651855, -4.92140007019043, -5.089399814605713, -5.190199851989746, -5.318699836730957, -5.38670015335083, -5.683599948883057, -4.647600173950195, -11.750499725341797, -11.750499725341797, -11.75059986114502, -11.75059986114502, -11.750699996948242, -2.322499990463257, -2.5673000812530518, -2.8264999389648438, -3.073699951171875, -3.3914999961853027, -3.555999994277954, -3.5806000232696533, -3.6298999786376953, -3.6651999950408936, -3.710900068283081, -3.8696999549865723, -4.25600004196167, -4.427700042724609, -4.809100151062012, -4.900300025939941, -4.909800052642822, -4.973999977111816, -5.2378997802734375, -5.771900177001953, -5.786499977111816, -5.7866997718811035, -5.812699794769287, -6.024099826812744, -6.078400135040283, -5.753799915313721, -11.388500213623047, -11.388500213623047, -11.388500213623047, -11.38860034942627, -11.38860034942627, -11.38860034942627, -11.388500213623047, -2.435699939727783, -2.632499933242798, -2.6417999267578125, -2.9377999305725098, -3.326200008392334, -3.386699914932251, -3.424499988555908, -3.6419999599456787, -3.6466000080108643, -4.311800003051758, -4.374300003051758, -4.886600017547607, -4.973400115966797, -5.012599945068359, -5.029699802398682, -5.061100006103516, -5.203800201416016, -5.259099960327148, -5.646200180053711, -5.911399841308594, -6.249100208282471, -4.349400043487549, -6.213600158691406, -11.351099967956543, -11.351200103759766, -11.351200103759766, -11.351200103759766, -11.351300239562988, -11.351200103759766, -11.351300239562988, -11.351200103759766, -11.351200103759766, -11.351200103759766, -2.1991000175476074, -2.7042999267578125, -3.0408999919891357, -3.570199966430664, -3.8661999702453613, -3.9017999172210693, -3.9428999423980713, -4.104100227355957, -5.218599796295166, -5.318900108337402, -5.57450008392334, -5.700699806213379, -5.729000091552734, -7.022500038146973, -11.02649974822998, -11.02649974822998, -11.02649974822998, -11.026599884033203, -11.026599884033203, -11.026599884033203, -11.026599884033203, -11.026599884033203, -11.026599884033203, -11.026599884033203, -11.026599884033203, -11.026599884033203, -11.026599884033203, -11.026599884033203, -11.026599884033203, -11.026599884033203, -11.026599884033203, -11.026599884033203, -11.026599884033203, -11.026599884033203], \"loglift\": [30.0, 29.0, 28.0, 27.0, 26.0, 25.0, 24.0, 23.0, 22.0, 21.0, 20.0, 19.0, 18.0, 17.0, 16.0, 15.0, 14.0, 13.0, 12.0, 11.0, 10.0, 9.0, 8.0, 7.0, 6.0, 5.0, 4.0, 3.0, 2.0, 1.0, 1.2698999643325806, 1.2698999643325806, 1.2696000337600708, 1.2694000005722046, 1.2694000005722046, 1.2691999673843384, 1.2691999673843384, 1.2690999507904053, 1.2690000534057617, 1.2689000368118286, 1.2689000368118286, 1.2689000368118286, 1.2689000368118286, 1.2687000036239624, 1.2685999870300293, 1.2684999704360962, 1.2684999704360962, 1.268399953842163, 1.268399953842163, 1.268399953842163, 1.2683000564575195, 1.2681000232696533, 1.2680000066757202, 1.267799973487854, 1.267699956893921, 1.267699956893921, 1.267699956893921, 1.267699956893921, 1.2676000595092773, 1.2675000429153442, 1.2561999559402466, 1.2575000524520874, 1.254699945449829, 1.2345999479293823, 1.2541999816894531, 1.248900055885315, 1.2582999467849731, 1.2180999517440796, 1.2067999839782715, 1.2414000034332275, 1.184999942779541, 1.2067999839782715, 1.0755000114440918, 1.1756000518798828, 1.1547000408172607, 1.215000033378601, 1.0908000469207764, 1.0532000064849854, 0.9427000284194946, 0.9966999888420105, 1.1446000337600708, 1.1009000539779663, 0.8891000151634216, 0.9711999893188477, 1.004699945449829, 0.9976999759674072, 0.8592000007629395, 0.9800000190734863, 1.013200044631958, 0.6987000107765198, 0.5162000060081482, 0.47940000891685486, 0.9297000169754028, -0.1835000067949295, 1.7058000564575195, 1.7057000398635864, 1.7056000232696533, 1.7056000232696533, 1.7055000066757202, 1.705199956893921, 1.7050000429153442, 1.7050000429153442, 1.704800009727478, 1.704699993133545, 1.704699993133545, 1.704699993133545, 1.704699993133545, 1.7044999599456787, 1.7044999599456787, 1.7043999433517456, 1.7043999433517456, 1.7043999433517456, 1.7043999433517456, 1.704300045967102, 1.704300045967102, 1.704200029373169, 1.704200029373169, 1.7039999961853027, 1.7039999961853027, 1.7036000490188599, 1.7036000490188599, 1.7035000324249268, 1.7035000324249268, 1.7034000158309937, 1.7031999826431274, 1.6722999811172485, 1.5068000555038452, 1.5947999954223633, 1.4395999908447266, 1.5786000490188599, 1.5583000183105469, 1.5095000267028809, 1.3460999727249146, 1.3969999551773071, 1.462499976158142, 1.4009000062942505, 1.1013000011444092, 1.4056999683380127, 1.120300054550171, 0.8500999808311462, 1.149899959564209, 0.9822999835014343, 1.0814000368118286, 0.4296000003814697, 1.0175000429153442, 0.7688999772071838, -0.08720000088214874, 0.6049000024795532, 0.2750999927520752, 1.857800006866455, 1.857800006866455, 1.8575999736785889, 1.8575999736785889, 1.8574999570846558, 1.8573999404907227, 1.8573999404907227, 1.8573999404907227, 1.857300043106079, 1.857200026512146, 1.857200026512146, 1.8569999933242798, 1.8568999767303467, 1.8568999767303467, 1.8568999767303467, 1.8568999767303467, 1.8567999601364136, 1.8567999601364136, 1.8567999601364136, 1.8566999435424805, 1.8566999435424805, 1.8566999435424805, 1.8566999435424805, 1.8566999435424805, 1.8566999435424805, 1.8566999435424805, 1.8565000295639038, 1.8565000295639038, 1.8564000129699707, 1.8564000129699707, 1.8517999649047852, 1.8417999744415283, 1.8466999530792236, 1.8430999517440796, 1.8331999778747559, 1.8458000421524048, 1.847499966621399, 1.8214999437332153, 1.8463000059127808, 1.830399990081787, 1.843400001525879, 1.8317999839782715, 1.773300051689148, 1.666200041770935, 1.7311999797821045, 1.7691999673843384, 1.5443999767303467, 1.7446000576019287, 1.7537000179290771, 1.6187000274658203, 1.1864999532699585, 1.694000005722046, 1.621899962425232, 1.2696000337600708, 1.0708999633789062, 0.82669997215271, 1.3991999626159668, 1.6477999687194824, 1.0433000326156616, 1.2138999700546265, 0.3165999948978424, 0.1615999937057495, 0.6398000121116638, 0.2946000099182129, 2.510999917984009, 2.5107998847961426, 2.510699987411499, 2.5099000930786133, 2.5097999572753906, 2.509700059890747, 2.5095999240875244, 2.5092999935150146, 2.509000062942505, 2.5088000297546387, 2.5088000297546387, 2.508699893951416, 2.508699893951416, 2.508699893951416, 2.5085999965667725, 2.5083999633789062, 2.5083999633789062, 2.5083000659942627, 2.5083000659942627, 2.5083000659942627, 2.50819993019104, 2.50819993019104, 2.5081000328063965, 2.5081000328063965, 2.5081000328063965, 2.507999897003174, 2.507999897003174, 2.507999897003174, 2.5078999996185303, 2.5078999996185303, 2.4827001094818115, 2.4863998889923096, 2.387200117111206, 2.461199998855591, 2.3817999362945557, 2.4489998817443848, 2.403899908065796, 2.1714999675750732, 1.511299967765808, 1.3365999460220337, 0.9419000148773193, 1.7023999691009521, 1.6395000219345093, 1.0109000205993652, 1.4910999536514282, 1.3777999877929688, 1.9660999774932861, 1.8186999559402466, 1.9706000089645386, 1.4321999549865723, 1.2355999946594238, 2.8561999797821045, 2.8559000492095947, 2.855600118637085, 2.85509991645813, 2.8543999195098877, 2.854300022125244, 2.854300022125244, 2.854300022125244, 2.854300022125244, 2.8541998863220215, 2.854099988937378, 2.854099988937378, 2.8540000915527344, 2.8538999557495117, 2.8536999225616455, 2.853600025177002, 2.853300094604492, 2.8531999588012695, 2.8529999256134033, 2.8529999256134033, 2.852799892425537, 2.8526999950408936, 2.8526999950408936, 2.852400064468384, 2.852099895477295, 2.852099895477295, 2.8519999980926514, 2.8519999980926514, 2.851900100708008, 2.851799964904785, 2.8671998977661133, 2.8668999671936035, 2.8668999671936035, 2.8666999340057373, 2.8666999340057373, 2.8666000366210938, 2.8664000034332275, 2.866300106048584, 2.8661999702453613, 2.865999937057495, 2.865999937057495, 2.8659000396728516, 2.8659000396728516, 2.865799903869629, 2.8657000064849854, 2.8657000064849854, 2.865600109100342, 2.865299940109253, 2.8652000427246094, 2.8649001121520996, 2.864500045776367, 2.8643999099731445, 2.864300012588501, 2.8642001152038574, 2.8640999794006348, 2.8636999130249023, 2.8635001182556152, 2.8635001182556152, 2.863100051879883, 2.86299991607666, 2.7760000228881836, 2.595599889755249, 2.7202000617980957, 2.599600076675415, 2.3529999256134033, 2.401599884033203, 2.1054000854492188, 2.406100034713745, 2.274399995803833, 2.510699987411499, 2.3422999382019043, 1.3183000087738037, 0.7746000289916992, 2.9690001010894775, 2.9684998989105225, 2.9683001041412354, 2.9683001041412354, 2.968100070953369, 2.9679999351501465, 2.9677000045776367, 2.9677000045776367, 2.967600107192993, 2.967600107192993, 2.9672999382019043, 2.9672999382019043, 2.9672000408172607, 2.9672000408172607, 2.967099905014038, 2.9670000076293945, 2.9670000076293945, 2.9667999744415283, 2.9667999744415283, 2.9667999744415283, 2.9667000770568848, 2.9667000770568848, 2.9667000770568848, 2.966599941253662, 2.966599941253662, 2.966599941253662, 2.966599941253662, 2.966399908065796, 2.966099977493286, 2.9660000801086426, 2.9375998973846436, 2.937700033187866, 2.8178000450134277, 2.844399929046631, 2.641700029373169, 2.6735999584198, 2.6266000270843506, 2.3968000411987305, 2.8397998809814453, 2.819000005722046, 2.599400043487549, 2.2978999614715576, 2.3482000827789307, 1.8272000551223755, 1.6516000032424927, 2.3101000785827637, 2.0192999839782715, 3.849600076675415, 3.849100112915039, 3.848900079727173, 3.848599910736084, 3.848299980163574, 3.8480000495910645, 3.847399950027466, 3.84689998626709, 3.8466999530792236, 3.8461999893188477, 3.8452999591827393, 3.8452000617980957, 3.845099925994873, 3.8447999954223633, 3.844399929046631, 3.8422999382019043, 3.8417000770568848, 3.84089994430542, 3.8408000469207764, 3.84060001373291, 3.839600086212158, 3.838599920272827, 3.837899923324585, 3.836699962615967, 3.836400032043457, 3.8338000774383545, 3.831700086593628, 3.8308000564575195, 3.830199956893921, 3.8285999298095703, 3.788599967956543, 3.766700029373169, 3.2320001125335693, 3.3113999366760254, 3.0436999797821045, 3.331899881362915, 2.6057000160217285, 3.0202999114990234, 2.3636999130249023, 3.1380999088287354, 2.660799980163574, 2.0167999267578125, 3.1403000354766846, 2.289799928665161, 3.0416998863220215, 1.760200023651123, 2.285799980163574, 3.9245998859405518, 3.9245998859405518, 3.924299955368042, 3.9240000247955322, 3.923799991607666, 3.9235000610351562, 3.9228999614715576, 3.922800064086914, 3.9226999282836914, 3.921999931335449, 3.9214999675750732, 3.9203999042510986, 3.9196999073028564, 3.9191999435424805, 3.9191999435424805, 3.9170000553131104, 3.9158999919891357, 3.915600061416626, 3.9128000736236572, 3.911900043487549, 3.910900115966797, 3.9107000827789307, 3.9089999198913574, 3.9082999229431152, 3.9077999591827393, 3.9061999320983887, 3.9052000045776367, 3.9042999744415283, 3.902899980545044, 3.901900053024292, 3.865499973297119, 3.7014000415802, 3.797600030899048, 3.799499988555908, 3.5102999210357666, 3.2653000354766846, 3.3945000171661377, 3.7520999908447266, 3.196700096130371, 3.4428000450134277, 2.638700008392334, 2.5739998817443848, 2.5683000087738037, 2.8691000938415527, 2.482599973678589, 1.8509000539779663, 2.6803998947143555, 2.2730000019073486, 1.6095999479293823, 1.6682000160217285, 3.9479000568389893, 3.9477999210357666, 3.947700023651123, 3.947499990463257, 3.946500062942505, 3.9463000297546387, 3.946199893951416, 3.9460999965667725, 3.9460999965667725, 3.94569993019104, 3.94569993019104, 3.945199966430664, 3.944999933242798, 3.9444000720977783, 3.9440999031066895, 3.944000005722046, 3.9433000087738037, 3.9428999423980713, 3.942699909210205, 3.9426000118255615, 3.9423000812530518, 3.942199945449829, 3.9403998851776123, 3.9402999877929688, 3.9386000633239746, 3.9375998973846436, 3.9372000694274902, 3.9370999336242676, 3.937000036239624, 3.9367001056671143, 3.9367001056671143, 3.8194000720977783, 3.7839999198913574, 3.5539000034332275, 3.7623000144958496, 3.454200029373169, 3.4540998935699463, 3.4147000312805176, 2.9114999771118164, 3.3554999828338623, 2.934799909591675, 2.8466999530792236, 0.8328999876976013, 1.8071999549865723, 1.7975000143051147, 4.251100063323975, 4.2505998611450195, 4.249000072479248, 4.248899936676025, 4.248799800872803, 4.248700141906738, 4.248499870300293, 4.2484002113342285, 4.2480998039245605, 4.248000144958496, 4.248000144958496, 4.248000144958496, 4.247600078582764, 4.247600078582764, 4.247099876403809, 4.2469000816345215, 4.246699810028076, 4.246500015258789, 4.246200084686279, 4.245500087738037, 4.244900226593018, 4.24459981918335, 4.2444000244140625, 4.2444000244140625, 4.243800163269043, 4.243500232696533, 4.243299961090088, 4.243100166320801, 4.242499828338623, 4.242300033569336, 3.627700090408325, 3.5964999198913574, 3.1480000019073486, 3.5113000869750977, 2.918100118637085, 1.406000018119812, 4.462500095367432, 4.4618000984191895, 4.461400032043457, 4.461299896240234, 4.460100173950195, 4.459400177001953, 4.458600044250488, 4.458600044250488, 4.457900047302246, 4.457200050354004, 4.456699848175049, 4.456600189208984, 4.456299781799316, 4.456299781799316, 4.455999851226807, 4.455900192260742, 4.4552998542785645, 4.454800128936768, 4.453800201416016, 4.45359992980957, 4.453100204467773, 4.452000141143799, 4.452000141143799, 4.450399875640869, 4.449399948120117, 4.44920015335083, 4.445199966430664, 4.441699981689453, 4.43779993057251, 4.436200141906738, 3.504199981689453, 3.492300033569336, 2.9274001121520996, 4.566199779510498, 4.565999984741211, 4.564799785614014, 4.5640997886657715, 4.562900066375732, 4.5609002113342285, 4.5605998039245605, 4.5584001541137695, 4.553800106048584, 4.553299903869629, 4.553100109100342, 4.543799877166748, 4.541999816894531, 4.538400173187256, 4.534599781036377, 4.5258002281188965, 4.5229997634887695, 4.51170015335083, 4.504300117492676, 4.45959997177124, 4.45389986038208, 4.448999881744385, 4.443399906158447, 4.416900157928467, 4.407599925994873, 4.373700141906738, 4.35260009765625, 4.069799900054932, 3.898200035095215, 3.6809000968933105, 3.319499969482422, 3.229599952697754, 3.210900068283081, 3.049499988555908, 2.7892000675201416, 2.096400022506714, 2.858599901199341, 3.4581000804901123, 2.5506999492645264, 1.6152000427246094, 4.633200168609619, 4.631899833679199, 4.631499767303467, 4.630899906158447, 4.629899978637695, 4.627099990844727, 4.626999855041504, 4.626699924468994, 4.6265997886657715, 4.626299858093262, 4.625100135803223, 4.625100135803223, 4.621799945831299, 4.621300220489502, 4.620699882507324, 4.619800090789795, 4.618800163269043, 4.618500232696533, 4.614500045776367, 4.610599994659424, 4.610400199890137, 4.605199813842773, 4.603700160980225, 4.6020002365112305, 4.5995001792907715, 4.598400115966797, 4.594299793243408, 4.59250020980835, 4.583499908447266, 4.580900192260742, 2.717400074005127, 3.5423998832702637, 3.1236000061035156, 3.364500045776367, 2.435800075531006, 3.1047000885009766, 2.63700008392334, 3.550600051879883, 1.8870999813079834, 2.450500011444092, 0.7408999800682068, 4.727399826049805, 4.7266998291015625, 4.726399898529053, 4.726399898529053, 4.726099967956543, 4.725500106811523, 4.725299835205078, 4.725200176239014, 4.723800182342529, 4.72189998626709, 4.720799922943115, 4.718200206756592, 4.716700077056885, 4.714700222015381, 4.714600086212158, 4.714399814605713, 4.711100101470947, 4.710400104522705, 4.710000038146973, 4.709700107574463, 4.709199905395508, 4.70419979095459, 4.689700126647949, 4.686600208282471, 4.6528000831604, 4.637199878692627, 4.577400207519531, 4.485199928283691, 3.881999969482422, 3.719399929046631, 3.4098000526428223, 3.4217000007629395, 2.8417999744415283, 1.0947999954223633, 4.964000225067139, 4.963900089263916, 4.963799953460693, 4.9633002281188965, 4.962900161743164, 4.962100028991699, 4.9618000984191895, 4.961400032043457, 4.960100173950195, 4.958399772644043, 4.957699775695801, 4.957600116729736, 4.957399845123291, 4.956999778747559, 4.9567999839782715, 4.954500198364258, 4.954100131988525, 4.953700065612793, 4.953000068664551, 4.951300144195557, 4.951099872589111, 4.9405999183654785, 4.9359002113342285, 4.932400226593018, 4.930300235748291, 4.9274001121521, 4.922399997711182, 4.912600040435791, 4.904099941253662, 4.899799823760986, 4.345099925994873, 5.402400016784668, 5.402200222015381, 5.400100231170654, 5.399700164794922, 5.399499893188477, 5.398799896240234, 5.39769983291626, 5.397299766540527, 5.395699977874756, 5.39300012588501, 5.390999794006348, 5.3892998695373535, 5.388800144195557, 5.388700008392334, 5.387899875640869, 5.3821001052856445, 5.378200054168701, 5.376299858093262, 5.373199939727783, 5.367599964141846, 5.363800048828125, 5.358399868011475, 5.355299949645996, 5.338900089263916, 3.422600030899048, 1.9974000453948975, 1.9973000288009644, 1.9973000288009644, 1.9973000288009644, 1.9972000122070312, 5.582399845123291, 5.581600189208984, 5.58050012588501, 5.57919979095459, 5.577000141143799, 5.5756001472473145, 5.575399875640869, 5.574900150299072, 5.57450008392334, 5.573999881744385, 5.5721001625061035, 5.565999984741211, 5.5625, 5.55210018157959, 5.548999786376953, 5.548699855804443, 5.546299934387207, 5.534900188446045, 5.500899791717529, 5.49970006942749, 5.49970006942749, 5.497499942779541, 5.478000164031982, 5.472300052642822, 2.4500999450683594, 2.3594000339508057, 2.359299898147583, 2.359299898147583, 2.359299898147583, 2.359299898147583, 2.3592000007629395, 2.3592000007629395, 5.697000026702881, 5.696300029754639, 5.696199893951416, 5.694799900054932, 5.691999912261963, 5.691500186920166, 5.691100120544434, 5.688899993896484, 5.688799858093262, 5.677800178527832, 5.676400184631348, 5.6605000495910645, 5.6570000648498535, 5.655300140380859, 5.6545000076293945, 5.65310001373291, 5.645999908447266, 5.64300012588501, 5.6168999671936035, 5.592800140380859, 5.552599906921387, 3.645699977874756, 2.762700080871582, 2.3966000080108643, 2.3966000080108643, 2.3966000080108643, 2.3966000080108643, 2.3966000080108643, 2.3966000080108643, 2.3966000080108643, 2.3966000080108643, 2.3965001106262207, 2.3965001106262207, 6.586999893188477, 6.582499980926514, 6.578000068664551, 6.566999912261963, 6.5578999519348145, 6.556700229644775, 6.555099964141846, 6.548500061035156, 6.461599826812744, 6.448599815368652, 6.409999847412109, 6.387700080871582, 6.382400035858154, 5.974100112915039, 2.721400022506714, 2.721400022506714, 2.721299886703491, 2.721299886703491, 2.721299886703491, 2.7211999893188477, 2.7211999893188477, 2.7211999893188477, 2.7211999893188477, 2.7211999893188477, 2.7211999893188477, 2.7211999893188477, 2.7211999893188477, 2.7211999893188477, 2.7211999893188477, 2.7211999893188477, 2.7211999893188477, 2.7211999893188477, 2.7211999893188477, 2.7211999893188477]}, \"token.table\": {\"Topic\": [1, 15, 17, 7, 2, 7, 9, 17, 19, 2, 3, 4, 1, 11, 12, 1, 4, 6, 7, 13, 1, 2, 3, 4, 6, 7, 9, 12, 18, 13, 1, 2, 8, 2, 6, 8, 6, 6, 10, 18, 2, 3, 10, 1, 8, 4, 10, 13, 10, 1, 2, 16, 16, 4, 10, 4, 9, 5, 20, 2, 4, 6, 9, 7, 5, 15, 1, 2, 1, 3, 6, 9, 1, 2, 16, 1, 8, 8, 2, 20, 2, 4, 6, 9, 15, 7, 4, 14, 6, 10, 8, 8, 13, 16, 11, 2, 6, 7, 15, 2, 7, 14, 1, 2, 3, 4, 6, 7, 1, 2, 6, 19, 14, 5, 6, 8, 3, 4, 10, 13, 18, 1, 3, 4, 7, 1, 3, 1, 8, 19, 2, 1, 10, 15, 8, 8, 8, 4, 10, 10, 1, 8, 10, 8, 5, 8, 4, 1, 3, 10, 14, 13, 4, 9, 9, 13, 9, 5, 1, 2, 7, 7, 3, 15, 9, 9, 19, 19, 19, 2, 6, 1, 3, 11, 12, 11, 13, 15, 4, 9, 8, 6, 17, 12, 13, 12, 16, 8, 4, 9, 3, 6, 1, 2, 3, 4, 7, 1, 4, 10, 3, 13, 4, 3, 10, 5, 7, 12, 1, 7, 12, 12, 17, 4, 10, 4, 14, 16, 19, 7, 12, 1, 2, 5, 2, 7, 4, 6, 11, 15, 5, 1, 14, 19, 1, 13, 20, 17, 4, 8, 18, 11, 15, 14, 16, 1, 1, 3, 11, 15, 19, 10, 17, 2, 12, 16, 2, 3, 5, 1, 12, 4, 9, 6, 6, 1, 4, 15, 5, 12, 9, 1, 11, 16, 2, 12, 3, 20, 12, 8, 2, 9, 17, 4, 1, 2, 3, 5, 7, 14, 5, 8, 12, 12, 12, 19, 10, 15, 1, 3, 4, 19, 8, 8, 1, 7, 8, 19, 5, 11, 9, 11, 1, 5, 16, 16, 7, 5, 3, 11, 11, 8, 4, 3, 14, 9, 15, 2, 6, 15, 9, 6, 1, 1, 4, 11, 12, 3, 9, 14, 1, 2, 3, 9, 5, 14, 10, 13, 4, 1, 2, 3, 14, 16, 11, 5, 14, 1, 2, 3, 4, 7, 8, 9, 9, 1, 3, 4, 10, 3, 9, 5, 4, 9, 7, 9, 13, 5, 9, 10, 8, 8, 1, 2, 5, 10, 1, 2, 3, 4, 17, 13, 17, 1, 2, 18, 17, 1, 2, 3, 14, 4, 10, 3, 6, 16, 10, 12, 3, 1, 2, 4, 16, 13, 1, 1, 6, 1, 2, 3, 17, 5, 2, 3, 6, 5, 16, 7, 3, 6, 13, 19, 2, 10, 13, 2, 7, 4, 5, 1, 12, 15, 7, 9, 18, 12, 16, 18, 19, 2, 6, 7, 9, 3, 1, 8, 1, 4, 2, 9, 2, 4, 9, 10, 7, 6, 15, 5, 16, 2, 16, 7, 16, 10, 11, 10, 1, 4, 8, 10, 3, 18, 4, 2, 1, 10, 13, 13, 1, 2, 1, 9, 6, 3, 10, 8, 16, 3, 6, 8, 1, 2, 3, 10, 14, 11, 4, 1, 3, 13, 8, 14, 14, 9, 8, 4, 14, 1, 3, 4, 1, 2, 3, 6, 17, 19, 1, 10, 2, 2, 18, 2, 9, 6, 8, 1, 2, 3, 1, 2, 14, 1, 3, 6, 11, 6, 2, 9, 7, 3, 1, 2, 3, 4, 1, 10, 6, 1, 3, 4, 7, 9, 9, 10, 4, 15, 1, 2, 3, 4, 7, 9, 1, 4, 15, 17, 17, 7, 1, 7, 10, 6, 9, 2, 4, 6, 15, 14, 5, 4, 10, 1, 4, 11, 9, 15, 16, 16, 3, 6, 11, 18, 18, 20, 20, 19, 1, 2, 3, 16, 4, 10, 10, 1, 3, 4, 7, 8, 1, 7, 4, 1, 18, 3, 2, 3, 4, 6, 2, 2, 1, 2, 3, 4, 7, 2, 1, 2, 14, 2, 2, 19, 2, 3, 4, 7, 8, 15, 19, 10, 7, 12, 2, 3, 4, 7, 9, 9, 9, 1, 10, 10, 2, 7, 1, 3, 5, 14, 13, 19, 20, 1, 7, 12, 4, 11, 14, 11, 2, 3, 4, 8, 12, 5, 6, 18, 6, 3, 9, 12, 1, 2, 3, 4, 5, 7, 8, 16, 7, 2, 17, 3, 6, 8, 10, 14, 14, 14, 1, 4, 10, 18, 6, 7, 14, 1, 4, 16, 14, 2, 17, 1, 2, 14, 13, 13, 11, 4, 14, 5, 1, 3, 9, 4, 13, 19, 1, 2, 9, 3, 7, 17, 13, 1, 7, 4, 2, 16, 4, 1, 3, 6, 4, 5, 6, 9, 11, 12, 3, 11, 7, 4, 1, 4, 8, 4, 7, 4, 11, 17, 3, 3, 13, 3, 15, 1, 2, 3, 4, 8, 16, 1, 8, 11, 10, 4, 6, 20, 12, 1, 1, 1, 8, 7, 16, 3, 5, 8, 18, 8, 4, 10, 16, 1, 2, 3, 2, 10, 7, 10, 11, 2, 3, 11, 6, 1, 15, 3, 6, 14, 9, 7, 10, 1, 11, 13, 2, 1, 2, 4, 3, 10, 11, 9, 4, 16, 18, 20, 2, 6, 13, 6, 10, 1, 2, 14, 2, 11, 5, 3, 1, 18, 9, 18, 11, 11, 11, 6, 14, 6, 8, 15, 14, 1, 2, 3, 6, 14, 4, 7, 4, 4, 1, 2, 3, 1, 2, 6, 2, 2, 9, 1, 3, 9, 20, 1, 3, 6, 7, 9, 1, 2, 3, 7, 15, 3, 20, 10, 13, 11, 7, 15, 2, 12, 11, 10, 15, 2, 3, 6, 10, 12, 2, 3, 8, 9, 10, 11, 15, 3, 7, 5, 15, 1, 3, 13, 15, 3, 4, 6, 9, 4, 10, 3, 13, 10, 1, 12, 17, 9, 9, 3, 11, 2, 17, 7, 14, 2, 9, 12, 8, 1, 3, 4, 6, 7, 18, 2, 19, 15, 4, 6, 11, 1, 2, 3, 3, 8, 10, 13, 4, 15, 4, 14, 10, 4, 11, 2, 4, 11, 1, 2, 12, 4, 10, 6, 20, 4, 8, 9, 2, 12, 18, 18, 1, 2, 1, 16, 6, 8, 1, 13, 14, 17, 3, 13, 14, 1, 2, 3, 6, 15, 2, 6, 14, 10, 14, 17, 18, 1, 17, 17, 4, 13, 13, 8, 10, 1, 4, 8, 9, 1, 1, 2, 6, 10, 10, 13, 17, 3, 20, 9, 2, 3, 4, 6, 7, 4, 6, 7, 3, 9, 11, 9, 15, 20, 2, 12, 15, 1, 13, 7, 10, 19, 14, 14, 1, 2, 10, 18, 2, 13, 12, 1, 2, 3, 10, 13, 13, 7, 1, 2, 3, 3, 2, 3, 15, 16, 18, 4, 6, 13, 6, 16, 9, 7, 10, 1, 10, 2, 1, 4, 6, 8, 2, 3, 6, 1, 10, 4, 19, 18, 1, 2, 3, 4, 1, 2, 8, 1, 1, 3, 14, 13, 1], \"Freq\": [0.9991258978843689, 0.9142417311668396, 0.9433971047401428, 0.9983302354812622, 0.4078807532787323, 0.5105952620506287, 0.08038526028394699, 0.9502100348472595, 0.9449942708015442, 0.9985231161117554, 0.9969986081123352, 0.9973222017288208, 0.9994503259658813, 0.9962876439094543, 0.9818354845046997, 0.10934126377105713, 0.4451751708984375, 0.2733531594276428, 0.1711711436510086, 0.879990816116333, 0.12924990057945251, 0.17728663980960846, 0.5106062293052673, 0.0067389658652246, 0.12337490916252136, 0.05252937227487564, 0.00034558799234218895, 0.9861725568771362, 0.9966889023780823, 0.9633356928825378, 0.2868713140487671, 0.502956211566925, 0.20956508815288544, 0.9972930550575256, 0.9966822266578674, 0.9884840846061707, 0.9990171790122986, 0.9981211423873901, 0.9946441054344177, 0.9707879424095154, 0.08575524389743805, 0.8482127785682678, 0.06537776440382004, 0.41564974188804626, 0.5830804705619812, 0.21380238234996796, 0.27124181389808655, 0.5137639045715332, 0.9959515929222107, 0.18042784929275513, 0.8194268345832825, 0.9960671663284302, 0.9975523352622986, 0.38917362689971924, 0.6097807288169861, 0.3371208608150482, 0.660194993019104, 0.9964850544929504, 0.8833226561546326, 0.1813579797744751, 0.05265231803059578, 0.28341248631477356, 0.48232123255729675, 0.9983369708061218, 0.9999714493751526, 0.9927552342414856, 0.9719612002372742, 0.02777031995356083, 0.003693342674523592, 0.7866819500923157, 0.2074427455663681, 0.001846671337261796, 0.453502893447876, 0.5462926030158997, 0.9981285929679871, 0.7733668684959412, 0.22618833184242249, 0.994089663028717, 0.998784601688385, 0.8230704069137573, 0.47178739309310913, 0.01916460134088993, 0.02480124868452549, 0.05467547848820686, 0.42894884943962097, 0.9955111742019653, 0.9987189769744873, 0.9948177337646484, 0.9961564540863037, 0.9956656694412231, 0.999281644821167, 0.9179626703262329, 0.07363336533308029, 0.9610908627510071, 0.9949225783348083, 0.1524284929037094, 0.10367883741855621, 0.7436038255691528, 0.9964074492454529, 0.9993947744369507, 0.9972182512283325, 0.9882892370223999, 0.18817022442817688, 0.5022313594818115, 0.22746950387954712, 0.06394457072019577, 0.007660027127712965, 0.010324384085834026, 0.8911247849464417, 0.043788518756628036, 0.0648297592997551, 0.9888594150543213, 0.9861184358596802, 0.9998047351837158, 0.9990962743759155, 0.9898173809051514, 0.5260980129241943, 0.17492757737636566, 0.03551161289215088, 0.26304900646209717, 0.9424662590026855, 0.07815895229578018, 0.5547298192977905, 0.30899280309677124, 0.05795684829354286, 0.2098499983549118, 0.7894356846809387, 0.9982219934463501, 0.9977747797966003, 0.9703109264373779, 0.9980873465538025, 0.6453882455825806, 0.3537888526916504, 0.9992837905883789, 0.9976497292518616, 0.9967557191848755, 0.9985661506652832, 0.9752680063247681, 0.02199852652847767, 0.9951301217079163, 0.5332643985748291, 0.4462347626686096, 0.019955839961767197, 0.9880985617637634, 0.998388409614563, 0.9969509840011597, 0.9970571398735046, 0.013439823873341084, 0.8920682668685913, 0.08147893100976944, 0.011759845539927483, 0.8566069006919861, 0.05728605017066002, 0.9411280155181885, 0.9992014169692993, 0.9686720967292786, 0.9991776347160339, 0.9945577383041382, 0.9863187074661255, 0.01345080230385065, 0.9967876672744751, 0.997401237487793, 0.9890039563179016, 0.009853091090917587, 0.9945032596588135, 0.9758425951004028, 0.9261787533760071, 0.9718579053878784, 0.9848634004592896, 0.23430168628692627, 0.7647960782051086, 0.9978678822517395, 0.9972758889198303, 0.9899508357048035, 0.9936442375183105, 0.992662250995636, 0.867341935634613, 0.9599673748016357, 0.41109439730644226, 0.5876095294952393, 0.9934147596359253, 0.9967175126075745, 0.9851778149604797, 0.9950196743011475, 0.9955939054489136, 0.454432874917984, 0.5381441712379456, 0.9905765652656555, 0.11053401231765747, 0.8769031763076782, 0.9929207563400269, 0.005678468383848667, 0.7607967853546143, 0.23445044457912445, 0.0008119496051222086, 0.0036537733394652605, 0.997451663017273, 0.2095460444688797, 0.5826948881149292, 0.207304909825325, 0.9872153997421265, 0.011205622926354408, 0.9953828454017639, 0.9877091646194458, 0.011252382770180702, 0.9972724318504333, 0.9962195158004761, 0.9965807199478149, 0.47278526425361633, 0.5168098211288452, 0.008613497018814087, 0.9894006848335266, 0.9836552739143372, 0.9714282751083374, 0.026078611612319946, 0.9978373050689697, 0.9903034567832947, 0.9618926644325256, 0.9716602563858032, 0.9976612329483032, 0.9911049008369446, 0.21425683796405792, 0.7841399908065796, 0.0016019202303141356, 0.11965673416852951, 0.8774827122688293, 0.17095336318016052, 0.7000432014465332, 0.12875601649284363, 0.9899057745933533, 0.9976493716239929, 0.9993377923965454, 0.9920762777328491, 0.9888300895690918, 0.38633012771606445, 0.6096218228340149, 0.3773851990699768, 0.9856381416320801, 0.40115535259246826, 0.596589982509613, 0.9872774481773376, 0.9962056875228882, 0.9979918599128723, 0.9899858236312866, 0.9754412770271301, 0.9983416199684143, 0.02577144466340542, 0.9739458560943604, 0.9966555833816528, 0.9960448145866394, 0.956168532371521, 0.9871455430984497, 0.9947251677513123, 0.998652994632721, 0.9984163641929626, 0.9977039098739624, 0.9986482262611389, 0.9975317120552063, 0.9979709386825562, 0.9974355697631836, 0.9840689897537231, 0.6507468819618225, 0.34697210788726807, 0.9997758269309998, 0.9990065097808838, 0.04709795489907265, 0.9516557455062866, 0.9743653535842896, 0.9972204566001892, 0.9898195266723633, 0.9901179075241089, 0.4625048339366913, 0.5354551076889038, 0.9594377279281616, 0.9970042705535889, 0.9884791374206543, 0.9988316893577576, 0.760940670967102, 0.9942412972450256, 0.9870951175689697, 0.8078209161758423, 0.19155409932136536, 0.9618670344352722, 0.9985911846160889, 0.2203211784362793, 0.10278482735157013, 0.6314604878425598, 0.003806845284998417, 0.03568917512893677, 0.005710267927497625, 0.9983553290367126, 0.9932757616043091, 0.9923791885375977, 0.998307466506958, 0.9986596703529358, 0.914016842842102, 0.995397686958313, 0.8222041726112366, 0.9875941276550293, 0.0076203253120183945, 0.004572195000946522, 0.9333412647247314, 0.9993327260017395, 0.9947665333747864, 0.30116888880729675, 0.15905889868736267, 0.5391053557395935, 0.9900326728820801, 0.997322678565979, 0.9907916188240051, 0.882652759552002, 0.112337626516819, 0.9988558888435364, 0.9973309636116028, 0.9838614463806152, 0.9920874834060669, 0.9970964193344116, 0.997822105884552, 0.9992957711219788, 0.9949250221252441, 0.9932147264480591, 0.999302864074707, 0.9971355199813843, 0.9980665445327759, 0.9978331327438354, 0.9971223473548889, 0.5325589776039124, 0.1395948827266693, 0.5912253856658936, 0.2678990066051483, 0.9833940863609314, 0.9981127381324768, 0.9987502694129944, 0.5581905245780945, 0.1758461445569992, 0.26296257972717285, 0.9996911883354187, 0.6443989872932434, 0.0175517238676548, 0.33599013090133667, 0.3455589711666107, 0.4850964844226837, 0.14952324330806732, 0.019445905461907387, 0.9955241084098816, 0.9932349324226379, 0.10892122983932495, 0.8882449269294739, 0.996391773223877, 0.23424775898456573, 0.014822129160165787, 0.7303531169891357, 0.020344099029898643, 0.99044269323349, 0.9945769309997559, 0.9953447580337524, 0.9829047918319702, 0.07560361921787262, 0.19059355556964874, 0.012223339639604092, 0.03214285522699356, 0.5636317729949951, 0.12359154969453812, 0.0018108651274815202, 0.9962580800056458, 0.010158522054553032, 0.4744029641151428, 0.15237782895565033, 0.362659215927124, 0.9982707500457764, 0.9975677132606506, 0.9972787499427795, 0.19936776161193848, 0.7988001704216003, 0.996146023273468, 0.9837023615837097, 0.9992035627365112, 0.9967343211174011, 0.984241247177124, 0.9941458702087402, 0.9724046587944031, 0.9898763298988342, 0.3019859194755554, 0.6978639960289001, 0.9981582760810852, 0.992237389087677, 0.7669969797134399, 0.07602667808532715, 0.12463389337062836, 0.032404813915491104, 0.9818337559700012, 0.9796763062477112, 0.9528585076332092, 0.938714861869812, 0.06119319796562195, 0.997591495513916, 0.9974370002746582, 0.5646833181381226, 0.4249887466430664, 0.006242391187697649, 0.003880405332893133, 0.8830105662345886, 0.11606094241142273, 0.9987127184867859, 0.997796893119812, 0.9942553639411926, 0.9969693422317505, 0.966705322265625, 0.9977577924728394, 0.4101504385471344, 0.267647385597229, 0.3217420279979706, 0.9946860074996948, 0.9994908571243286, 0.9977810382843018, 0.9993719458580017, 0.997787594795227, 0.4262005090713501, 0.5736191868782043, 0.9984365701675415, 0.9923427700996399, 0.9973269104957581, 0.8628610968589783, 0.0256893839687109, 0.11106880754232407, 0.9979396462440491, 0.992372453212738, 0.9969731569290161, 0.8804461359977722, 0.11930163949728012, 0.9970787763595581, 0.9942707419395447, 0.7886796593666077, 0.04126812145113945, 0.1685114949941635, 0.9997250437736511, 0.9962736964225769, 0.9974086880683899, 0.9968528747558594, 0.998270571231842, 0.9920229911804199, 0.9969673752784729, 0.9967209100723267, 0.9990394115447998, 0.9817447662353516, 0.994943380355835, 0.9578033685684204, 0.9391369819641113, 0.9293987154960632, 0.013928749598562717, 0.0012662499211728573, 0.8589395880699158, 0.1257808357477188, 0.9986497759819031, 0.5070408582687378, 0.4914993941783905, 0.09999632835388184, 0.898327648639679, 0.7629280686378479, 0.2362319529056549, 0.36286845803260803, 0.3604685366153717, 0.27599120140075684, 0.9948760271072388, 0.9982967972755432, 0.9979917407035828, 0.9883590936660767, 0.9969255924224854, 0.950576663017273, 0.9991254210472107, 0.9972666501998901, 0.9969651103019714, 0.9987757802009583, 0.9958529472351074, 0.9870423674583435, 0.9977138638496399, 0.12105514109134674, 0.8785436153411865, 0.4459911286830902, 0.5516762137413025, 0.9979084134101868, 0.8870019316673279, 0.9996612071990967, 0.9967663288116455, 0.2741459608078003, 0.6729719638824463, 0.052575934678316116, 0.9842295050621033, 0.7208400368690491, 0.27911901473999023, 0.9978023171424866, 0.9883407950401306, 0.9973422884941101, 0.4111979007720947, 0.5850875377655029, 0.9425010681152344, 0.05344078317284584, 0.9834508895874023, 0.01568610966205597, 0.9749826788902283, 0.3324931859970093, 0.1751193106174469, 0.378257691860199, 0.0023349241819232702, 0.11114238947629929, 0.9979510307312012, 0.9994699358940125, 0.07067365944385529, 0.9146003127098083, 0.014134732075035572, 0.9847710132598877, 0.9866881966590881, 0.9804355502128601, 0.9876834154129028, 0.9900601506233215, 0.9978934526443481, 0.9627498984336853, 0.0012711994349956512, 0.963569164276123, 0.03495798259973526, 0.9388054609298706, 0.06061578541994095, 0.9982956051826477, 0.996500551700592, 0.9965392351150513, 0.9558995962142944, 0.9792936444282532, 0.020177753642201424, 0.9987944960594177, 0.9999555349349976, 0.995144784450531, 0.7417415976524353, 0.25708460807800293, 0.9956182837486267, 0.9964220523834229, 0.2591390013694763, 0.7343568801879883, 0.006484960205852985, 0.6208785772323608, 0.1573694944381714, 0.22100524604320526, 0.9984970688819885, 0.9720504283905029, 0.02695309743285179, 0.9926179051399231, 0.9990425705909729, 0.894951581954956, 0.10481008142232895, 0.997242271900177, 0.9982014894485474, 0.6832613945007324, 0.0976819321513176, 0.2139272689819336, 0.004992916714400053, 0.881873369216919, 0.11742465198040009, 0.9979172348976135, 0.7615343928337097, 0.15062758326530457, 0.06106523796916008, 0.006869839504361153, 0.019846202805638313, 0.9951679706573486, 0.983674168586731, 0.9971813559532166, 0.9886088967323303, 0.4705078601837158, 0.06419757753610611, 0.3562416732311249, 0.03086421824991703, 0.054183848202228546, 0.023731155321002007, 0.8442357778549194, 0.15540845692157745, 0.9947239756584167, 0.9908714890480042, 0.9839486479759216, 0.9969025254249573, 0.18366284668445587, 0.6908642649650574, 0.12527996301651, 0.9991196990013123, 0.9939419031143188, 0.6377812027931213, 0.3396940231323242, 0.021658344194293022, 0.9851446747779846, 0.9785947203636169, 0.9978095293045044, 0.38789811730384827, 0.6101111173629761, 0.9885498285293579, 0.010935286059975624, 0.9972689151763916, 0.21341171860694885, 0.7846018671989441, 0.9881832003593445, 0.9524502158164978, 0.9990934133529663, 0.9975582957267761, 0.9946874380111694, 0.9978716373443604, 0.9946817755699158, 0.973153829574585, 0.9912366271018982, 0.9946317672729492, 0.4819095730781555, 0.2220126837491989, 0.29555264115333557, 0.9933902025222778, 0.12015608698129654, 0.8775035738945007, 0.987051784992218, 0.5432137250900269, 0.00043180742068216205, 0.10622462630271912, 0.31910568475723267, 0.030658327043056488, 0.28967076539993286, 0.7094917893409729, 0.9966844320297241, 0.9975875020027161, 0.8871853351593018, 0.9976806044578552, 0.8216766715049744, 0.03000371903181076, 0.07394617050886154, 0.0741824209690094, 0.9989543557167053, 0.9982026219367981, 0.9993270039558411, 0.737083911895752, 0.048839036375284195, 0.1333434283733368, 0.0803273618221283, 0.9979715943336487, 0.25747376680374146, 0.6056904196739197, 0.13574548065662384, 0.9984068870544434, 0.9997307658195496, 0.9893850684165955, 0.0522477962076664, 0.08446726948022842, 0.357026606798172, 0.3866336941719055, 0.11668674647808075, 0.0026123898569494486, 0.996495246887207, 0.993543267250061, 0.9970049262046814, 0.9934477806091309, 0.28372886776924133, 0.44254782795906067, 0.002076064934954047, 0.26746636629104614, 0.0038061190862208605, 0.9979793429374695, 0.9819055199623108, 0.9977871179580688, 0.9869377017021179, 0.9949479699134827, 0.9977536201477051, 0.997648298740387, 0.09886401146650314, 0.9004640579223633, 0.9980485439300537, 0.9715742468833923, 0.9414593577384949, 0.05418470874428749, 0.9414235949516296, 0.11703532934188843, 0.8816021680831909, 0.9822574853897095, 0.9964330196380615, 0.6546667814254761, 0.33842942118644714, 0.9970829486846924, 0.9997881054878235, 0.8095257878303528, 0.10840470343828201, 0.08110855519771576, 0.9973366260528564, 0.9976822733879089, 0.9542706608772278, 0.04380258917808533, 0.9984816908836365, 0.7109466195106506, 0.2885000705718994, 0.9826122522354126, 0.08655048906803131, 0.07722966372966766, 0.5246291160583496, 0.17265711724758148, 0.006657729856669903, 0.04527256265282631, 0.08699433505535126, 0.973669707775116, 0.9960994124412537, 0.9987310171127319, 0.9987550377845764, 0.9992555975914001, 0.9975676536560059, 0.15065109729766846, 0.8485653400421143, 0.9949830174446106, 0.9909456372261047, 0.9924064874649048, 0.918427050113678, 0.03706365451216698, 0.04432087391614914, 0.986819863319397, 0.9967993497848511, 0.7159551978111267, 0.28118371963500977, 0.5809612274169922, 0.41786351799964905, 0.9850924015045166, 0.9452896118164062, 0.9987021088600159, 0.9907359480857849, 0.2950746715068817, 0.486202597618103, 0.21627633273601532, 0.8204488158226013, 0.9936919212341309, 0.9967820048332214, 0.030583729967474937, 0.9687603116035461, 0.9993416666984558, 0.7483735084533691, 0.2515680193901062, 0.9911577701568604, 0.8175849914550781, 0.18190287053585052, 0.9961320161819458, 0.11894400417804718, 0.8805160522460938, 0.989155650138855, 0.9182580709457397, 0.08149171620607376, 0.987260103225708, 0.9747948050498962, 0.13861584663391113, 0.8597928881645203, 0.9978094100952148, 0.9993693828582764, 0.9950582981109619, 0.9975123405456543, 0.2846235930919647, 0.11727546155452728, 0.5977095365524292, 0.9977805018424988, 0.9964228868484497, 0.6273608803749084, 0.09878769516944885, 0.05824931710958481, 0.21528632938861847, 0.4789828956127167, 0.5199010372161865, 0.9974189400672913, 0.998701274394989, 0.42514219880104065, 0.13757917284965515, 0.43641915917396545, 0.279186487197876, 0.7204647064208984, 0.9991192817687988, 0.9930262565612793, 0.9647646546363831, 0.9981733560562134, 0.740088701248169, 0.25710874795913696, 0.9983915686607361, 0.9824162721633911, 0.20295089483261108, 0.5356683731079102, 0.04607900232076645, 0.05522703751921654, 0.15992124378681183, 0.9834257364273071, 0.5066616535186768, 0.4923895001411438, 0.9941977858543396, 0.9880880117416382, 0.7115417718887329, 0.2874916195869446, 0.9617202281951904, 0.9834496378898621, 0.9979695677757263, 0.9984322786331177, 0.7116177082061768, 0.28795403242111206, 0.9989566206932068, 0.9599321484565735, 0.9978159070014954, 0.9941772222518921, 0.9935088157653809, 0.9873976707458496, 0.9981714487075806, 0.9390124082565308, 0.03826696425676346, 0.020605286583304405, 0.9843636751174927, 0.014753160998225212, 0.9981086254119873, 0.9667956829071045, 0.03263445198535919, 0.9679108262062073, 0.03071598894894123, 0.9952898025512695, 0.2835272252559662, 0.38359564542770386, 0.33117884397506714, 0.99564129114151, 0.9968470335006714, 0.988425612449646, 0.9884254336357117, 0.010782822966575623, 0.9696571826934814, 0.9844809174537659, 0.9684867858886719, 0.030554553493857384, 0.9966444373130798, 0.9964086413383484, 0.9881381392478943, 0.9972630739212036, 0.6315850019454956, 0.0002804551331792027, 0.36795714497566223, 0.9976525902748108, 0.9921807646751404, 0.9947255849838257, 0.9859070181846619, 0.9960569143295288, 0.989199161529541, 0.8889460563659668, 0.9508663415908813, 0.0025201658718287945, 0.9126600623130798, 0.08460556715726852, 0.9973567128181458, 0.9937276840209961, 0.9651442170143127, 0.0345015786588192, 0.9635953307151794, 0.9987452626228333, 0.9969890713691711, 0.9976519346237183, 0.9976113438606262, 0.9998419880867004, 0.9890432953834534, 0.9941195845603943, 0.9739975333213806, 0.994394063949585, 0.99849534034729, 0.9966930747032166, 0.998505711555481, 0.9494921565055847, 0.9989452362060547, 0.9967127442359924, 0.99628746509552, 0.9985045790672302, 0.09097867459058762, 0.026106923818588257, 0.739696204662323, 0.07911188900470734, 0.0640806332230568, 0.9957128167152405, 0.9980292916297913, 0.9978043437004089, 0.9981057047843933, 0.9493975639343262, 0.043333496898412704, 0.0071625616401433945, 0.9100404381752014, 0.08634927868843079, 0.0033730186987668276, 0.9993590116500854, 0.7404301762580872, 0.2589801847934723, 0.9995456337928772, 0.9987195134162903, 0.9988976716995239, 0.9885991215705872, 0.18535831570625305, 0.10257187485694885, 0.6305306553840637, 0.007810041308403015, 0.0734143853187561, 0.04440278932452202, 0.07030441612005234, 0.34689679741859436, 0.5374587774276733, 0.9833739995956421, 0.9978058338165283, 0.7786219120025635, 0.10413054376840591, 0.8925475478172302, 0.9923855662345886, 0.9958755970001221, 0.9780353307723999, 0.6200655102729797, 0.3781633973121643, 0.9883465766906738, 0.986375093460083, 0.9985214471817017, 0.014477701857686043, 0.9844837188720703, 0.9989891052246094, 0.9981921315193176, 0.9957189559936523, 0.9989848732948303, 0.4096924662590027, 0.05193284898996353, 0.5164433121681213, 0.020773138850927353, 0.9989078640937805, 0.989766538143158, 0.9990493655204773, 0.9970362186431885, 0.997951328754425, 0.9985541105270386, 0.998748242855072, 0.6612202525138855, 0.32733675837516785, 0.948682963848114, 0.9984490275382996, 0.5800102353096008, 0.4180253744125366, 0.0010450634872540832, 0.9965172410011292, 0.0031019991729408503, 0.7105808854103088, 0.2875664532184601, 0.9894188642501831, 0.9987626671791077, 0.9915237426757812, 0.9515368938446045, 0.9858793616294861, 0.9842180609703064, 0.9851881265640259, 0.01358028780668974, 0.9990432262420654, 0.981923520565033, 0.9984146356582642, 0.9841979742050171, 0.9978945255279541, 0.0016225926810875535, 0.9976657032966614, 0.9876956939697266, 0.06308381259441376, 0.06195731833577156, 0.2743019461631775, 0.5525466203689575, 0.047876108437776566, 0.9516600966453552, 0.8683874011039734, 0.1269572228193283, 0.9520322680473328, 0.22311149537563324, 0.7619301676750183, 0.014771215617656708, 0.8049957156181335, 0.012636947445571423, 0.18201638758182526, 0.9751109480857849, 0.02453109249472618, 0.04740538448095322, 0.9481076598167419, 0.9964624047279358, 0.9974968433380127, 0.9967808723449707, 0.9994066953659058, 0.9841194152832031, 0.518917441368103, 0.47655683755874634, 0.4093073010444641, 0.5002644658088684, 0.08924100548028946, 0.9848001003265381, 0.014754735864698887, 0.9895214438438416, 0.16721086204051971, 0.8280918598175049, 0.9991649985313416, 0.9542490839958191, 0.18408609926700592, 0.1957125961780548, 0.616204023361206, 0.999588131904602, 0.9883322715759277, 0.9314133524894714, 0.9750805497169495, 0.9984539151191711, 0.0011431805323809385, 0.9997775554656982, 0.9923585057258606, 0.9958056211471558, 0.9965289831161499, 0.8651960492134094, 0.13293376564979553, 0.9700497388839722, 0.9943470358848572, 0.17062896490097046, 0.8237259984016418, 0.9496293663978577, 0.66313636302948, 0.13666819036006927, 0.18315507471561432, 0.01691925898194313, 0.9753697514533997, 0.6883987784385681, 0.1971883922815323, 0.11267908662557602, 0.9954934120178223, 0.9969393610954285, 0.9843536019325256, 0.9783299565315247, 0.8594664931297302, 0.13685771822929382, 0.9956380128860474, 0.9981091618537903, 0.9822548627853394, 0.9944115877151489, 0.9904757142066956, 0.9895499348640442, 0.7721548676490784, 0.017102692276239395, 0.2102997601032257, 0.9968936443328857, 0.9990645051002502, 0.5529787540435791, 0.39192432165145874, 0.05494501814246178, 0.9970387816429138, 0.9968130588531494, 0.948931872844696, 0.9951338171958923, 0.9983915090560913, 0.9787245392799377, 0.9973148107528687, 0.23921337723731995, 0.0739852786064148, 0.20811563730239868, 0.4666369557380676, 0.011960668489336967, 0.09124988317489624, 0.8625286221504211, 0.04453863203525543, 0.9979893565177917, 0.9916094541549683, 0.9946777820587158, 0.83814537525177, 0.15239006280899048, 0.9106401205062866, 0.5892525911331177, 0.3830704987049103, 0.02591359242796898, 0.5660580396652222, 0.40095776319503784, 0.9985703229904175, 0.997494637966156, 0.9334357380867004, 0.9831843376159668, 0.9742192029953003, 0.4430616796016693, 0.5567255020141602, 0.9981878399848938, 0.9889243245124817, 0.778225839138031, 0.21835114061832428, 0.9950540065765381, 0.8357892036437988, 0.02205967903137207, 0.1365717202425003, 0.005205092951655388, 0.9967937469482422, 0.9742518663406372, 0.9975472688674927, 0.7417356371879578, 0.04880359396338463, 0.20924293994903564, 0.9989193677902222, 0.02772166021168232, 0.6999719142913818, 0.2702861726284027, 0.9902506470680237, 0.9086032509803772, 0.9974477291107178, 0.1920352578163147, 0.8069264888763428, 0.9991115927696228, 0.9965879917144775, 0.9774073362350464, 0.9987050890922546, 0.9951094388961792, 0.667212963104248, 0.331397145986557, 0.9989463090896606, 0.6872925758361816, 0.004745403304696083, 0.003163602203130722, 0.304496705532074, 0.33243894577026367, 0.4548688232898712, 0.21249841153621674, 0.9466750025749207, 0.05292804166674614, 0.9963459968566895, 0.9627527594566345, 0.9542781710624695, 0.8232135772705078, 0.16646963357925415, 0.007165911607444286, 0.0030711048748344183, 0.23373332619667053, 0.7661978006362915, 0.9931712746620178, 0.999294638633728, 0.02780458703637123, 0.8249423503875732, 0.14712348580360413, 0.9922576546669006, 0.9984824061393738], \"Term\": [\"accept\", \"acceptance\", \"accidentally\", \"addition\", \"address\", \"address\", \"address\", \"adequately\", \"adjust\", \"advance\", \"advice\", \"agency\", \"agree\", \"air\", \"allocate\", \"allow\", \"allow\", \"allow\", \"allow\", \"along\", \"also\", \"also\", \"also\", \"also\", \"also\", \"also\", \"also\", \"angel\", \"animal\", \"annoy\", \"answer\", \"answer\", \"answer\", \"anyway\", \"apple\", \"applicable\", \"application\", \"appreciate\", \"arab\", \"arbitrary\", \"area\", \"area\", \"area\", \"argument\", \"argument\", \"arm\", \"arm\", \"arm\", \"armenian\", \"article\", \"article\", \"atheism\", \"atheist\", \"attack\", \"attack\", \"author\", \"author\", \"auto\", \"automate\", \"available\", \"available\", \"available\", \"available\", \"avoid\", \"ax\", \"backup\", \"bad\", \"bad\", \"base\", \"base\", \"base\", \"base\", \"be\", \"be\", \"belief\", \"believe\", \"believe\", \"biblical\", \"bike\", \"birthday\", \"bit\", \"bit\", \"bit\", \"bit\", \"bit\", \"blank\", \"block\", \"blue\", \"board\", \"bomb\", \"book\", \"bother\", \"bother\", \"boundary\", \"boy\", \"build\", \"build\", \"build\", \"bus\", \"buy\", \"cable\", \"cage\", \"call\", \"call\", \"call\", \"call\", \"call\", \"call\", \"can\", \"can\", \"can\", \"cap\", \"captain\", \"car\", \"card\", \"careful\", \"carry\", \"carry\", \"carry\", \"carry\", \"cart\", \"case\", \"case\", \"case\", \"case\", \"cause\", \"cause\", \"certainly\", \"character\", \"characteristic\", \"cheap\", \"child\", \"child\", \"chip\", \"christian\", \"christianity\", \"church\", \"citizen\", \"citizen\", \"civilian\", \"claim\", \"claim\", \"claim\", \"classic\", \"clean\", \"clearly\", \"clipper\", \"close\", \"close\", \"close\", \"close\", \"cock\", \"code\", \"code\", \"color\", \"colt\", \"com\", \"combine\", \"come\", \"come\", \"communication\", \"community\", \"compare\", \"compare\", \"compile\", \"compiler\", \"complexity\", \"compress\", \"compute\", \"computer\", \"computer\", \"conclusion\", \"condition\", \"conference\", \"configuration\", \"confirm\", \"confrontation\", \"consent\", \"contain\", \"contain\", \"context\", \"convert\", \"conviction\", \"cool\", \"cop\", \"core\", \"core\", \"corner\", \"correction\", \"correction\", \"cost\", \"cost\", \"could\", \"could\", \"could\", \"could\", \"count\", \"country\", \"country\", \"country\", \"couple\", \"couple\", \"court\", \"cover\", \"cover\", \"coverage\", \"cpu\", \"crash\", \"create\", \"create\", \"create\", \"creator\", \"creature\", \"crime\", \"crime\", \"criminal\", \"cross\", \"cubic\", \"curve\", \"cycle\", \"cylinder\", \"d\", \"d\", \"d\", \"date\", \"date\", \"datum\", \"datum\", \"datum\", \"daughter\", \"dealer\", \"death\", \"decent\", \"default\", \"defense\", \"defense\", \"defenseless\", \"deliver\", \"deny\", \"deny\", \"depth\", \"development\", \"device\", \"devil\", \"dialog\", \"die\", \"difference\", \"difference\", \"digital\", \"direct\", \"disable\", \"disarm\", \"disease\", \"disk\", \"display\", \"distribution\", \"distribution_usa\", \"division\", \"door\", \"doubt\", \"download\", \"draw\", \"draw\", \"drive\", \"driver\", \"drug\", \"drug\", \"dry\", \"dual\", \"dump\", \"duo\", \"earth\", \"earth\", \"ease\", \"eat\", \"edit\", \"effect\", \"elderly\", \"electrical\", \"elsewhere\", \"email\", \"email\", \"emphasis\", \"encryption\", \"end\", \"end\", \"end\", \"end\", \"end\", \"end\", \"engine\", \"enjoy\", \"entity\", \"entry\", \"error\", \"escalate\", \"escape\", \"esdi\", \"even\", \"even\", \"even\", \"everytime\", \"evidence\", \"excuse\", \"exist\", \"exist\", \"exist\", \"expansion\", \"expensive\", \"experiment\", \"expire\", \"expire\", \"explain\", \"export\", \"exposure\", \"extension\", \"external\", \"extra\", \"face\", \"facility\", \"factory\", \"faith\", \"false\", \"family\", \"fan\", \"faq\", \"fasst\", \"fast\", \"fast\", \"fast\", \"fate\", \"feature\", \"feel\", \"field\", \"field\", \"field\", \"file\", \"final\", \"final\", \"final\", \"find\", \"find\", \"find\", \"find\", \"finger\", \"finish\", \"fire\", \"fire\", \"firearm\", \"first\", \"first\", \"first\", \"first\", \"fish\", \"flight\", \"floor\", \"flyer\", \"follow\", \"follow\", \"follow\", \"follow\", \"follow\", \"follow\", \"follow\", \"font\", \"force\", \"force\", \"force\", \"force\", \"forget\", \"format\", \"fuel\", \"function\", \"function\", \"future\", \"fuzzy\", \"game\", \"gas\", \"generic\", \"genocide\", \"gentile\", \"german\", \"get\", \"get\", \"gift\", \"girl\", \"give\", \"give\", \"give\", \"give\", \"glad\", \"glass\", \"glory\", \"go\", \"go\", \"goal\", \"god\", \"good\", \"good\", \"good\", \"good\", \"government\", \"government\", \"grant\", \"graphic\", \"greatly_appreciate\", \"greek\", \"grip\", \"ground\", \"group\", \"group\", \"group\", \"guilty\", \"gun\", \"guy\", \"happen\", \"hardware\", \"have\", \"have\", \"head\", \"health\", \"heat\", \"help\", \"help\", \"help\", \"here\", \"hi\", \"hide\", \"high\", \"high\", \"hit\", \"hole\", \"home\", \"home\", \"home\", \"host\", \"hot\", \"house\", \"huge\", \"human\", \"icon\", \"ide\", \"ignore\", \"image\", \"imho\", \"implementation\", \"inappropriate\", \"incidentally\", \"incline\", \"include\", \"include\", \"include\", \"include\", \"increase\", \"indeed\", \"indeed\", \"individual\", \"individual\", \"info\", \"info\", \"information\", \"information\", \"information\", \"inhabitant\", \"input\", \"instal\", \"installation\", \"insurance\", \"integration\", \"interested\", \"interface\", \"internal\", \"internet\", \"invasion\", \"investigation\", \"israeli\", \"issue\", \"issue\", \"jewish\", \"jewish\", \"job\", \"jubilees_re\", \"key\", \"keyword\", \"kill\", \"kill\", \"kill\", \"knock\", \"know\", \"know\", \"knowledge\", \"label\", \"laboratory\", \"land\", \"land\", \"language\", \"language\", \"large\", \"large\", \"largely\", \"last\", \"last\", \"last\", \"last\", \"last\", \"launch\", \"law\", \"lead\", \"lead\", \"lead\", \"leadership\", \"leafs\", \"leak\", \"leather\", \"left\", \"legal\", \"lemieux\", \"less\", \"less\", \"less\", \"let\", \"let\", \"level\", \"library\", \"license\", \"licensing\", \"life\", \"life\", \"light\", \"line\", \"link\", \"list\", \"list\", \"load\", \"logic\", \"look\", \"look\", \"look\", \"lose\", \"lose\", \"lose\", \"love\", \"low\", \"low\", \"lunar\", \"machine\", \"mail\", \"mail\", \"main\", \"major\", \"make\", \"make\", \"make\", \"make\", \"man\", \"man\", \"manager\", \"many\", \"many\", \"many\", \"many\", \"many\", \"map\", \"massacre\", \"master\", \"maximum\", \"may\", \"may\", \"may\", \"may\", \"may\", \"may\", \"mean\", \"mean\", \"meaning\", \"medical\", \"medicine\", \"meet\", \"member\", \"member\", \"member\", \"memory\", \"mercy\", \"message\", \"message\", \"message\", \"meter\", \"mid\", \"mile\", \"military\", \"military\", \"mind\", \"mind\", \"mission\", \"mode\", \"mode\", \"modem\", \"module\", \"money\", \"monitor\", \"moon\", \"moral\", \"morality\", \"moslem\", \"motif\", \"mouse\", \"much\", \"much\", \"much\", \"multiple\", \"murder\", \"murder\", \"muslim\", \"must\", \"must\", \"must\", \"must\", \"must\", \"name\", \"name\", \"national\", \"nature\", \"nec_zx\", \"necessary\", \"need\", \"need\", \"need\", \"need\", \"net\", \"network\", \"never\", \"new\", \"new\", \"new\", \"new\", \"news\", \"next\", \"next\", \"next\", \"nice\", \"nntp_poste\", \"noise\", \"non\", \"non\", \"non\", \"non\", \"non\", \"non\", \"normal\", \"northern\", \"notice\", \"nuclear\", \"number\", \"number\", \"number\", \"number\", \"number\", \"object\", \"observer\", \"obviously\", \"occupation\", \"occupy\", \"office\", \"official\", \"often\", \"often\", \"oil\", \"oiler\", \"ok\", \"ok\", \"okay\", \"open\", \"open\", \"openwindow\", \"operate\", \"opportunity\", \"opportunity\", \"orbit\", \"organization\", \"other\", \"other\", \"other\", \"output\", \"own\", \"pack\", \"pack\", \"package\", \"page\", \"page\", \"parameter\", \"part\", \"part\", \"part\", \"part\", \"part\", \"part\", \"part\", \"partially\", \"particularly\", \"pass\", \"patient\", \"pay\", \"pc\", \"peace\", \"peace\", \"pen\", \"penalty\", \"penguin\", \"people\", \"people\", \"people\", \"percentage\", \"performance\", \"period\", \"period\", \"person\", \"person\", \"phase\", \"philly\", \"phone\", \"physician\", \"pick\", \"pick\", \"pick\", \"pistol\", \"pitch\", \"plane\", \"play\", \"play\", \"player\", \"point\", \"point\", \"pointer\", \"police\", \"police\", \"port\", \"post\", \"post\", \"postscript\", \"power\", \"power\", \"preach\", \"prescription\", \"press\", \"press\", \"prevent\", \"price\", \"printer\", \"private\", \"problem\", \"problem\", \"problem\", \"processor\", \"production\", \"program\", \"program\", \"program\", \"program\", \"project\", \"project\", \"proper\", \"protect\", \"prove\", \"prove\", \"prove\", \"provide\", \"provide\", \"public\", \"publication\", \"publicly\", \"publish\", \"pull\", \"pull\", \"purpose\", \"quadra\", \"question\", \"question\", \"question\", \"question\", \"question\", \"quit\", \"quote\", \"quote\", \"radiation\", \"rape\", \"rate\", \"rate\", \"ratio\", \"reactor\", \"reality\", \"realize\", \"reason\", \"reason\", \"receive\", \"redesign\", \"reduce\", \"reflect\", \"reject\", \"relationship\", \"religion\", \"religious\", \"religious\", \"religious\", \"remember\", \"remember\", \"replace\", \"reply\", \"reply\", \"report\", \"report\", \"requirement\", \"research\", \"research\", \"research\", \"resolution\", \"respect\", \"restore\", \"result\", \"result\", \"retire\", \"retrieve\", \"return\", \"return\", \"revelation\", \"review\", \"revolver\", \"ride\", \"right\", \"right\", \"right\", \"risk\", \"rocket\", \"role\", \"roman\", \"room\", \"routine\", \"rude\", \"ruin\", \"run\", \"run\", \"run\", \"running\", \"russian\", \"s\", \"s\", \"sabre\", \"sale\", \"satellite\", \"saturn\", \"save\", \"say\", \"scale\", \"scare\", \"scene\", \"schedule\", \"science\", \"scientific\", \"score\", \"scorer\", \"screen\", \"scripture\", \"scsi\", \"season\", \"second\", \"second\", \"second\", \"second\", \"second\", \"secret\", \"section\", \"secure\", \"security\", \"see\", \"see\", \"see\", \"seem\", \"seem\", \"seem\", \"sell\", \"send\", \"send\", \"sense\", \"serious\", \"server\", \"session\", \"set\", \"set\", \"set\", \"set\", \"set\", \"several\", \"several\", \"several\", \"several\", \"sgi\", \"shall\", \"sharing\", \"shoot\", \"shoot\", \"shuttle\", \"significant\", \"sister\", \"size\", \"size\", \"sky\", \"slaughter\", \"slow\", \"small\", \"small\", \"software\", \"soldier\", \"solid\", \"soon\", \"source\", \"source\", \"source\", \"source\", \"space\", \"spacecraft\", \"speak\", \"special\", \"specify\", \"speed\", \"spend\", \"spot\", \"spot\", \"stall\", \"stand\", \"standard\", \"standard\", \"standard\", \"state\", \"state\", \"steal\", \"steal\", \"stone\", \"story\", \"stream\", \"strictly\", \"stroke\", \"stuck\", \"study\", \"study\", \"stuff\", \"subjective\", \"suggest\", \"suitable\", \"summary\", \"summary\", \"sun\", \"superior\", \"support\", \"support\", \"support\", \"support\", \"support\", \"swear\", \"switch\", \"switch\", \"synchronous\", \"system\", \"system\", \"system\", \"take\", \"take\", \"take\", \"talk\", \"talk\", \"tank\", \"tank\", \"tap\", \"tape\", \"teach\", \"team\", \"tear\", \"technical\", \"technical\", \"technology\", \"technology\", \"technology\", \"tell\", \"tell\", \"terminal\", \"terrorism\", \"terrorism\", \"test\", \"testing\", \"text\", \"text\", \"text\", \"thank\", \"thermal\", \"thesis\", \"thick\", \"thing\", \"thing\", \"think\", \"thinking\", \"though\", \"thread\", \"throw\", \"throw\", \"thumb\", \"ticket\", \"tie\", \"tie\", \"tighten\", \"time\", \"time\", \"time\", \"time\", \"tip\", \"top\", \"top\", \"top\", \"town\", \"trade\", \"traditional\", \"translate\", \"treat\", \"treat\", \"treatment\", \"trial\", \"trigger\", \"trip\", \"trivial\", \"troop\", \"true\", \"true\", \"true\", \"trust\", \"truth\", \"try\", \"try\", \"try\", \"turk\", \"turkish\", \"turning\", \"univ\", \"university\", \"unknown\", \"update\", \"use\", \"use\", \"use\", \"use\", \"use\", \"user\", \"user\", \"user\", \"usually\", \"utility\", \"vehicle\", \"vendor\", \"vendor\", \"verification\", \"version\", \"version\", \"version\", \"victory\", \"victory\", \"video\", \"village\", \"vitamin\", \"volt\", \"voting\", \"want\", \"want\", \"war\", \"warrant\", \"watch\", \"watch\", \"water\", \"way\", \"way\", \"way\", \"way\", \"weapon\", \"weeks_ago\", \"weight\", \"well\", \"well\", \"well\", \"whole\", \"wide\", \"wide\", \"wide\", \"widget\", \"wild_corn\", \"willing\", \"win\", \"win\", \"window\", \"wing\", \"winter\", \"wire\", \"withdraw\", \"woman\", \"woman\", \"wonder\", \"word\", \"word\", \"word\", \"word\", \"work\", \"work\", \"work\", \"world\", \"world\", \"worry\", \"worse\", \"worthwhile\", \"would\", \"would\", \"would\", \"would\", \"write\", \"write\", \"writing\", \"wrong\", \"year\", \"year\", \"year\", \"yesterday\", \"young\"]}, \"R\": 30, \"lambda.step\": 0.01, \"plot.opts\": {\"xlab\": \"PC1\", \"ylab\": \"PC2\"}, \"topic.order\": [2, 19, 10, 20, 4, 11, 7, 3, 17, 15, 12, 1, 13, 9, 8, 5, 14, 16, 6, 18]};\n",
       "\n",
       "function LDAvis_load_lib(url, callback){\n",
       "  var s = document.createElement('script');\n",
       "  s.src = url;\n",
       "  s.async = true;\n",
       "  s.onreadystatechange = s.onload = callback;\n",
       "  s.onerror = function(){console.warn(\"failed to load library \" + url);};\n",
       "  document.getElementsByTagName(\"head\")[0].appendChild(s);\n",
       "}\n",
       "\n",
       "if(typeof(LDAvis) !== \"undefined\"){\n",
       "   // already loaded: just create the visualization\n",
       "   !function(LDAvis){\n",
       "       new LDAvis(\"#\" + \"ldavis_el11764401333123496237417272\", ldavis_el11764401333123496237417272_data);\n",
       "   }(LDAvis);\n",
       "}else if(typeof define === \"function\" && define.amd){\n",
       "   // require.js is available: use it to load d3/LDAvis\n",
       "   require.config({paths: {d3: \"https://cdnjs.cloudflare.com/ajax/libs/d3/3.5.5/d3.min\"}});\n",
       "   require([\"d3\"], function(d3){\n",
       "      window.d3 = d3;\n",
       "      LDAvis_load_lib(\"https://cdn.rawgit.com/bmabey/pyLDAvis/files/ldavis.v1.0.0.js\", function(){\n",
       "        new LDAvis(\"#\" + \"ldavis_el11764401333123496237417272\", ldavis_el11764401333123496237417272_data);\n",
       "      });\n",
       "    });\n",
       "}else{\n",
       "    // require.js not available: dynamically load d3 & LDAvis\n",
       "    LDAvis_load_lib(\"https://cdnjs.cloudflare.com/ajax/libs/d3/3.5.5/d3.min.js\", function(){\n",
       "         LDAvis_load_lib(\"https://cdn.rawgit.com/bmabey/pyLDAvis/files/ldavis.v1.0.0.js\", function(){\n",
       "                 new LDAvis(\"#\" + \"ldavis_el11764401333123496237417272\", ldavis_el11764401333123496237417272_data);\n",
       "            })\n",
       "         });\n",
       "}\n",
       "</script>"
      ],
      "text/plain": [
       "PreparedData(topic_coordinates=              x         y  topics  cluster       Freq\n",
       "topic                                                \n",
       "1     -0.335364 -0.218267       1        1  28.081543\n",
       "18    -0.302094 -0.145496       2        1  18.161081\n",
       "9     -0.271703 -0.004746       3        1  15.587171\n",
       "19    -0.213096  0.101498       4        1   8.115514\n",
       "3      0.014951  0.120978       5        1   5.748421\n",
       "10    -0.144782  0.267471       6        1   5.683761\n",
       "6     -0.129297  0.186518       7        1   5.130862\n",
       "2     -0.061629 -0.075713       8        1   2.127748\n",
       "16    -0.004350  0.061572       9        1   1.972859\n",
       "14    -0.017451 -0.093337      10        1   1.926053\n",
       "11     0.069867  0.073902      11        1   1.423711\n",
       "0      0.119248  0.021321      12        1   1.152807\n",
       "12     0.109364 -0.008476      13        1   1.039025\n",
       "8      0.085700 -0.055339      14        1   0.971691\n",
       "7      0.131271 -0.009902      15        1   0.884116\n",
       "4      0.160936 -0.037339      16        1   0.697312\n",
       "13     0.172486 -0.042857      17        1   0.449721\n",
       "15     0.198590 -0.044309      18        1   0.375321\n",
       "5      0.200525 -0.048632      19        1   0.334409\n",
       "17     0.216827 -0.048847      20        1   0.136876, topic_info=              Term          Freq         Total Category  logprob  loglift\n",
       "3718            ax  36366.000000  36366.000000  Default  30.0000  30.0000\n",
       "18            line  15681.000000  15681.000000  Default  29.0000  29.0000\n",
       "197          write  13138.000000  13138.000000  Default  28.0000  28.0000\n",
       "39            year   4567.000000   4567.000000  Default  27.0000  27.0000\n",
       "140         people   7716.000000   7716.000000  Default  26.0000  26.0000\n",
       "...            ...           ...           ...      ...      ...      ...\n",
       "6226  redistribute      0.026006      1.250050  Topic20 -11.0266   2.7212\n",
       "6951     judgement      0.026006      1.250067  Topic20 -11.0266   2.7212\n",
       "9115      tomorrow      0.026006      1.250073  Topic20 -11.0266   2.7212\n",
       "5664  announcement      0.026006      1.250101  Topic20 -11.0266   2.7212\n",
       "4072          baby      0.026006      1.250077  Topic20 -11.0266   2.7212\n",
       "\n",
       "[870 rows x 6 columns], token_table=      Topic      Freq          Term\n",
       "term                               \n",
       "1227      1  0.999126        accept\n",
       "345      15  0.914242    acceptance\n",
       "326      17  0.943397  accidentally\n",
       "0         7  0.998330      addition\n",
       "175       2  0.407881       address\n",
       "...     ...       ...           ...\n",
       "39        1  0.027805          year\n",
       "39        3  0.824942          year\n",
       "39       14  0.147123          year\n",
       "722      13  0.992258     yesterday\n",
       "570       1  0.998482         young\n",
       "\n",
       "[1125 rows x 3 columns], R=30, lambda_step=0.01, plot_opts={'xlab': 'PC1', 'ylab': 'PC2'}, topic_order=[2, 19, 10, 20, 4, 11, 7, 3, 17, 15, 12, 1, 13, 9, 8, 5, 14, 16, 6, 18])"
      ]
     },
     "execution_count": 20,
     "metadata": {},
     "output_type": "execute_result"
    }
   ],
   "source": [
    "# Visualize the topics\n",
    "pyLDAvis.enable_notebook()\n",
    "vis = pyLDAvis.gensim.prepare(lda_model, corpus, id2word)\n",
    "vis"
   ]
  },
  {
   "cell_type": "code",
   "execution_count": null,
   "metadata": {},
   "outputs": [],
   "source": []
  }
 ],
 "metadata": {
  "kernelspec": {
   "display_name": "Python 3",
   "language": "python",
   "name": "python3"
  },
  "language_info": {
   "codemirror_mode": {
    "name": "ipython",
    "version": 3
   },
   "file_extension": ".py",
   "mimetype": "text/x-python",
   "name": "python",
   "nbconvert_exporter": "python",
   "pygments_lexer": "ipython3",
   "version": "3.6.10"
  }
 },
 "nbformat": 4,
 "nbformat_minor": 4
}
