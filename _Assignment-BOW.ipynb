{
 "cells": [
  {
   "cell_type": "markdown",
   "metadata": {},
   "source": [
    "# PRAVEER SAXENA"
   ]
  },
  {
   "cell_type": "markdown",
   "metadata": {},
   "source": [
    "Task: Pick your own document (say A) and create BOW using a count vectorizer. Use another document (say B) and identify how many words of the B document are present in the BOW of A. "
   ]
  },
  {
   "cell_type": "code",
   "execution_count": 1,
   "metadata": {},
   "outputs": [],
   "source": [
    "#Import required Libraries\n",
    "from sklearn.feature_extraction.text import CountVectorizer \n",
    "from nltk.corpus import stopwords\n"
   ]
  },
  {
   "cell_type": "code",
   "execution_count": 2,
   "metadata": {},
   "outputs": [],
   "source": [
    "#Let we have two documents as follows\n",
    "documentA=['I LOVE MACHINE LEARNING','DEEP LEARNING IS SUB PART OF MACHINE LEARNING']\n",
    "documentB=['THERE ARE SEVERAL APPPLICATIONS OF MACHINE LEARNING,IT HELPS MACHINE TO LEARN']"
   ]
  },
  {
   "cell_type": "code",
   "execution_count": 3,
   "metadata": {},
   "outputs": [],
   "source": [
    "#WITHOUT REMOVING STOP WORDS"
   ]
  },
  {
   "cell_type": "code",
   "execution_count": 4,
   "metadata": {},
   "outputs": [
    {
     "name": "stdout",
     "output_type": "stream",
     "text": [
      "{'love': 3, 'machine': 4, 'learning': 2, 'deep': 0, 'is': 1, 'sub': 7, 'part': 6, 'of': 5}\n"
     ]
    }
   ],
   "source": [
    "# create the transform\n",
    "vectorizer = CountVectorizer()\n",
    "# tokenize and build vocab from documentA\n",
    "vectorizer.fit(documentA)\n",
    "# summarize\n",
    "print(vectorizer.vocabulary_)\n"
   ]
  },
  {
   "cell_type": "code",
   "execution_count": 5,
   "metadata": {},
   "outputs": [
    {
     "name": "stdout",
     "output_type": "stream",
     "text": [
      "The text present at [[0 0 1 0 2 1 0 0]]\n"
     ]
    }
   ],
   "source": [
    "#lETS ENCODE DOCUMENT B AND CHECK HOW MANY WORDS OF DOCUMENT B ARE IN DOCUMENT A\n",
    "vector = vectorizer.transform(documentB)\n",
    "print('The text present at',vector.toarray())"
   ]
  },
  {
   "cell_type": "code",
   "execution_count": 6,
   "metadata": {},
   "outputs": [],
   "source": [
    "# WE CAN SEE THERE ARE THREE WORDS of B in A\n",
    "# The word MACHINE  is APPEARING twice\n"
   ]
  },
  {
   "cell_type": "code",
   "execution_count": 7,
   "metadata": {},
   "outputs": [],
   "source": [
    "#Removing stop words"
   ]
  },
  {
   "cell_type": "code",
   "execution_count": 8,
   "metadata": {},
   "outputs": [
    {
     "name": "stdout",
     "output_type": "stream",
     "text": [
      "{'love': 2, 'machine': 3, 'learning': 1, 'deep': 0, 'sub': 4}\n"
     ]
    }
   ],
   "source": [
    "# create the transform\n",
    "vectorizer = CountVectorizer(stop_words='english')\n",
    "# tokenize and build vocab from documentA\n",
    "vectorizer.fit(list(documentA))\n",
    "# summarize\n",
    "print(vectorizer.vocabulary_)"
   ]
  },
  {
   "cell_type": "code",
   "execution_count": 9,
   "metadata": {},
   "outputs": [
    {
     "name": "stdout",
     "output_type": "stream",
     "text": [
      "The text present at [[0 1 0 2 0]]\n"
     ]
    }
   ],
   "source": [
    "#lETS ENCODE DOCUMENT B AND CHECK HOW MANY WORDS OF DOCUMENT B ARE IN DOCUMENT A\n",
    "vector = vectorizer.transform(documentB)\n",
    "print('The text present at',vector.toarray())"
   ]
  },
  {
   "cell_type": "code",
   "execution_count": 10,
   "metadata": {},
   "outputs": [],
   "source": [
    "#Now there are just 02 words of Document B in A\n",
    "# Again the word MACHINE IS APPEARING TWICE"
   ]
  }
 ],
 "metadata": {
  "kernelspec": {
   "display_name": "Python 3",
   "language": "python",
   "name": "python3"
  },
  "language_info": {
   "codemirror_mode": {
    "name": "ipython",
    "version": 3
   },
   "file_extension": ".py",
   "mimetype": "text/x-python",
   "name": "python",
   "nbconvert_exporter": "python",
   "pygments_lexer": "ipython3",
   "version": "3.6.10"
  }
 },
 "nbformat": 4,
 "nbformat_minor": 4
}
