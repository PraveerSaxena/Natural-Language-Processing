{
 "cells": [
  {
   "cell_type": "markdown",
   "metadata": {},
   "source": [
    "# PRAVEER SAXENA"
   ]
  },
  {
   "cell_type": "markdown",
   "metadata": {},
   "source": [
    "Task 2: Pick your choice of document and update the emotion document accordingly (you document words and associated emotion where applicable) and analyse the sentiments of people."
   ]
  },
  {
   "cell_type": "code",
   "execution_count": 1,
   "metadata": {},
   "outputs": [],
   "source": [
    "#Import required libraries\n",
    "import nltk\n",
    "import string\n",
    "from collections import Counter\n",
    "import matplotlib.pyplot as plt\n",
    "from nltk.corpus import stopwords\n",
    "from nltk.sentiment.vader import SentimentIntensityAnalyzer\n",
    "from nltk.stem import WordNetLemmatizer\n",
    "from nltk.tokenize import word_tokenize\n",
    "import warnings\n",
    "warnings.filterwarnings('ignore')"
   ]
  },
  {
   "cell_type": "code",
   "execution_count": 2,
   "metadata": {
    "scrolled": true
   },
   "outputs": [
    {
     "name": "stdout",
     "output_type": "stream",
     "text": [
      "﻿As soon as my mother drove away last August, leaving me at the University of Maryland, alone, I began my journey of becoming an adult; at least I feel like I did. I remember walking into the building where I was going to live for the next year, feeling really old. “I am a college freshman,” I thought to myself. I did not know what to expect out of my freshman year. They say that college is a time of self-discovery, full of both trials and prosperity, and lasting memories and friends. Little did I know, my first year of college would bring about so many experiences, both positive and negative, that would forever change me.\n",
      "The first couple of weeks were a complete party. All freshmen around me were completely enthralled by the newfound freedom that college came with. We could stay up and out as late as we wanted to without any questions. We could eat whatever we wanted and have our rooms as messy as we wanted. We were with friends twenty-four hours a day, creating close bonds and friendships. Freedom does not come without a struggle, and we as freshman had to struggle with high school, parents, and even petty drama for the freedom we obtained the minute we walked onto the college campus. Some people went a little too wild with their newfound freedom, regretting many of the things they did with the freedom. Others proceeded with caution, sometimes a little too much. I like to think that I found a healthy medium between the two.In high school, I considered myself smart. Things came easily. Nothing was too much of a challenge for me. Therefore, coming to college, I did not expect that things would be much harder. What made me find myself terribly mistaken was my first English paper. I worked hard on it and expected a good grade. I got a C. Upon receiving my grade, my heart dropped. It was hard and not to mention new for me. I did not get bad grades. Ever. I considered my work to be “A” work, especially by my own standards. Even so, I was very misguided in the mindset of the work I had to do in college coming to school. It is not supposed to be easy, as nothing in life is. Even though the grade was upsetting at first, it provided me with a spark. I pushed myself harder, harder than I ever had to work. I spent countless numbers of hours on the following papers, drafting, writing, and editing in an endless cycle. It paid off; I saw improvement with each paper. Although I ended up not getting the coveted “A” I sought, I got a proud “B+,” the hardest “B+” I ever had to work for. From my experience with my first of many college-level English classes, I learned a lot, both academically and outside of the classroom. I learned much about writing and rhetoric. But more importantly, I learned two essential things: nothing comes easy and learning the material is far more important than the grades I received.The classroom is not the only place where learning takes place. I have learned so much from the relationships I have made. I have made incredible bonds with the amazing people I met this year. From each and every person, I have learned a different thing, whether it is something from their religion or culture or the way in which they view and live their life. I feel that chance has brought me here to learn from them, and I must take it for what it is, being incredibly lucky to have such pleasure to broaden myself and my personal views and knowledge.\n",
      "The experiences and memories are priceless. There is nothing I could ask for in exchange for the things I have both learned and been through here at Maryland. My advice to the incoming class of 2010 is to make lasting memories. Take chances. Be careful. Work hard. Learn in class and out of class. Open your mind. Take what comes at you for what it is. And most importantly, live the life you have been given.\n"
     ]
    }
   ],
   "source": [
    "#Lets open the text file\n",
    "text = open('firstday.txt', encoding=\"utf-8\").read()\n",
    "\n",
    "print(text)\n",
    "\n",
    "\n"
   ]
  },
  {
   "cell_type": "code",
   "execution_count": 3,
   "metadata": {},
   "outputs": [],
   "source": [
    "#Lets convert it into lower case\n",
    "lower_case = text.lower()\n",
    "\n",
    "# str.maketrans removes any punctuations \n",
    "cleaned_text = lower_case.translate(str.maketrans('', '', string.punctuation))\n",
    "\n",
    "# Using word_tokenize to tokenize sentence into words\n",
    "tokenized_words = word_tokenize(cleaned_text, \"english\")"
   ]
  },
  {
   "cell_type": "code",
   "execution_count": 4,
   "metadata": {},
   "outputs": [],
   "source": [
    "# Removing Stop Words\n",
    "final_words = []\n",
    "\n",
    "for word in tokenized_words:\n",
    "    if word not in stopwords.words('english'):\n",
    "        final_words.append(word)"
   ]
  },
  {
   "cell_type": "code",
   "execution_count": 5,
   "metadata": {},
   "outputs": [],
   "source": [
    "# Lemmatization - From plural to single + Base form of a word (example better-> good)\n",
    "\n",
    "lemma_words = []\n",
    "\n",
    "for word in final_words:\n",
    "    word = WordNetLemmatizer().lemmatize(word)\n",
    "    lemma_words.append(word)"
   ]
  },
  {
   "cell_type": "code",
   "execution_count": 6,
   "metadata": {},
   "outputs": [
    {
     "name": "stdout",
     "output_type": "stream",
     "text": [
      "People emotions from the text \n",
      " [' happy', ' happy', ' happy', ' alone'] \n",
      " \n",
      "\n",
      "Count of each emotion \n",
      " Counter({' happy': 3, ' alone': 1})\n"
     ]
    }
   ],
   "source": [
    "#Lets open the emotion document and find emotion present in our text\n",
    "emotion_list = []\n",
    "\n",
    "with open('emotions.txt', 'r') as file:\n",
    "    for line in file:\n",
    "        clear_line = line.replace(\"\\n\", '').replace(\",\", '').replace(\"'\", '').strip()\n",
    "        word, emotion = clear_line.split(':')\n",
    "\n",
    "        if word in lemma_words:\n",
    "            emotion_list.append(emotion)\n",
    "            \n",
    "print(\"People emotions from the text \\n\", emotion_list, '\\n \\n')\n",
    "\n",
    "\n",
    "w = Counter(emotion_list)\n",
    "print(\"Count of each emotion \\n\", w)"
   ]
  },
  {
   "cell_type": "code",
   "execution_count": 7,
   "metadata": {},
   "outputs": [
    {
     "data": {
      "image/png": "[encoded data removed]",
      "text/plain": [
       "<Figure size 432x288 with 1 Axes>"
      ]
     },
     "metadata": {
      "needs_background": "light"
     },
     "output_type": "display_data"
    }
   ],
   "source": [
    "fig, ax1 = plt.subplots()\n",
    "ax1.bar(w.keys(), w.values())\n",
    "fig.autofmt_xdate()\n",
    "plt.savefig('graph.png')\n",
    "plt.show()"
   ]
  }
 ],
 "metadata": {
  "kernelspec": {
   "display_name": "Python 3",
   "language": "python",
   "name": "python3"
  },
  "language_info": {
   "codemirror_mode": {
    "name": "ipython",
    "version": 3
   },
   "file_extension": ".py",
   "mimetype": "text/x-python",
   "name": "python",
   "nbconvert_exporter": "python",
   "pygments_lexer": "ipython3",
   "version": "3.6.10"
  }
 },
 "nbformat": 4,
 "nbformat_minor": 2
}
